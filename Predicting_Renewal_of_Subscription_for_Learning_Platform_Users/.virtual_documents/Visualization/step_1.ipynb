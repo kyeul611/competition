


import pandas as pd


data = pd.read_csv("../data/train.csv")


pd.read_csv("../data/data_info.csv")


data.sample(10)


data.isnull().sum()


display(data.describe())
display(data.describe(include='O'))


# 1. 구독 유지 비율 확인


print(data['target'].value_counts())
print(data['target'].value_counts(normalize=True))


import plotly.graph_objects as go
import plotly.offline as pyo
pyo.init_notebook_mode()








df2 = data.groupby('subscription_type').count()
df2


df3 = data.groupby('preferred_difficulty_level').count()
df3


df4 = data.groupby('payment_pattern').count()
df4


from plotly.subplots import make_subplots

# 여러 개의 plot을 그린다
fig = make_subplots(rows=1,
                    cols=3,
                    subplot_titles=("구독 유형", "선호하는 난이도", "결제 유형"))

# 구독유형 Bar chart
fig.add_trace(
    go.Bar(
        x = df2.index, # Basic or Premium
        y = df2['user_id'], # group별 count
        name = '구독 유형',
        text = df2['user_id'], # Bar 내부에 데이터 값 표시
        # textposition='auto'
    ),
    # subplot에서 위치
    row=1,
    col=1
)

# 선호하는 난이도 Bar chart
fig.add_trace(
    go.Bar(
        x = df3.index,
        y = df3['user_id'],
        name = '선호하는 난이도',
        text = df3['user_id'], #
        # textposition = 'auto'
    ),
    # subplot에서 위치
    row=1,
    col=2
)

# 결제 유형 Bar chart
fig.add_trace(
    go.Bar(
        x = df4.index,
        y = df4['user_id'],
        name='결제 유형', 
        text = df4['user_id'],
        # textposition='auto'
    ),
    row=1,
    col=3
)



fig.update_layout(
    autosize=False,
    width=1200,
    # height=800
    showlegend=True,
    title_text="범주형 분포 확인"
)






data.groupby('target')['subscription_type'].value_counts(normalize=True)


# target 값에 따라 데이터 프레임 분리
df2_target_0 = data[data['target'] == 0].groupby('subscription_type').count()
df2_target_1 = data[data['target'] == 1].groupby('subscription_type').count()
# df2 = data.groupby('subscriptsion').count()

fig = go.Figure()

# Target 0 : 구독 해지
fig.add_trace(
    go.Bar(
        x = df2_target_0.index,
        y = df2_target_0['user_id'],
        name = "구독 해지",
        text = df2_target_0['user_id']
    )
)

# Target 1: 구독 유지
fig.add_trace(
    go.Bar(
        x = df2_target_1.index,
        y = df2_target_1['user_id'],
        name = '구독 유지',
        text = df2_target_1['user_id']
    )
)

fig.update_layout(
    autosize=False,
    barmode='group', # default 같음
    showlegend=True,
    title_text="구독 유형에 따른 유지 여부"
)

fig.show()





print(data.groupby('preferred_difficulty_level')['target'].value_counts(normalize=True))
print("유지 여부 별 난이도")
print(data.groupby('target')['preferred_difficulty_level'].value_counts(normalize=True))


df3_target_0 = data[data['target']==0].groupby('preferred_difficulty_level').count()
df3_target_1 = data[data['target']==1].groupby('preferred_difficulty_level').count()
df3 = data.groupby('preferred_difficulty_level').count()


# fig = make_subplots(rows=2,
#                     cols=2,
#                     # subplot_titles=("선호하는 난이도 별 구독 유지 여부", "구독 유지 여부 별 선호하는 난이도")
#                    )

fig = go.Figure()

fig.add_trace(
    go.Bar(
        x = df3_target_0.index,
        y = df3_target_0['user_id'],
        name = '구독 해제',
        text = df3_target_0['user_id']
    ),
    # row=1,
    # col=1
)

fig.add_trace(
    go.Bar(
        x = df3_target_1.index,
        y = df3_target_1['user_id'],
        name='구독 유지',
        text = df3_target_1['user_id']
    ),
    # row=1,
    # col=2
)

fig.update_layout(
    autosize=False,
    showlegend=True,
    title_text="선호하는 난이도별 구독 유지 여부"
)

fig.show()





data.groupby('payment_pattern')['target'].value_counts(normalize=True)






