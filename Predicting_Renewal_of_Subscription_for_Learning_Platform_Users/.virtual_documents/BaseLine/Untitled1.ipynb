





import pandas as pd
from sklearn.model_selection import train_test_split
from sklearn.ensemble import RandomForestClassifier
from sklearn.metrics import f1_score

import lightgbm as lgb


# load dataset
train = pd.read_csv('../data/train.csv')
test = pd.read_csv('../data/test.csv')


train





# 데이터 크기 및 샘플
print(train.shape, test.shape)
train.sample(10)


train.info()


train.describe()


# 타겟 갯수 확인
train['target'].value_counts()


# 타겟 분포를 비율로 확인
train['target'].value_counts(normalize=True)


# 결측치 확인
display(train.isnull().sum())


display(test.isnull().sum())


# 범주형 변수 기초 통계
train.select_dtypes(include='object')


cols = train.select_dtypes(include="object").columns
display(train[cols].describe(include='O'))
display(test[cols].describe(include='O'))


train[cols].describe()


# 아래처럼 간단히 사용하는 방법이 가장 좋아보인다. 
# 범주형 데이터에 대해서는 describe(include="O")!!
train.describe(include='O')





# id 제거
train = train.drop("user_id", axis=1)
test_id = test.pop("user_id") # 제출 시 user_id에 매핑할 용도겟
test_id


# get_dummies를 사용해 인코딩 예시
# 범주형 데이터를 수치형 가변수로 생성함
display(train[['preferred_difficulty_level']])
pd.get_dummies(train)[['preferred_difficulty_level_High','preferred_difficulty_level_Low','preferred_difficulty_level_Medium']] 


# get_dummies를 사용해 인코딩
dummies_train = pd.get_dummies(train)
dummies_test = pd.get_dummies(test)


# validation set 생성
x_train, x_valid, y_train, y_valid = train_test_split(dummies_train.drop('target', axis=1), # X
                                                      train['target'], # Y
                                                      test_size=0.2,
                                                      random_state=42)





# random forest
rf = RandomForestClassifier(random_state=42)
rf.fit(x_train, y_train)
rf.score(x_train, y_train)


# 평가
pred = rf.predict(x_valid)
print("f1: ", f1_score(y_valid, pred))
print("f1-macro: ", f1_score(y_valid, pred, average='macro'))


# lightGBM
lg = lgb.LGBMClassifier(random_state=0)
lg.fit(x_train, y_train)
lg.score(x_train, y_train)


pred = lg.predict(x_valid)

# 평가
print("f1: ", f1_score(y_valid, pred))
print("f1-macro: ",f1_score(y_valid, pred, average='macro'))


test


# test 예측 및 제출 파일 생성
pred_test = lg.predict(dummies_test)
submit = pd.read_csv('../data/sample_submission.csv')
submit['target'] = pred_test
submit.to_csv('baseline-lightgbm.csv', index=False)



