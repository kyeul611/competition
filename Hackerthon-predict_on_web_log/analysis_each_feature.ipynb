{
 "cells": [
  {
   "cell_type": "markdown",
   "metadata": {},
   "source": [
    "각 변수의 데이터 종류\n",
    "+ sessionID: 각 세션을 표현하는 Key값. 중복없음.\n",
    "+ [userID](##userID) : 80%의 유저는 한번의 session을 발생시킴. 2번 이상 접속한 인원은 26258명\n",
    "+ [TARGET](##target) : 수치/연속형 자료. 값의 범위는 1.0 ~ 386.0. float형이지만 모두 정수값만 있음.\n",
    "+ [browser](##browser) : 범주형. 70개의 브라우저가 사용됨. 특히 빈도가 1인 값들은 특정 브라우저를 알 수 없는 값. Null로 간주해도 될 것으로 보임\n",
    "+ [OS](##OS) : 범주형. 20개의 OS가 사용됨. Null 값이 존재하는데, (not set)이란 형태로 되어있다.\n",
    "+ [devices](##device) : 범주형. 3개의 데이터가 사용됨. 66%가 PC, 30%가 mobile, 나머지 약 4%가 tablet\n"
   ]
  },
  {
   "cell_type": "code",
   "execution_count": 2,
   "metadata": {},
   "outputs": [
    {
     "name": "stderr",
     "output_type": "stream",
     "text": [
      "C:\\Users\\kyeul\\AppData\\Local\\Temp\\ipykernel_19576\\100573275.py:1: DeprecationWarning: \n",
      "Pyarrow will become a required dependency of pandas in the next major release of pandas (pandas 3.0),\n",
      "(to allow more performant data types, such as the Arrow string type, and better interoperability with other libraries)\n",
      "but was not found to be installed on your system.\n",
      "If this would cause problems for you,\n",
      "please provide us feedback at https://github.com/pandas-dev/pandas/issues/54466\n",
      "        \n",
      "  import pandas as pd\n"
     ]
    }
   ],
   "source": [
    "import pandas as pd\n",
    "import numpy as np\n",
    "import os\n",
    "import random\n",
    "\n",
    "import matplotlib.pyplot as plt\n",
    "import seaborn as sns\n",
    "\n",
    "from datetime import datetime\n",
    "\n",
    "from sklearn.preprocessing import LabelEncoder\n",
    "from sklearn.linear_model import Lasso"
   ]
  },
  {
   "cell_type": "markdown",
   "metadata": {},
   "source": [
    "## Fixed Random-Seed\n",
    "동일한 결과를 위한 seed 고정"
   ]
  },
  {
   "cell_type": "code",
   "execution_count": 3,
   "metadata": {},
   "outputs": [],
   "source": [
    "def seed_everything(seed):\n",
    "    random.seed(seed)\n",
    "    os.environ['PYTHONHASHSEED'] = str(seed)\n",
    "    np.random.seed(seed)\n",
    "\n",
    "seed_everything(42)"
   ]
  },
  {
   "cell_type": "markdown",
   "metadata": {},
   "source": [
    "## Load Data\n",
    "train.csv, test.csv 파일을 불러오자."
   ]
  },
  {
   "cell_type": "code",
   "execution_count": 4,
   "metadata": {},
   "outputs": [],
   "source": [
    "train = pd.read_csv('./data/train.csv')\n",
    "test = pd.read_csv('./data/test.csv')"
   ]
  },
  {
   "cell_type": "markdown",
   "metadata": {},
   "source": [
    "## 각 feature의 데이터 종류를 뜯어보자. \n",
    "+ 수치형\n",
    "    + 연속형\n",
    "    + 이산형\n",
    "+ 범주형"
   ]
  },
  {
   "cell_type": "code",
   "execution_count": 5,
   "metadata": {},
   "outputs": [
    {
     "data": {
      "text/html": [
       "<div>\n",
       "<style scoped>\n",
       "    .dataframe tbody tr th:only-of-type {\n",
       "        vertical-align: middle;\n",
       "    }\n",
       "\n",
       "    .dataframe tbody tr th {\n",
       "        vertical-align: top;\n",
       "    }\n",
       "\n",
       "    .dataframe thead th {\n",
       "        text-align: right;\n",
       "    }\n",
       "</style>\n",
       "<table border=\"1\" class=\"dataframe\">\n",
       "  <thead>\n",
       "    <tr style=\"text-align: right;\">\n",
       "      <th></th>\n",
       "      <th>sessionID</th>\n",
       "      <th>userID</th>\n",
       "      <th>TARGET</th>\n",
       "      <th>browser</th>\n",
       "      <th>OS</th>\n",
       "      <th>device</th>\n",
       "      <th>new</th>\n",
       "      <th>quality</th>\n",
       "      <th>duration</th>\n",
       "      <th>bounced</th>\n",
       "      <th>transaction</th>\n",
       "      <th>transaction_revenue</th>\n",
       "      <th>continent</th>\n",
       "      <th>subcontinent</th>\n",
       "      <th>country</th>\n",
       "      <th>traffic_source</th>\n",
       "      <th>traffic_medium</th>\n",
       "      <th>keyword</th>\n",
       "      <th>referral_path</th>\n",
       "    </tr>\n",
       "  </thead>\n",
       "  <tbody>\n",
       "    <tr>\n",
       "      <th>33522</th>\n",
       "      <td>SESSION_033522</td>\n",
       "      <td>USER_028550</td>\n",
       "      <td>10.0</td>\n",
       "      <td>Safari</td>\n",
       "      <td>iOS</td>\n",
       "      <td>tablet</td>\n",
       "      <td>1</td>\n",
       "      <td>2.0</td>\n",
       "      <td>329.0</td>\n",
       "      <td>0</td>\n",
       "      <td>0.0</td>\n",
       "      <td>0.0</td>\n",
       "      <td>Africa</td>\n",
       "      <td>Eastern Africa</td>\n",
       "      <td>Somalia</td>\n",
       "      <td>youtube.com</td>\n",
       "      <td>referral</td>\n",
       "      <td>NaN</td>\n",
       "      <td>Category11_Path_0073</td>\n",
       "    </tr>\n",
       "    <tr>\n",
       "      <th>19669</th>\n",
       "      <td>SESSION_019669</td>\n",
       "      <td>USER_017076</td>\n",
       "      <td>1.0</td>\n",
       "      <td>Chrome</td>\n",
       "      <td>Macintosh</td>\n",
       "      <td>desktop</td>\n",
       "      <td>1</td>\n",
       "      <td>1.0</td>\n",
       "      <td>0.0</td>\n",
       "      <td>1</td>\n",
       "      <td>0.0</td>\n",
       "      <td>0.0</td>\n",
       "      <td>Americas</td>\n",
       "      <td>Northern America</td>\n",
       "      <td>United States</td>\n",
       "      <td>google</td>\n",
       "      <td>organic</td>\n",
       "      <td>Category8</td>\n",
       "      <td>NaN</td>\n",
       "    </tr>\n",
       "    <tr>\n",
       "      <th>135170</th>\n",
       "      <td>SESSION_135170</td>\n",
       "      <td>USER_112194</td>\n",
       "      <td>3.0</td>\n",
       "      <td>Android Webview</td>\n",
       "      <td>Android</td>\n",
       "      <td>mobile</td>\n",
       "      <td>1</td>\n",
       "      <td>1.0</td>\n",
       "      <td>38.0</td>\n",
       "      <td>0</td>\n",
       "      <td>0.0</td>\n",
       "      <td>0.0</td>\n",
       "      <td>Africa</td>\n",
       "      <td>Northern Africa</td>\n",
       "      <td>Egypt</td>\n",
       "      <td>youtube.com</td>\n",
       "      <td>referral</td>\n",
       "      <td>NaN</td>\n",
       "      <td>Category2_Path_0256</td>\n",
       "    </tr>\n",
       "    <tr>\n",
       "      <th>33577</th>\n",
       "      <td>SESSION_033577</td>\n",
       "      <td>USER_028595</td>\n",
       "      <td>2.0</td>\n",
       "      <td>Edge</td>\n",
       "      <td>Windows</td>\n",
       "      <td>desktop</td>\n",
       "      <td>1</td>\n",
       "      <td>1.0</td>\n",
       "      <td>103.0</td>\n",
       "      <td>0</td>\n",
       "      <td>0.0</td>\n",
       "      <td>0.0</td>\n",
       "      <td>Americas</td>\n",
       "      <td>Northern America</td>\n",
       "      <td>United States</td>\n",
       "      <td>youtube.com</td>\n",
       "      <td>referral</td>\n",
       "      <td>NaN</td>\n",
       "      <td>Category11_Path_0012</td>\n",
       "    </tr>\n",
       "    <tr>\n",
       "      <th>138451</th>\n",
       "      <td>SESSION_138451</td>\n",
       "      <td>USER_114822</td>\n",
       "      <td>2.0</td>\n",
       "      <td>Android Webview</td>\n",
       "      <td>Android</td>\n",
       "      <td>mobile</td>\n",
       "      <td>1</td>\n",
       "      <td>1.0</td>\n",
       "      <td>31.0</td>\n",
       "      <td>0</td>\n",
       "      <td>0.0</td>\n",
       "      <td>0.0</td>\n",
       "      <td>Africa</td>\n",
       "      <td>Northern Africa</td>\n",
       "      <td>Egypt</td>\n",
       "      <td>youtube.com</td>\n",
       "      <td>referral</td>\n",
       "      <td>NaN</td>\n",
       "      <td>Category2_Path_0256</td>\n",
       "    </tr>\n",
       "    <tr>\n",
       "      <th>11942</th>\n",
       "      <td>SESSION_011942</td>\n",
       "      <td>USER_010506</td>\n",
       "      <td>12.0</td>\n",
       "      <td>Chrome</td>\n",
       "      <td>Android</td>\n",
       "      <td>mobile</td>\n",
       "      <td>0</td>\n",
       "      <td>2.0</td>\n",
       "      <td>185.0</td>\n",
       "      <td>0</td>\n",
       "      <td>0.0</td>\n",
       "      <td>0.0</td>\n",
       "      <td>Asia</td>\n",
       "      <td>Southeast Asia</td>\n",
       "      <td>Thailand</td>\n",
       "      <td>youtube.com</td>\n",
       "      <td>referral</td>\n",
       "      <td>NaN</td>\n",
       "      <td>Category8_Path_0004</td>\n",
       "    </tr>\n",
       "    <tr>\n",
       "      <th>147827</th>\n",
       "      <td>SESSION_147827</td>\n",
       "      <td>USER_122112</td>\n",
       "      <td>1.0</td>\n",
       "      <td>Chrome</td>\n",
       "      <td>Windows</td>\n",
       "      <td>desktop</td>\n",
       "      <td>0</td>\n",
       "      <td>1.0</td>\n",
       "      <td>0.0</td>\n",
       "      <td>1</td>\n",
       "      <td>0.0</td>\n",
       "      <td>0.0</td>\n",
       "      <td>Asia</td>\n",
       "      <td>Southeast Asia</td>\n",
       "      <td>Thailand</td>\n",
       "      <td>youtube.com</td>\n",
       "      <td>referral</td>\n",
       "      <td>NaN</td>\n",
       "      <td>Category2_Path_0018</td>\n",
       "    </tr>\n",
       "    <tr>\n",
       "      <th>181198</th>\n",
       "      <td>SESSION_181198</td>\n",
       "      <td>USER_149653</td>\n",
       "      <td>3.0</td>\n",
       "      <td>Chrome</td>\n",
       "      <td>Macintosh</td>\n",
       "      <td>desktop</td>\n",
       "      <td>0</td>\n",
       "      <td>1.0</td>\n",
       "      <td>8.0</td>\n",
       "      <td>0</td>\n",
       "      <td>0.0</td>\n",
       "      <td>0.0</td>\n",
       "      <td>Europe</td>\n",
       "      <td>Eastern Europe</td>\n",
       "      <td>Czechia</td>\n",
       "      <td>google</td>\n",
       "      <td>organic</td>\n",
       "      <td>Category8</td>\n",
       "      <td>NaN</td>\n",
       "    </tr>\n",
       "    <tr>\n",
       "      <th>153444</th>\n",
       "      <td>SESSION_153444</td>\n",
       "      <td>USER_126729</td>\n",
       "      <td>2.0</td>\n",
       "      <td>Chrome</td>\n",
       "      <td>Chrome OS</td>\n",
       "      <td>desktop</td>\n",
       "      <td>1</td>\n",
       "      <td>1.0</td>\n",
       "      <td>4.0</td>\n",
       "      <td>0</td>\n",
       "      <td>0.0</td>\n",
       "      <td>0.0</td>\n",
       "      <td>Americas</td>\n",
       "      <td>Northern America</td>\n",
       "      <td>United States</td>\n",
       "      <td>(direct)</td>\n",
       "      <td>(none)</td>\n",
       "      <td>NaN</td>\n",
       "      <td>NaN</td>\n",
       "    </tr>\n",
       "    <tr>\n",
       "      <th>242448</th>\n",
       "      <td>SESSION_242448</td>\n",
       "      <td>USER_197970</td>\n",
       "      <td>9.0</td>\n",
       "      <td>Chrome</td>\n",
       "      <td>Macintosh</td>\n",
       "      <td>desktop</td>\n",
       "      <td>0</td>\n",
       "      <td>52.0</td>\n",
       "      <td>116.0</td>\n",
       "      <td>0</td>\n",
       "      <td>1.0</td>\n",
       "      <td>40573120.0</td>\n",
       "      <td>Americas</td>\n",
       "      <td>Northern America</td>\n",
       "      <td>United States</td>\n",
       "      <td>(direct)</td>\n",
       "      <td>(none)</td>\n",
       "      <td>NaN</td>\n",
       "      <td>NaN</td>\n",
       "    </tr>\n",
       "  </tbody>\n",
       "</table>\n",
       "</div>"
      ],
      "text/plain": [
       "             sessionID       userID  TARGET          browser         OS  \\\n",
       "33522   SESSION_033522  USER_028550    10.0           Safari        iOS   \n",
       "19669   SESSION_019669  USER_017076     1.0           Chrome  Macintosh   \n",
       "135170  SESSION_135170  USER_112194     3.0  Android Webview    Android   \n",
       "33577   SESSION_033577  USER_028595     2.0             Edge    Windows   \n",
       "138451  SESSION_138451  USER_114822     2.0  Android Webview    Android   \n",
       "11942   SESSION_011942  USER_010506    12.0           Chrome    Android   \n",
       "147827  SESSION_147827  USER_122112     1.0           Chrome    Windows   \n",
       "181198  SESSION_181198  USER_149653     3.0           Chrome  Macintosh   \n",
       "153444  SESSION_153444  USER_126729     2.0           Chrome  Chrome OS   \n",
       "242448  SESSION_242448  USER_197970     9.0           Chrome  Macintosh   \n",
       "\n",
       "         device  new  quality  duration  bounced  transaction  \\\n",
       "33522    tablet    1      2.0     329.0        0          0.0   \n",
       "19669   desktop    1      1.0       0.0        1          0.0   \n",
       "135170   mobile    1      1.0      38.0        0          0.0   \n",
       "33577   desktop    1      1.0     103.0        0          0.0   \n",
       "138451   mobile    1      1.0      31.0        0          0.0   \n",
       "11942    mobile    0      2.0     185.0        0          0.0   \n",
       "147827  desktop    0      1.0       0.0        1          0.0   \n",
       "181198  desktop    0      1.0       8.0        0          0.0   \n",
       "153444  desktop    1      1.0       4.0        0          0.0   \n",
       "242448  desktop    0     52.0     116.0        0          1.0   \n",
       "\n",
       "        transaction_revenue continent      subcontinent        country  \\\n",
       "33522                   0.0    Africa    Eastern Africa        Somalia   \n",
       "19669                   0.0  Americas  Northern America  United States   \n",
       "135170                  0.0    Africa   Northern Africa          Egypt   \n",
       "33577                   0.0  Americas  Northern America  United States   \n",
       "138451                  0.0    Africa   Northern Africa          Egypt   \n",
       "11942                   0.0      Asia    Southeast Asia       Thailand   \n",
       "147827                  0.0      Asia    Southeast Asia       Thailand   \n",
       "181198                  0.0    Europe    Eastern Europe        Czechia   \n",
       "153444                  0.0  Americas  Northern America  United States   \n",
       "242448           40573120.0  Americas  Northern America  United States   \n",
       "\n",
       "       traffic_source traffic_medium    keyword         referral_path  \n",
       "33522     youtube.com       referral        NaN  Category11_Path_0073  \n",
       "19669          google        organic  Category8                   NaN  \n",
       "135170    youtube.com       referral        NaN   Category2_Path_0256  \n",
       "33577     youtube.com       referral        NaN  Category11_Path_0012  \n",
       "138451    youtube.com       referral        NaN   Category2_Path_0256  \n",
       "11942     youtube.com       referral        NaN   Category8_Path_0004  \n",
       "147827    youtube.com       referral        NaN   Category2_Path_0018  \n",
       "181198         google        organic  Category8                   NaN  \n",
       "153444       (direct)         (none)        NaN                   NaN  \n",
       "242448       (direct)         (none)        NaN                   NaN  "
      ]
     },
     "execution_count": 5,
     "metadata": {},
     "output_type": "execute_result"
    }
   ],
   "source": [
    "train.sample(10)"
   ]
  },
  {
   "cell_type": "code",
   "execution_count": 6,
   "metadata": {},
   "outputs": [
    {
     "name": "stdout",
     "output_type": "stream",
     "text": [
      "<class 'pandas.core.frame.DataFrame'>\n",
      "RangeIndex: 252289 entries, 0 to 252288\n",
      "Data columns (total 19 columns):\n",
      " #   Column               Non-Null Count   Dtype  \n",
      "---  ------               --------------   -----  \n",
      " 0   sessionID            252289 non-null  object \n",
      " 1   userID               252289 non-null  object \n",
      " 2   TARGET               252289 non-null  float64\n",
      " 3   browser              252289 non-null  object \n",
      " 4   OS                   252289 non-null  object \n",
      " 5   device               252289 non-null  object \n",
      " 6   new                  252289 non-null  int64  \n",
      " 7   quality              252289 non-null  float64\n",
      " 8   duration             252289 non-null  float64\n",
      " 9   bounced              252289 non-null  int64  \n",
      " 10  transaction          252289 non-null  float64\n",
      " 11  transaction_revenue  252289 non-null  float64\n",
      " 12  continent            252289 non-null  object \n",
      " 13  subcontinent         252289 non-null  object \n",
      " 14  country              252289 non-null  object \n",
      " 15  traffic_source       252289 non-null  object \n",
      " 16  traffic_medium       252289 non-null  object \n",
      " 17  keyword              114614 non-null  object \n",
      " 18  referral_path        91182 non-null   object \n",
      "dtypes: float64(5), int64(2), object(12)\n",
      "memory usage: 36.6+ MB\n"
     ]
    }
   ],
   "source": [
    "train.info()"
   ]
  },
  {
   "cell_type": "code",
   "execution_count": 7,
   "metadata": {},
   "outputs": [
    {
     "name": "stdout",
     "output_type": "stream",
     "text": [
      "sessionID : 252289\n",
      "userID : 206024\n",
      "TARGET : 117\n",
      "browser : 70\n",
      "OS : 21\n",
      "device : 3\n",
      "new : 2\n",
      "quality : 98\n",
      "duration : 2972\n",
      "bounced : 2\n",
      "transaction : 8\n",
      "transaction_revenue : 1218\n",
      "continent : 6\n",
      "subcontinent : 23\n",
      "country : 205\n",
      "traffic_source : 168\n",
      "traffic_medium : 7\n",
      "keyword : 623\n",
      "referral_path : 1578\n"
     ]
    }
   ],
   "source": [
    "# 각 변수 별 고유값 확인\n",
    "for col in train.columns.to_list():\n",
    "    print(f\"{col} : {train[col].nunique()}\")"
   ]
  },
  {
   "cell_type": "markdown",
   "metadata": {},
   "source": [
    "## userID"
   ]
  },
  {
   "cell_type": "code",
   "execution_count": 32,
   "metadata": {},
   "outputs": [
    {
     "data": {
      "text/plain": [
       "26258"
      ]
     },
     "execution_count": 32,
     "metadata": {},
     "output_type": "execute_result"
    }
   ],
   "source": [
    "# 2번 이상 session을 발생시킨 인원을 구해보자. \n",
    "vc = train['userID'].value_counts()\n",
    "vc_ = vc[vc >= 2]\n",
    "len(vc_)"
   ]
  },
  {
   "cell_type": "markdown",
   "metadata": {},
   "source": [
    "## Target"
   ]
  },
  {
   "cell_type": "code",
   "execution_count": 53,
   "metadata": {},
   "outputs": [
    {
     "data": {
      "text/plain": [
       "Index([  1.0,   2.0,   3.0,   4.0,   5.0,   6.0,   7.0,   8.0,   9.0,  10.0,\n",
       "       ...\n",
       "       157.0, 161.0, 171.0, 176.0, 198.0, 199.0, 224.0, 270.0, 283.0, 386.0],\n",
       "      dtype='float64', name='TARGET', length=117)"
      ]
     },
     "metadata": {},
     "output_type": "display_data"
    },
    {
     "data": {
      "text/plain": [
       "array([126008,  33690,  23636,  14291,  10743,   7720,   6181,   4836,\n",
       "         3865,   3066,   2695,   2153,   1827,   1545,   1275,   1099,\n",
       "          984,    758,    678,    551,    529,    482,    374,    354,\n",
       "          309,    283,    226,    207,    167,    164,    139,    127,\n",
       "          115,    108,     85,     80,     78,     71,     70,     60,\n",
       "           51,     48,     43,     41,     38,     31,     25,     22,\n",
       "           21,     20,     16,     15,     14,     12,     11,     10,\n",
       "            7,      6,      5,      3,      2,      1], dtype=int64)"
      ]
     },
     "metadata": {},
     "output_type": "display_data"
    },
    {
     "data": {
      "text/plain": [
       "62"
      ]
     },
     "metadata": {},
     "output_type": "display_data"
    }
   ],
   "source": [
    "# 타겟의 고유값 종류를 살펴봄\n",
    "target_vc = train['TARGET'].value_counts()\n",
    "# target_vc = target_vc[target_vc >= 2]\n",
    "display(target_vc.index.sort_values())\n",
    "display(target_vc.unique())\n",
    "display(target_vc.nunique())"
   ]
  },
  {
   "cell_type": "code",
   "execution_count": 57,
   "metadata": {},
   "outputs": [
    {
     "data": {
      "text/plain": [
       "Series([], Name: TARGET, dtype: float64)"
      ]
     },
     "execution_count": 57,
     "metadata": {},
     "output_type": "execute_result"
    }
   ],
   "source": [
    "x = train['TARGET']\n",
    "\n",
    "result = x.apply(lambda x: x- int(x))\n",
    "result[result != 0.0]"
   ]
  },
  {
   "cell_type": "code",
   "execution_count": 51,
   "metadata": {},
   "outputs": [
    {
     "data": {
      "image/png": "[encoded data removed]",
      "text/plain": [
       "<Figure size 640x480 with 1 Axes>"
      ]
     },
     "metadata": {},
     "output_type": "display_data"
    }
   ],
   "source": [
    "sns.barplot(target_vc)\n",
    "plt.xticks(rotation=-45)\n",
    "plt.tight_layout()\n",
    "plt.show()"
   ]
  },
  {
   "cell_type": "markdown",
   "metadata": {},
   "source": [
    "## Browser"
   ]
  },
  {
   "cell_type": "code",
   "execution_count": 62,
   "metadata": {},
   "outputs": [
    {
     "data": {
      "text/plain": [
       "array(['Chrome', 'Samsung Internet', 'Firefox', 'Opera',\n",
       "       'Safari (in-app)', 'Edge', 'Safari', 'Android Webview',\n",
       "       'UC Browser', 'Internet Explorer', 'Opera Mini', 'BlackBerry',\n",
       "       'Android Browser', 'Amazon Silk', 'Coc Coc', 'YaBrowser',\n",
       "       'Nintendo Browser', 'Nokia Browser', 'MRCHROME', 'Puffin',\n",
       "       'Mozilla Compatible Agent', 'Maxthon', '+Simple Browser',\n",
       "       'Apple-iPhone7C2', 'Playstation Vita Browser',\n",
       "       'osee2unifiedRelease', 'SAMSUNG-SM-B355E Opera', 'DESKTOP', 'Iron',\n",
       "       'Browser', 'rpfanjzoxyemsgbtichqkudwlv',\n",
       "       'cajrnbtvqwfkolzyxushpdgime', 'wvsmagudcqeytijorlhxnfzkbp',\n",
       "       'efkaxnbyohqtspzlvcwrjmigdu', 'bsfnwveckhgpdoyjxmizruqtla',\n",
       "       'Mozilla', 'Konqueror', 'Netscape', 'Amazon.com', 'SeaMonkey',\n",
       "       ';__CT_JOB_ID__:76fd1acb-e365-43c0-b967-908bcf5d5b59;',\n",
       "       'eosutpkiahjzvdgcwxlmyfqbrn', 'cnwmpegudakrqzljtvfxohbysi',\n",
       "       'fspmihbxzowgnuctrqykjlvade', 'YE',\n",
       "       ';__CT_JOB_ID__:7e575295-571e-4e82-9254-7f2c8bbb9183;',\n",
       "       'dkagwlhmfqxercuozpnbvtsiyj', 'kqebrzuwmiycxdvtoljnhsfpga',\n",
       "       'ohukwejvqmdtibfrzpycgxanls', 'Seznam',\n",
       "       ';__CT_JOB_ID__:fe02e46f-b6ae-41f1-8563-3b40bbb623a9;',\n",
       "       ';__CT_JOB_ID__:d14534ff-e2fc-4692-92aa-e34508f1c418;',\n",
       "       ';__CT_JOB_ID__:a4f837b8-8d78-4c42-ba9a-d870cf1a4a7e;',\n",
       "       ';__CT_JOB_ID__:dd6177aa-1baa-4007-9b38-b7cab4f7611c;',\n",
       "       ';__CT_JOB_ID__:58e2ecba-7666-4a10-b498-8216457ce472;',\n",
       "       ';__CT_JOB_ID__:4333777f-bb0c-4a18-935e-df5658dbce2d;',\n",
       "       ';__CT_JOB_ID__:2547db0b-ec43-452a-a0d4-ff42b7dc7907;',\n",
       "       ';__CT_JOB_ID__:2e0eca60-83ab-482d-bb81-343d113254fb;',\n",
       "       ';__CT_JOB_ID__:a7ed0808-e70c-4b19-b1a3-1018bbb7dc7f;',\n",
       "       ';__CT_JOB_ID__:85da5736-a78e-45a9-837e-f5a53e5cd725;',\n",
       "       ';__CT_JOB_ID__:a24a8978-e5e8-4dc9-af66-c4ed89ea25d7;',\n",
       "       ';__CT_JOB_ID__:a80e8e16-6e98-455b-885a-a4dd40f3d344;',\n",
       "       ';__CT_JOB_ID__:89e59554-ad41-4e94-957b-f12bd012530c;',\n",
       "       'Lunascape',\n",
       "       ';__CT_JOB_ID__:0b39e7ca-1431-42e3-ba1f-9d8951a65840;',\n",
       "       ';__CT_JOB_ID__:6e9dcf2f-f58f-4938-91e3-77e00868177b;',\n",
       "       'starmaker',\n",
       "       ';__CT_JOB_ID__:97909e28-4228-4b55-8ad5-cc791f2b583c;',\n",
       "       ';__CT_JOB_ID__:0a075729-93a5-43d0-9638-4cbd41d5f5a5;',\n",
       "       'NokiaC7-00'], dtype=object)"
      ]
     },
     "metadata": {},
     "output_type": "display_data"
    },
    {
     "data": {
      "text/plain": [
       "70"
      ]
     },
     "metadata": {},
     "output_type": "display_data"
    }
   ],
   "source": [
    "display(train['browser'].unique())\n",
    "display(len(train['browser'].unique()))"
   ]
  },
  {
   "cell_type": "code",
   "execution_count": 66,
   "metadata": {},
   "outputs": [
    {
     "data": {
      "text/plain": [
       "browser\n",
       "bsfnwveckhgpdoyjxmizruqtla                              1\n",
       ";__CT_JOB_ID__:a80e8e16-6e98-455b-885a-a4dd40f3d344;    1\n",
       ";__CT_JOB_ID__:4333777f-bb0c-4a18-935e-df5658dbce2d;    1\n",
       ";__CT_JOB_ID__:2547db0b-ec43-452a-a0d4-ff42b7dc7907;    1\n",
       ";__CT_JOB_ID__:2e0eca60-83ab-482d-bb81-343d113254fb;    1\n",
       ";__CT_JOB_ID__:a7ed0808-e70c-4b19-b1a3-1018bbb7dc7f;    1\n",
       ";__CT_JOB_ID__:85da5736-a78e-45a9-837e-f5a53e5cd725;    1\n",
       ";__CT_JOB_ID__:a24a8978-e5e8-4dc9-af66-c4ed89ea25d7;    1\n",
       ";__CT_JOB_ID__:89e59554-ad41-4e94-957b-f12bd012530c;    1\n",
       "Netscape                                                1\n",
       "Lunascape                                               1\n",
       ";__CT_JOB_ID__:0b39e7ca-1431-42e3-ba1f-9d8951a65840;    1\n",
       ";__CT_JOB_ID__:6e9dcf2f-f58f-4938-91e3-77e00868177b;    1\n",
       "starmaker                                               1\n",
       ";__CT_JOB_ID__:97909e28-4228-4b55-8ad5-cc791f2b583c;    1\n",
       ";__CT_JOB_ID__:0a075729-93a5-43d0-9638-4cbd41d5f5a5;    1\n",
       ";__CT_JOB_ID__:58e2ecba-7666-4a10-b498-8216457ce472;    1\n",
       ";__CT_JOB_ID__:dd6177aa-1baa-4007-9b38-b7cab4f7611c;    1\n",
       ";__CT_JOB_ID__:a4f837b8-8d78-4c42-ba9a-d870cf1a4a7e;    1\n",
       ";__CT_JOB_ID__:d14534ff-e2fc-4692-92aa-e34508f1c418;    1\n",
       ";__CT_JOB_ID__:fe02e46f-b6ae-41f1-8563-3b40bbb623a9;    1\n",
       "rpfanjzoxyemsgbtichqkudwlv                              1\n",
       "ohukwejvqmdtibfrzpycgxanls                              1\n",
       "kqebrzuwmiycxdvtoljnhsfpga                              1\n",
       "dkagwlhmfqxercuozpnbvtsiyj                              1\n",
       ";__CT_JOB_ID__:7e575295-571e-4e82-9254-7f2c8bbb9183;    1\n",
       "cajrnbtvqwfkolzyxushpdgime                              1\n",
       "fspmihbxzowgnuctrqykjlvade                              1\n",
       "cnwmpegudakrqzljtvfxohbysi                              1\n",
       "eosutpkiahjzvdgcwxlmyfqbrn                              1\n",
       ";__CT_JOB_ID__:76fd1acb-e365-43c0-b967-908bcf5d5b59;    1\n",
       "wvsmagudcqeytijorlhxnfzkbp                              1\n",
       "efkaxnbyohqtspzlvcwrjmigdu                              1\n",
       "NokiaC7-00                                              1\n",
       "Name: count, dtype: int64"
      ]
     },
     "metadata": {},
     "output_type": "display_data"
    },
    {
     "data": {
      "text/plain": [
       "browser\n",
       "Chrome                      174395\n",
       "Safari                       35689\n",
       "Android Webview              13855\n",
       "Firefox                       8436\n",
       "Internet Explorer             4573\n",
       "Edge                          3702\n",
       "Samsung Internet              3077\n",
       "Opera Mini                    3041\n",
       "Safari (in-app)               1995\n",
       "Opera                         1331\n",
       "UC Browser                     901\n",
       "YaBrowser                      402\n",
       "Amazon Silk                    257\n",
       "Coc Coc                        206\n",
       "Mozilla Compatible Agent       124\n",
       "Android Browser                110\n",
       "Puffin                          55\n",
       "MRCHROME                        15\n",
       "Nokia Browser                   13\n",
       "BlackBerry                      13\n",
       "Maxthon                         11\n",
       "Playstation Vita Browser         9\n",
       "Nintendo Browser                 7\n",
       "DESKTOP                          5\n",
       "Iron                             4\n",
       "SeaMonkey                        4\n",
       "Konqueror                        3\n",
       "Browser                          3\n",
       "Mozilla                          3\n",
       "osee2unifiedRelease              3\n",
       "+Simple Browser                  3\n",
       "SAMSUNG-SM-B355E Opera           2\n",
       "YE                               2\n",
       "Amazon.com                       2\n",
       "Apple-iPhone7C2                  2\n",
       "Seznam                           2\n",
       "Name: count, dtype: int64"
      ]
     },
     "metadata": {},
     "output_type": "display_data"
    }
   ],
   "source": [
    "browser_vc = train['browser'].value_counts()\n",
    "display(browser_vc[browser_vc == 1])\n",
    "display(browser_vc[browser_vc > 1])"
   ]
  },
  {
   "cell_type": "markdown",
   "metadata": {},
   "source": [
    "## OS"
   ]
  },
  {
   "cell_type": "code",
   "execution_count": 67,
   "metadata": {},
   "outputs": [
    {
     "data": {
      "text/plain": [
       "OS\n",
       "Windows             88119\n",
       "Macintosh           60316\n",
       "Android             51870\n",
       "iOS                 29778\n",
       "Linux                9562\n",
       "Chrome OS            9222\n",
       "(not set)            2592\n",
       "Tizen                 321\n",
       "Samsung               259\n",
       "Windows Phone         128\n",
       "OS/2                   36\n",
       "Xbox                   31\n",
       "BlackBerry             29\n",
       "Playstation Vita        9\n",
       "Nintendo 3DS            6\n",
       "Firefox OS              4\n",
       "FreeBSD                 3\n",
       "SunOS                   1\n",
       "Nintendo WiiU           1\n",
       "SymbianOS               1\n",
       "Nokia                   1\n",
       "Name: count, dtype: int64"
      ]
     },
     "execution_count": 67,
     "metadata": {},
     "output_type": "execute_result"
    }
   ],
   "source": [
    "train['OS'].value_counts()"
   ]
  },
  {
   "cell_type": "markdown",
   "metadata": {},
   "source": [
    "## device"
   ]
  },
  {
   "cell_type": "code",
   "execution_count": 69,
   "metadata": {},
   "outputs": [
    {
     "data": {
      "text/plain": [
       "device\n",
       "desktop    167133\n",
       "mobile      76460\n",
       "tablet       8696\n",
       "Name: count, dtype: int64"
      ]
     },
     "metadata": {},
     "output_type": "display_data"
    },
    {
     "data": {
      "text/plain": [
       "device\n",
       "desktop    0.662466\n",
       "mobile     0.303065\n",
       "tablet     0.034468\n",
       "Name: proportion, dtype: float64"
      ]
     },
     "metadata": {},
     "output_type": "display_data"
    }
   ],
   "source": [
    "display(train['device'].value_counts())\n",
    "display(train['device'].value_counts(normalize=True))"
   ]
  },
  {
   "cell_type": "code",
   "execution_count": null,
   "metadata": {},
   "outputs": [],
   "source": []
  }
 ],
 "metadata": {
  "kernelspec": {
   "display_name": "Python 3",
   "language": "python",
   "name": "python3"
  },
  "language_info": {
   "codemirror_mode": {
    "name": "ipython",
    "version": 3
   },
   "file_extension": ".py",
   "mimetype": "text/x-python",
   "name": "python",
   "nbconvert_exporter": "python",
   "pygments_lexer": "ipython3",
   "version": "3.12.1"
  }
 },
 "nbformat": 4,
 "nbformat_minor": 2
}
