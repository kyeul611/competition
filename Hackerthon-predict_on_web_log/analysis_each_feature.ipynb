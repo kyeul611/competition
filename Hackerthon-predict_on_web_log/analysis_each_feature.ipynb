{
 "cells": [
  {
   "cell_type": "markdown",
   "metadata": {},
   "source": [
    "## 각 feature의 데이터 종류를 뜯어보자. \n",
    "+ 수치형\n",
    "    + 연속형\n",
    "    + 이산형\n",
    "+ 범주형"
   ]
  },
  {
   "cell_type": "markdown",
   "metadata": {},
   "source": [
    "각 변수의 데이터 종류\n",
    "+ sessionID: 각 세션을 표현하는 Key값. 중복없음.\n",
    "+ [userID](##userID) : string. User의 고유 ID. 80%의 유저는 한번의 session을 발생시킴. 2번 이상 접속한 인원은 26258명\n",
    "+ [TARGET](##target) : 수치/연속형 자료. 고객이 머무른 시간. 값의 범위는 1.0 ~ 386.0. float형이지만 모두 정수값만 있음.\n",
    "+ [browser](##browser) : 범주형. 어떤 browser에서 session이 만들어졌는지. 70개의 브라우저가 사용됨. 특히 빈도가 1인 값들은 특정 브라우저를 알 수 없는 값. Null로 간주해도 될 것으로 보임\n",
    "+ [OS](##OS) : 범주형. 어떤 OS에서 session이 만들어졌는지. 20개의 OS가 사용됨. Null 값이 존재하는데, (not set)이란 형태로 되어있다.\n",
    "+ [devices](##device) : 범주형. 어떤 기기에서 session이 만들어졌는지. 3개의 데이터가 사용됨. 66%가 PC, 30%가 mobile, 나머지 약 4%가 tablet\n",
    "+ [new](##new) :  True or False. user의 첫방문 여부. 새로1과 0으로 기록되어 있음.\n",
    "+ [quality](##quality) : 세션의 질(거래 성사를 기준으로 측정된 값). 값의 범위 1~100. train에서는 98.0까지만 값이 존재함. 대부분의 값(약 80%)이 1.0\n",
    "+ [duration](##duration) : numerical value. not null. 총 세선 시간(각 세션의 시간을 모두 더한 것. 세션은 뭐지?)\n",
    "+ [bounced](##bounced) : 1 or 0, 이탈 여부. not null. 그런데 모든 user는 결국 session을 떠나지 않나? 어떤 것이 떠나는 기준인지 궁금하다. 평균이 0.5 미만인 것을 보았을 때, 절반 정도의 사람이 이 세션을 끝내고 있음.\n",
    "+ [transaction](##transaction) : numerical value, not null. 세션 내에서 발생한 거래 수. train data에서 사용된 값은 총 8개. [0.0, 1.0, 3.0, 4.0, 5.0, 7.0, 12.0]\n",
    "+ [transaction_revenue](##transaction_revenue) : 총 거래 수익. 소수점 이하 데이터 없음. 실수형이지만, 정수형으로 사용해도됨. 최소값 0 최댓값 3325712000 평균 906124, 멱함수 분포. 대부분 0\n",
    "+ [continent](##continent) : categorical value. null -> 336. null을 제외하고 5개의 대륙 데이터. \n",
    "+ [subcontinent](##subcontinent) : categorical value. null -> 336. null을 제외하고 22개의 sub대륙 데이터가 있음\n",
    "+ [country](##country) : categorical value. null -> 336.\n",
    "+ [traffic_source](##traffic_source) : 트래픽이 발생한 소스. categorical value. 다양한 브라우저 도메인이 있음. 전처리를 통해 형태가 다른 중복 데이터를 하나로 합칠 여지가 있다.\n",
    "+ [traffic_medium](##traffic_medium) : ??\n"
   ]
  },
  {
   "cell_type": "markdown",
   "metadata": {},
   "source": [
    "## Setting Data"
   ]
  },
  {
   "cell_type": "code",
   "execution_count": 62,
   "metadata": {},
   "outputs": [],
   "source": [
    "import pandas as pd\n",
    "import numpy as np\n",
    "import os\n",
    "import random\n",
    "\n",
    "import matplotlib.pyplot as plt\n",
    "import seaborn as sns\n",
    "import scipy.stats as stats\n",
    "from datetime import datetime\n",
    "\n",
    "from sklearn.preprocessing import LabelEncoder\n",
    "from sklearn.linear_model import Lasso\n",
    "\n",
    "pd.options.display.float_format = '{:.5f}'.format"
   ]
  },
  {
   "cell_type": "markdown",
   "metadata": {},
   "source": [
    "### Fixed Random-Seed\n",
    "동일한 결과를 위한 seed 고정"
   ]
  },
  {
   "cell_type": "code",
   "execution_count": 2,
   "metadata": {},
   "outputs": [],
   "source": [
    "def seed_everything(seed):\n",
    "    random.seed(seed)\n",
    "    os.environ['PYTHONHASHSEED'] = str(seed)\n",
    "    np.random.seed(seed)\n",
    "\n",
    "seed_everything(42)"
   ]
  },
  {
   "cell_type": "markdown",
   "metadata": {},
   "source": [
    "### Load Data\n",
    "train.csv, test.csv 파일을 불러오자."
   ]
  },
  {
   "cell_type": "code",
   "execution_count": 3,
   "metadata": {},
   "outputs": [],
   "source": [
    "train = pd.read_csv('./data/train.csv')\n",
    "test = pd.read_csv('./data/test.csv')"
   ]
  },
  {
   "cell_type": "markdown",
   "metadata": {},
   "source": [
    "## Show data sample and informations."
   ]
  },
  {
   "cell_type": "code",
   "execution_count": 4,
   "metadata": {},
   "outputs": [
    {
     "data": {
      "text/html": [
       "<div>\n",
       "<style scoped>\n",
       "    .dataframe tbody tr th:only-of-type {\n",
       "        vertical-align: middle;\n",
       "    }\n",
       "\n",
       "    .dataframe tbody tr th {\n",
       "        vertical-align: top;\n",
       "    }\n",
       "\n",
       "    .dataframe thead th {\n",
       "        text-align: right;\n",
       "    }\n",
       "</style>\n",
       "<table border=\"1\" class=\"dataframe\">\n",
       "  <thead>\n",
       "    <tr style=\"text-align: right;\">\n",
       "      <th></th>\n",
       "      <th>sessionID</th>\n",
       "      <th>userID</th>\n",
       "      <th>TARGET</th>\n",
       "      <th>browser</th>\n",
       "      <th>OS</th>\n",
       "      <th>device</th>\n",
       "      <th>new</th>\n",
       "      <th>quality</th>\n",
       "      <th>duration</th>\n",
       "      <th>bounced</th>\n",
       "      <th>transaction</th>\n",
       "      <th>transaction_revenue</th>\n",
       "      <th>continent</th>\n",
       "      <th>subcontinent</th>\n",
       "      <th>country</th>\n",
       "      <th>traffic_source</th>\n",
       "      <th>traffic_medium</th>\n",
       "      <th>keyword</th>\n",
       "      <th>referral_path</th>\n",
       "    </tr>\n",
       "  </thead>\n",
       "  <tbody>\n",
       "    <tr>\n",
       "      <th>33522</th>\n",
       "      <td>SESSION_033522</td>\n",
       "      <td>USER_028550</td>\n",
       "      <td>10.0</td>\n",
       "      <td>Safari</td>\n",
       "      <td>iOS</td>\n",
       "      <td>tablet</td>\n",
       "      <td>1</td>\n",
       "      <td>2.0</td>\n",
       "      <td>329.0</td>\n",
       "      <td>0</td>\n",
       "      <td>0.0</td>\n",
       "      <td>0.0</td>\n",
       "      <td>Africa</td>\n",
       "      <td>Eastern Africa</td>\n",
       "      <td>Somalia</td>\n",
       "      <td>youtube.com</td>\n",
       "      <td>referral</td>\n",
       "      <td>NaN</td>\n",
       "      <td>Category11_Path_0073</td>\n",
       "    </tr>\n",
       "    <tr>\n",
       "      <th>19669</th>\n",
       "      <td>SESSION_019669</td>\n",
       "      <td>USER_017076</td>\n",
       "      <td>1.0</td>\n",
       "      <td>Chrome</td>\n",
       "      <td>Macintosh</td>\n",
       "      <td>desktop</td>\n",
       "      <td>1</td>\n",
       "      <td>1.0</td>\n",
       "      <td>0.0</td>\n",
       "      <td>1</td>\n",
       "      <td>0.0</td>\n",
       "      <td>0.0</td>\n",
       "      <td>Americas</td>\n",
       "      <td>Northern America</td>\n",
       "      <td>United States</td>\n",
       "      <td>google</td>\n",
       "      <td>organic</td>\n",
       "      <td>Category8</td>\n",
       "      <td>NaN</td>\n",
       "    </tr>\n",
       "    <tr>\n",
       "      <th>135170</th>\n",
       "      <td>SESSION_135170</td>\n",
       "      <td>USER_112194</td>\n",
       "      <td>3.0</td>\n",
       "      <td>Android Webview</td>\n",
       "      <td>Android</td>\n",
       "      <td>mobile</td>\n",
       "      <td>1</td>\n",
       "      <td>1.0</td>\n",
       "      <td>38.0</td>\n",
       "      <td>0</td>\n",
       "      <td>0.0</td>\n",
       "      <td>0.0</td>\n",
       "      <td>Africa</td>\n",
       "      <td>Northern Africa</td>\n",
       "      <td>Egypt</td>\n",
       "      <td>youtube.com</td>\n",
       "      <td>referral</td>\n",
       "      <td>NaN</td>\n",
       "      <td>Category2_Path_0256</td>\n",
       "    </tr>\n",
       "    <tr>\n",
       "      <th>33577</th>\n",
       "      <td>SESSION_033577</td>\n",
       "      <td>USER_028595</td>\n",
       "      <td>2.0</td>\n",
       "      <td>Edge</td>\n",
       "      <td>Windows</td>\n",
       "      <td>desktop</td>\n",
       "      <td>1</td>\n",
       "      <td>1.0</td>\n",
       "      <td>103.0</td>\n",
       "      <td>0</td>\n",
       "      <td>0.0</td>\n",
       "      <td>0.0</td>\n",
       "      <td>Americas</td>\n",
       "      <td>Northern America</td>\n",
       "      <td>United States</td>\n",
       "      <td>youtube.com</td>\n",
       "      <td>referral</td>\n",
       "      <td>NaN</td>\n",
       "      <td>Category11_Path_0012</td>\n",
       "    </tr>\n",
       "    <tr>\n",
       "      <th>138451</th>\n",
       "      <td>SESSION_138451</td>\n",
       "      <td>USER_114822</td>\n",
       "      <td>2.0</td>\n",
       "      <td>Android Webview</td>\n",
       "      <td>Android</td>\n",
       "      <td>mobile</td>\n",
       "      <td>1</td>\n",
       "      <td>1.0</td>\n",
       "      <td>31.0</td>\n",
       "      <td>0</td>\n",
       "      <td>0.0</td>\n",
       "      <td>0.0</td>\n",
       "      <td>Africa</td>\n",
       "      <td>Northern Africa</td>\n",
       "      <td>Egypt</td>\n",
       "      <td>youtube.com</td>\n",
       "      <td>referral</td>\n",
       "      <td>NaN</td>\n",
       "      <td>Category2_Path_0256</td>\n",
       "    </tr>\n",
       "  </tbody>\n",
       "</table>\n",
       "</div>"
      ],
      "text/plain": [
       "             sessionID       userID  TARGET          browser         OS  \\\n",
       "33522   SESSION_033522  USER_028550    10.0           Safari        iOS   \n",
       "19669   SESSION_019669  USER_017076     1.0           Chrome  Macintosh   \n",
       "135170  SESSION_135170  USER_112194     3.0  Android Webview    Android   \n",
       "33577   SESSION_033577  USER_028595     2.0             Edge    Windows   \n",
       "138451  SESSION_138451  USER_114822     2.0  Android Webview    Android   \n",
       "\n",
       "         device  new  quality  duration  bounced  transaction  \\\n",
       "33522    tablet    1      2.0     329.0        0          0.0   \n",
       "19669   desktop    1      1.0       0.0        1          0.0   \n",
       "135170   mobile    1      1.0      38.0        0          0.0   \n",
       "33577   desktop    1      1.0     103.0        0          0.0   \n",
       "138451   mobile    1      1.0      31.0        0          0.0   \n",
       "\n",
       "        transaction_revenue continent      subcontinent        country  \\\n",
       "33522                   0.0    Africa    Eastern Africa        Somalia   \n",
       "19669                   0.0  Americas  Northern America  United States   \n",
       "135170                  0.0    Africa   Northern Africa          Egypt   \n",
       "33577                   0.0  Americas  Northern America  United States   \n",
       "138451                  0.0    Africa   Northern Africa          Egypt   \n",
       "\n",
       "       traffic_source traffic_medium    keyword         referral_path  \n",
       "33522     youtube.com       referral        NaN  Category11_Path_0073  \n",
       "19669          google        organic  Category8                   NaN  \n",
       "135170    youtube.com       referral        NaN   Category2_Path_0256  \n",
       "33577     youtube.com       referral        NaN  Category11_Path_0012  \n",
       "138451    youtube.com       referral        NaN   Category2_Path_0256  "
      ]
     },
     "execution_count": 4,
     "metadata": {},
     "output_type": "execute_result"
    }
   ],
   "source": [
    "train.sample(5)"
   ]
  },
  {
   "cell_type": "code",
   "execution_count": 5,
   "metadata": {},
   "outputs": [
    {
     "name": "stdout",
     "output_type": "stream",
     "text": [
      "<class 'pandas.core.frame.DataFrame'>\n",
      "RangeIndex: 252289 entries, 0 to 252288\n",
      "Data columns (total 19 columns):\n",
      " #   Column               Non-Null Count   Dtype  \n",
      "---  ------               --------------   -----  \n",
      " 0   sessionID            252289 non-null  object \n",
      " 1   userID               252289 non-null  object \n",
      " 2   TARGET               252289 non-null  float64\n",
      " 3   browser              252289 non-null  object \n",
      " 4   OS                   252289 non-null  object \n",
      " 5   device               252289 non-null  object \n",
      " 6   new                  252289 non-null  int64  \n",
      " 7   quality              252289 non-null  float64\n",
      " 8   duration             252289 non-null  float64\n",
      " 9   bounced              252289 non-null  int64  \n",
      " 10  transaction          252289 non-null  float64\n",
      " 11  transaction_revenue  252289 non-null  float64\n",
      " 12  continent            252289 non-null  object \n",
      " 13  subcontinent         252289 non-null  object \n",
      " 14  country              252289 non-null  object \n",
      " 15  traffic_source       252289 non-null  object \n",
      " 16  traffic_medium       252289 non-null  object \n",
      " 17  keyword              114614 non-null  object \n",
      " 18  referral_path        91182 non-null   object \n",
      "dtypes: float64(5), int64(2), object(12)\n",
      "memory usage: 36.6+ MB\n"
     ]
    }
   ],
   "source": [
    "train.info()"
   ]
  },
  {
   "cell_type": "code",
   "execution_count": 6,
   "metadata": {},
   "outputs": [
    {
     "name": "stdout",
     "output_type": "stream",
     "text": [
      "sessionID : 252289\n",
      "userID : 206024\n",
      "TARGET : 117\n",
      "browser : 70\n",
      "OS : 21\n",
      "device : 3\n",
      "new : 2\n",
      "quality : 98\n",
      "duration : 2972\n",
      "bounced : 2\n",
      "transaction : 8\n",
      "transaction_revenue : 1218\n",
      "continent : 6\n",
      "subcontinent : 23\n",
      "country : 205\n",
      "traffic_source : 168\n",
      "traffic_medium : 7\n",
      "keyword : 623\n",
      "referral_path : 1578\n"
     ]
    }
   ],
   "source": [
    "# 각 변수 별 고유값 확인\n",
    "for col in train.columns.to_list():\n",
    "    print(f\"{col} : {train[col].nunique()}\")"
   ]
  },
  {
   "cell_type": "markdown",
   "metadata": {},
   "source": [
    "## userID"
   ]
  },
  {
   "cell_type": "code",
   "execution_count": 32,
   "metadata": {},
   "outputs": [
    {
     "data": {
      "text/plain": [
       "26258"
      ]
     },
     "execution_count": 32,
     "metadata": {},
     "output_type": "execute_result"
    }
   ],
   "source": [
    "# 2번 이상 session을 발생시킨 인원을 구해보자. \n",
    "vc = train['userID'].value_counts()\n",
    "vc_ = vc[vc >= 2]\n",
    "len(vc_)"
   ]
  },
  {
   "cell_type": "markdown",
   "metadata": {},
   "source": [
    "## Target"
   ]
  },
  {
   "cell_type": "code",
   "execution_count": 53,
   "metadata": {},
   "outputs": [
    {
     "data": {
      "text/plain": [
       "Index([  1.0,   2.0,   3.0,   4.0,   5.0,   6.0,   7.0,   8.0,   9.0,  10.0,\n",
       "       ...\n",
       "       157.0, 161.0, 171.0, 176.0, 198.0, 199.0, 224.0, 270.0, 283.0, 386.0],\n",
       "      dtype='float64', name='TARGET', length=117)"
      ]
     },
     "metadata": {},
     "output_type": "display_data"
    },
    {
     "data": {
      "text/plain": [
       "array([126008,  33690,  23636,  14291,  10743,   7720,   6181,   4836,\n",
       "         3865,   3066,   2695,   2153,   1827,   1545,   1275,   1099,\n",
       "          984,    758,    678,    551,    529,    482,    374,    354,\n",
       "          309,    283,    226,    207,    167,    164,    139,    127,\n",
       "          115,    108,     85,     80,     78,     71,     70,     60,\n",
       "           51,     48,     43,     41,     38,     31,     25,     22,\n",
       "           21,     20,     16,     15,     14,     12,     11,     10,\n",
       "            7,      6,      5,      3,      2,      1], dtype=int64)"
      ]
     },
     "metadata": {},
     "output_type": "display_data"
    },
    {
     "data": {
      "text/plain": [
       "62"
      ]
     },
     "metadata": {},
     "output_type": "display_data"
    }
   ],
   "source": [
    "# 타겟의 고유값 종류를 살펴봄\n",
    "target_vc = train['TARGET'].value_counts()\n",
    "# target_vc = target_vc[target_vc >= 2]\n",
    "display(target_vc.index.sort_values())\n",
    "display(target_vc.unique())\n",
    "display(target_vc.nunique())"
   ]
  },
  {
   "cell_type": "code",
   "execution_count": 57,
   "metadata": {},
   "outputs": [
    {
     "data": {
      "text/plain": [
       "Series([], Name: TARGET, dtype: float64)"
      ]
     },
     "execution_count": 57,
     "metadata": {},
     "output_type": "execute_result"
    }
   ],
   "source": [
    "x = train['TARGET']\n",
    "\n",
    "result = x.apply(lambda x: x- int(x))\n",
    "result[result != 0.0]"
   ]
  },
  {
   "cell_type": "code",
   "execution_count": 51,
   "metadata": {},
   "outputs": [
    {
     "data": {
      "image/png": "[encoded data removed]",
      "text/plain": [
       "<Figure size 640x480 with 1 Axes>"
      ]
     },
     "metadata": {},
     "output_type": "display_data"
    }
   ],
   "source": [
    "sns.barplot(target_vc)\n",
    "plt.xticks(rotation=-45)\n",
    "plt.tight_layout()\n",
    "plt.show()"
   ]
  },
  {
   "cell_type": "markdown",
   "metadata": {},
   "source": [
    "## Browser"
   ]
  },
  {
   "cell_type": "code",
   "execution_count": 62,
   "metadata": {},
   "outputs": [
    {
     "data": {
      "text/plain": [
       "array(['Chrome', 'Samsung Internet', 'Firefox', 'Opera',\n",
       "       'Safari (in-app)', 'Edge', 'Safari', 'Android Webview',\n",
       "       'UC Browser', 'Internet Explorer', 'Opera Mini', 'BlackBerry',\n",
       "       'Android Browser', 'Amazon Silk', 'Coc Coc', 'YaBrowser',\n",
       "       'Nintendo Browser', 'Nokia Browser', 'MRCHROME', 'Puffin',\n",
       "       'Mozilla Compatible Agent', 'Maxthon', '+Simple Browser',\n",
       "       'Apple-iPhone7C2', 'Playstation Vita Browser',\n",
       "       'osee2unifiedRelease', 'SAMSUNG-SM-B355E Opera', 'DESKTOP', 'Iron',\n",
       "       'Browser', 'rpfanjzoxyemsgbtichqkudwlv',\n",
       "       'cajrnbtvqwfkolzyxushpdgime', 'wvsmagudcqeytijorlhxnfzkbp',\n",
       "       'efkaxnbyohqtspzlvcwrjmigdu', 'bsfnwveckhgpdoyjxmizruqtla',\n",
       "       'Mozilla', 'Konqueror', 'Netscape', 'Amazon.com', 'SeaMonkey',\n",
       "       ';__CT_JOB_ID__:76fd1acb-e365-43c0-b967-908bcf5d5b59;',\n",
       "       'eosutpkiahjzvdgcwxlmyfqbrn', 'cnwmpegudakrqzljtvfxohbysi',\n",
       "       'fspmihbxzowgnuctrqykjlvade', 'YE',\n",
       "       ';__CT_JOB_ID__:7e575295-571e-4e82-9254-7f2c8bbb9183;',\n",
       "       'dkagwlhmfqxercuozpnbvtsiyj', 'kqebrzuwmiycxdvtoljnhsfpga',\n",
       "       'ohukwejvqmdtibfrzpycgxanls', 'Seznam',\n",
       "       ';__CT_JOB_ID__:fe02e46f-b6ae-41f1-8563-3b40bbb623a9;',\n",
       "       ';__CT_JOB_ID__:d14534ff-e2fc-4692-92aa-e34508f1c418;',\n",
       "       ';__CT_JOB_ID__:a4f837b8-8d78-4c42-ba9a-d870cf1a4a7e;',\n",
       "       ';__CT_JOB_ID__:dd6177aa-1baa-4007-9b38-b7cab4f7611c;',\n",
       "       ';__CT_JOB_ID__:58e2ecba-7666-4a10-b498-8216457ce472;',\n",
       "       ';__CT_JOB_ID__:4333777f-bb0c-4a18-935e-df5658dbce2d;',\n",
       "       ';__CT_JOB_ID__:2547db0b-ec43-452a-a0d4-ff42b7dc7907;',\n",
       "       ';__CT_JOB_ID__:2e0eca60-83ab-482d-bb81-343d113254fb;',\n",
       "       ';__CT_JOB_ID__:a7ed0808-e70c-4b19-b1a3-1018bbb7dc7f;',\n",
       "       ';__CT_JOB_ID__:85da5736-a78e-45a9-837e-f5a53e5cd725;',\n",
       "       ';__CT_JOB_ID__:a24a8978-e5e8-4dc9-af66-c4ed89ea25d7;',\n",
       "       ';__CT_JOB_ID__:a80e8e16-6e98-455b-885a-a4dd40f3d344;',\n",
       "       ';__CT_JOB_ID__:89e59554-ad41-4e94-957b-f12bd012530c;',\n",
       "       'Lunascape',\n",
       "       ';__CT_JOB_ID__:0b39e7ca-1431-42e3-ba1f-9d8951a65840;',\n",
       "       ';__CT_JOB_ID__:6e9dcf2f-f58f-4938-91e3-77e00868177b;',\n",
       "       'starmaker',\n",
       "       ';__CT_JOB_ID__:97909e28-4228-4b55-8ad5-cc791f2b583c;',\n",
       "       ';__CT_JOB_ID__:0a075729-93a5-43d0-9638-4cbd41d5f5a5;',\n",
       "       'NokiaC7-00'], dtype=object)"
      ]
     },
     "metadata": {},
     "output_type": "display_data"
    },
    {
     "data": {
      "text/plain": [
       "70"
      ]
     },
     "metadata": {},
     "output_type": "display_data"
    }
   ],
   "source": [
    "display(train['browser'].unique())\n",
    "display(len(train['browser'].unique()))"
   ]
  },
  {
   "cell_type": "code",
   "execution_count": 66,
   "metadata": {},
   "outputs": [
    {
     "data": {
      "text/plain": [
       "browser\n",
       "bsfnwveckhgpdoyjxmizruqtla                              1\n",
       ";__CT_JOB_ID__:a80e8e16-6e98-455b-885a-a4dd40f3d344;    1\n",
       ";__CT_JOB_ID__:4333777f-bb0c-4a18-935e-df5658dbce2d;    1\n",
       ";__CT_JOB_ID__:2547db0b-ec43-452a-a0d4-ff42b7dc7907;    1\n",
       ";__CT_JOB_ID__:2e0eca60-83ab-482d-bb81-343d113254fb;    1\n",
       ";__CT_JOB_ID__:a7ed0808-e70c-4b19-b1a3-1018bbb7dc7f;    1\n",
       ";__CT_JOB_ID__:85da5736-a78e-45a9-837e-f5a53e5cd725;    1\n",
       ";__CT_JOB_ID__:a24a8978-e5e8-4dc9-af66-c4ed89ea25d7;    1\n",
       ";__CT_JOB_ID__:89e59554-ad41-4e94-957b-f12bd012530c;    1\n",
       "Netscape                                                1\n",
       "Lunascape                                               1\n",
       ";__CT_JOB_ID__:0b39e7ca-1431-42e3-ba1f-9d8951a65840;    1\n",
       ";__CT_JOB_ID__:6e9dcf2f-f58f-4938-91e3-77e00868177b;    1\n",
       "starmaker                                               1\n",
       ";__CT_JOB_ID__:97909e28-4228-4b55-8ad5-cc791f2b583c;    1\n",
       ";__CT_JOB_ID__:0a075729-93a5-43d0-9638-4cbd41d5f5a5;    1\n",
       ";__CT_JOB_ID__:58e2ecba-7666-4a10-b498-8216457ce472;    1\n",
       ";__CT_JOB_ID__:dd6177aa-1baa-4007-9b38-b7cab4f7611c;    1\n",
       ";__CT_JOB_ID__:a4f837b8-8d78-4c42-ba9a-d870cf1a4a7e;    1\n",
       ";__CT_JOB_ID__:d14534ff-e2fc-4692-92aa-e34508f1c418;    1\n",
       ";__CT_JOB_ID__:fe02e46f-b6ae-41f1-8563-3b40bbb623a9;    1\n",
       "rpfanjzoxyemsgbtichqkudwlv                              1\n",
       "ohukwejvqmdtibfrzpycgxanls                              1\n",
       "kqebrzuwmiycxdvtoljnhsfpga                              1\n",
       "dkagwlhmfqxercuozpnbvtsiyj                              1\n",
       ";__CT_JOB_ID__:7e575295-571e-4e82-9254-7f2c8bbb9183;    1\n",
       "cajrnbtvqwfkolzyxushpdgime                              1\n",
       "fspmihbxzowgnuctrqykjlvade                              1\n",
       "cnwmpegudakrqzljtvfxohbysi                              1\n",
       "eosutpkiahjzvdgcwxlmyfqbrn                              1\n",
       ";__CT_JOB_ID__:76fd1acb-e365-43c0-b967-908bcf5d5b59;    1\n",
       "wvsmagudcqeytijorlhxnfzkbp                              1\n",
       "efkaxnbyohqtspzlvcwrjmigdu                              1\n",
       "NokiaC7-00                                              1\n",
       "Name: count, dtype: int64"
      ]
     },
     "metadata": {},
     "output_type": "display_data"
    },
    {
     "data": {
      "text/plain": [
       "browser\n",
       "Chrome                      174395\n",
       "Safari                       35689\n",
       "Android Webview              13855\n",
       "Firefox                       8436\n",
       "Internet Explorer             4573\n",
       "Edge                          3702\n",
       "Samsung Internet              3077\n",
       "Opera Mini                    3041\n",
       "Safari (in-app)               1995\n",
       "Opera                         1331\n",
       "UC Browser                     901\n",
       "YaBrowser                      402\n",
       "Amazon Silk                    257\n",
       "Coc Coc                        206\n",
       "Mozilla Compatible Agent       124\n",
       "Android Browser                110\n",
       "Puffin                          55\n",
       "MRCHROME                        15\n",
       "Nokia Browser                   13\n",
       "BlackBerry                      13\n",
       "Maxthon                         11\n",
       "Playstation Vita Browser         9\n",
       "Nintendo Browser                 7\n",
       "DESKTOP                          5\n",
       "Iron                             4\n",
       "SeaMonkey                        4\n",
       "Konqueror                        3\n",
       "Browser                          3\n",
       "Mozilla                          3\n",
       "osee2unifiedRelease              3\n",
       "+Simple Browser                  3\n",
       "SAMSUNG-SM-B355E Opera           2\n",
       "YE                               2\n",
       "Amazon.com                       2\n",
       "Apple-iPhone7C2                  2\n",
       "Seznam                           2\n",
       "Name: count, dtype: int64"
      ]
     },
     "metadata": {},
     "output_type": "display_data"
    }
   ],
   "source": [
    "browser_vc = train['browser'].value_counts()\n",
    "display(browser_vc[browser_vc == 1])\n",
    "display(browser_vc[browser_vc > 1])"
   ]
  },
  {
   "cell_type": "markdown",
   "metadata": {},
   "source": [
    "## OS"
   ]
  },
  {
   "cell_type": "code",
   "execution_count": 67,
   "metadata": {},
   "outputs": [
    {
     "data": {
      "text/plain": [
       "OS\n",
       "Windows             88119\n",
       "Macintosh           60316\n",
       "Android             51870\n",
       "iOS                 29778\n",
       "Linux                9562\n",
       "Chrome OS            9222\n",
       "(not set)            2592\n",
       "Tizen                 321\n",
       "Samsung               259\n",
       "Windows Phone         128\n",
       "OS/2                   36\n",
       "Xbox                   31\n",
       "BlackBerry             29\n",
       "Playstation Vita        9\n",
       "Nintendo 3DS            6\n",
       "Firefox OS              4\n",
       "FreeBSD                 3\n",
       "SunOS                   1\n",
       "Nintendo WiiU           1\n",
       "SymbianOS               1\n",
       "Nokia                   1\n",
       "Name: count, dtype: int64"
      ]
     },
     "execution_count": 67,
     "metadata": {},
     "output_type": "execute_result"
    }
   ],
   "source": [
    "train['OS'].value_counts()"
   ]
  },
  {
   "cell_type": "markdown",
   "metadata": {},
   "source": [
    "## device"
   ]
  },
  {
   "cell_type": "code",
   "execution_count": 69,
   "metadata": {},
   "outputs": [
    {
     "data": {
      "text/plain": [
       "device\n",
       "desktop    167133\n",
       "mobile      76460\n",
       "tablet       8696\n",
       "Name: count, dtype: int64"
      ]
     },
     "metadata": {},
     "output_type": "display_data"
    },
    {
     "data": {
      "text/plain": [
       "device\n",
       "desktop    0.662466\n",
       "mobile     0.303065\n",
       "tablet     0.034468\n",
       "Name: proportion, dtype: float64"
      ]
     },
     "metadata": {},
     "output_type": "display_data"
    }
   ],
   "source": [
    "display(train['device'].value_counts())\n",
    "display(train['device'].value_counts(normalize=True))"
   ]
  },
  {
   "cell_type": "markdown",
   "metadata": {},
   "source": [
    "## new "
   ]
  },
  {
   "cell_type": "markdown",
   "metadata": {},
   "source": [
    "user의 첫방문여부에 대한 칼럼일 것으로 예상됨. 이를 확인하기 위해 userID가 2번 이상 발생하는 data를 살펴보자. "
   ]
  },
  {
   "cell_type": "code",
   "execution_count": 9,
   "metadata": {},
   "outputs": [
    {
     "data": {
      "text/plain": [
       "0         0\n",
       "1         1\n",
       "2         1\n",
       "3         1\n",
       "4         0\n",
       "         ..\n",
       "252284    1\n",
       "252285    0\n",
       "252286    0\n",
       "252287    1\n",
       "252288    0\n",
       "Name: new, Length: 252289, dtype: int64"
      ]
     },
     "execution_count": 9,
     "metadata": {},
     "output_type": "execute_result"
    }
   ],
   "source": [
    "train['new']"
   ]
  },
  {
   "cell_type": "code",
   "execution_count": 12,
   "metadata": {},
   "outputs": [
    {
     "data": {
      "text/plain": [
       "userID\n",
       "USER_002675    78\n",
       "USER_000643    74\n",
       "USER_002967    61\n",
       "USER_002775    59\n",
       "USER_006147    50\n",
       "               ..\n",
       "USER_120464     2\n",
       "USER_054511     2\n",
       "USER_099933     2\n",
       "USER_054512     2\n",
       "USER_096987     2\n",
       "Name: count, Length: 26258, dtype: int64"
      ]
     },
     "execution_count": 12,
     "metadata": {},
     "output_type": "execute_result"
    }
   ],
   "source": [
    "userID_vc = train['userID'].value_counts()\n",
    "userID_vc[userID_vc> 1]"
   ]
  },
  {
   "cell_type": "code",
   "execution_count": 13,
   "metadata": {},
   "outputs": [
    {
     "data": {
      "text/html": [
       "<div>\n",
       "<style scoped>\n",
       "    .dataframe tbody tr th:only-of-type {\n",
       "        vertical-align: middle;\n",
       "    }\n",
       "\n",
       "    .dataframe tbody tr th {\n",
       "        vertical-align: top;\n",
       "    }\n",
       "\n",
       "    .dataframe thead th {\n",
       "        text-align: right;\n",
       "    }\n",
       "</style>\n",
       "<table border=\"1\" class=\"dataframe\">\n",
       "  <thead>\n",
       "    <tr style=\"text-align: right;\">\n",
       "      <th></th>\n",
       "      <th>sessionID</th>\n",
       "      <th>userID</th>\n",
       "      <th>TARGET</th>\n",
       "      <th>browser</th>\n",
       "      <th>OS</th>\n",
       "      <th>device</th>\n",
       "      <th>new</th>\n",
       "      <th>quality</th>\n",
       "      <th>duration</th>\n",
       "      <th>bounced</th>\n",
       "      <th>transaction</th>\n",
       "      <th>transaction_revenue</th>\n",
       "      <th>continent</th>\n",
       "      <th>subcontinent</th>\n",
       "      <th>country</th>\n",
       "      <th>traffic_source</th>\n",
       "      <th>traffic_medium</th>\n",
       "      <th>keyword</th>\n",
       "      <th>referral_path</th>\n",
       "    </tr>\n",
       "  </thead>\n",
       "  <tbody>\n",
       "    <tr>\n",
       "      <th>116394</th>\n",
       "      <td>SESSION_116394</td>\n",
       "      <td>USER_096987</td>\n",
       "      <td>1.0</td>\n",
       "      <td>Chrome</td>\n",
       "      <td>Windows</td>\n",
       "      <td>desktop</td>\n",
       "      <td>1</td>\n",
       "      <td>1.0</td>\n",
       "      <td>0.0</td>\n",
       "      <td>1</td>\n",
       "      <td>0.0</td>\n",
       "      <td>0.0</td>\n",
       "      <td>Europe</td>\n",
       "      <td>Southern Europe</td>\n",
       "      <td>Kosovo</td>\n",
       "      <td>google</td>\n",
       "      <td>cpc</td>\n",
       "      <td>Category10</td>\n",
       "      <td>NaN</td>\n",
       "    </tr>\n",
       "    <tr>\n",
       "      <th>116395</th>\n",
       "      <td>SESSION_116395</td>\n",
       "      <td>USER_096987</td>\n",
       "      <td>1.0</td>\n",
       "      <td>Chrome</td>\n",
       "      <td>Windows</td>\n",
       "      <td>desktop</td>\n",
       "      <td>0</td>\n",
       "      <td>1.0</td>\n",
       "      <td>0.0</td>\n",
       "      <td>1</td>\n",
       "      <td>0.0</td>\n",
       "      <td>0.0</td>\n",
       "      <td>Europe</td>\n",
       "      <td>Southern Europe</td>\n",
       "      <td>Kosovo</td>\n",
       "      <td>google</td>\n",
       "      <td>cpc</td>\n",
       "      <td>Category10</td>\n",
       "      <td>NaN</td>\n",
       "    </tr>\n",
       "  </tbody>\n",
       "</table>\n",
       "</div>"
      ],
      "text/plain": [
       "             sessionID       userID  TARGET browser       OS   device  new  \\\n",
       "116394  SESSION_116394  USER_096987     1.0  Chrome  Windows  desktop    1   \n",
       "116395  SESSION_116395  USER_096987     1.0  Chrome  Windows  desktop    0   \n",
       "\n",
       "        quality  duration  bounced  transaction  transaction_revenue  \\\n",
       "116394      1.0       0.0        1          0.0                  0.0   \n",
       "116395      1.0       0.0        1          0.0                  0.0   \n",
       "\n",
       "       continent     subcontinent country traffic_source traffic_medium  \\\n",
       "116394    Europe  Southern Europe  Kosovo         google            cpc   \n",
       "116395    Europe  Southern Europe  Kosovo         google            cpc   \n",
       "\n",
       "           keyword referral_path  \n",
       "116394  Category10           NaN  \n",
       "116395  Category10           NaN  "
      ]
     },
     "execution_count": 13,
     "metadata": {},
     "output_type": "execute_result"
    }
   ],
   "source": [
    "train[train['userID'] == 'USER_096987']"
   ]
  },
  {
   "cell_type": "code",
   "execution_count": 14,
   "metadata": {},
   "outputs": [
    {
     "data": {
      "text/html": [
       "<div>\n",
       "<style scoped>\n",
       "    .dataframe tbody tr th:only-of-type {\n",
       "        vertical-align: middle;\n",
       "    }\n",
       "\n",
       "    .dataframe tbody tr th {\n",
       "        vertical-align: top;\n",
       "    }\n",
       "\n",
       "    .dataframe thead th {\n",
       "        text-align: right;\n",
       "    }\n",
       "</style>\n",
       "<table border=\"1\" class=\"dataframe\">\n",
       "  <thead>\n",
       "    <tr style=\"text-align: right;\">\n",
       "      <th></th>\n",
       "      <th>sessionID</th>\n",
       "      <th>userID</th>\n",
       "      <th>TARGET</th>\n",
       "      <th>browser</th>\n",
       "      <th>OS</th>\n",
       "      <th>device</th>\n",
       "      <th>new</th>\n",
       "      <th>quality</th>\n",
       "      <th>duration</th>\n",
       "      <th>bounced</th>\n",
       "      <th>transaction</th>\n",
       "      <th>transaction_revenue</th>\n",
       "      <th>continent</th>\n",
       "      <th>subcontinent</th>\n",
       "      <th>country</th>\n",
       "      <th>traffic_source</th>\n",
       "      <th>traffic_medium</th>\n",
       "      <th>keyword</th>\n",
       "      <th>referral_path</th>\n",
       "    </tr>\n",
       "  </thead>\n",
       "  <tbody>\n",
       "    <tr>\n",
       "      <th>65984</th>\n",
       "      <td>SESSION_065984</td>\n",
       "      <td>USER_054512</td>\n",
       "      <td>1.0</td>\n",
       "      <td>Chrome</td>\n",
       "      <td>Macintosh</td>\n",
       "      <td>desktop</td>\n",
       "      <td>1</td>\n",
       "      <td>1.0</td>\n",
       "      <td>0.0</td>\n",
       "      <td>1</td>\n",
       "      <td>0.0</td>\n",
       "      <td>0.0</td>\n",
       "      <td>Asia</td>\n",
       "      <td>Eastern Asia</td>\n",
       "      <td>Taiwan</td>\n",
       "      <td>(direct)</td>\n",
       "      <td>(none)</td>\n",
       "      <td>NaN</td>\n",
       "      <td>NaN</td>\n",
       "    </tr>\n",
       "    <tr>\n",
       "      <th>66161</th>\n",
       "      <td>SESSION_066161</td>\n",
       "      <td>USER_054512</td>\n",
       "      <td>7.0</td>\n",
       "      <td>Chrome</td>\n",
       "      <td>Macintosh</td>\n",
       "      <td>desktop</td>\n",
       "      <td>0</td>\n",
       "      <td>2.0</td>\n",
       "      <td>22.0</td>\n",
       "      <td>0</td>\n",
       "      <td>0.0</td>\n",
       "      <td>0.0</td>\n",
       "      <td>Asia</td>\n",
       "      <td>Eastern Asia</td>\n",
       "      <td>Taiwan</td>\n",
       "      <td>(direct)</td>\n",
       "      <td>(none)</td>\n",
       "      <td>NaN</td>\n",
       "      <td>NaN</td>\n",
       "    </tr>\n",
       "  </tbody>\n",
       "</table>\n",
       "</div>"
      ],
      "text/plain": [
       "            sessionID       userID  TARGET browser         OS   device  new  \\\n",
       "65984  SESSION_065984  USER_054512     1.0  Chrome  Macintosh  desktop    1   \n",
       "66161  SESSION_066161  USER_054512     7.0  Chrome  Macintosh  desktop    0   \n",
       "\n",
       "       quality  duration  bounced  transaction  transaction_revenue continent  \\\n",
       "65984      1.0       0.0        1          0.0                  0.0      Asia   \n",
       "66161      2.0      22.0        0          0.0                  0.0      Asia   \n",
       "\n",
       "       subcontinent country traffic_source traffic_medium keyword  \\\n",
       "65984  Eastern Asia  Taiwan       (direct)         (none)     NaN   \n",
       "66161  Eastern Asia  Taiwan       (direct)         (none)     NaN   \n",
       "\n",
       "      referral_path  \n",
       "65984           NaN  \n",
       "66161           NaN  "
      ]
     },
     "execution_count": 14,
     "metadata": {},
     "output_type": "execute_result"
    }
   ],
   "source": [
    "train[train['userID'] == 'USER_054512']"
   ]
  },
  {
   "cell_type": "code",
   "execution_count": 15,
   "metadata": {},
   "outputs": [
    {
     "data": {
      "text/html": [
       "<div>\n",
       "<style scoped>\n",
       "    .dataframe tbody tr th:only-of-type {\n",
       "        vertical-align: middle;\n",
       "    }\n",
       "\n",
       "    .dataframe tbody tr th {\n",
       "        vertical-align: top;\n",
       "    }\n",
       "\n",
       "    .dataframe thead th {\n",
       "        text-align: right;\n",
       "    }\n",
       "</style>\n",
       "<table border=\"1\" class=\"dataframe\">\n",
       "  <thead>\n",
       "    <tr style=\"text-align: right;\">\n",
       "      <th></th>\n",
       "      <th>sessionID</th>\n",
       "      <th>userID</th>\n",
       "      <th>TARGET</th>\n",
       "      <th>browser</th>\n",
       "      <th>OS</th>\n",
       "      <th>device</th>\n",
       "      <th>new</th>\n",
       "      <th>quality</th>\n",
       "      <th>duration</th>\n",
       "      <th>bounced</th>\n",
       "      <th>transaction</th>\n",
       "      <th>transaction_revenue</th>\n",
       "      <th>continent</th>\n",
       "      <th>subcontinent</th>\n",
       "      <th>country</th>\n",
       "      <th>traffic_source</th>\n",
       "      <th>traffic_medium</th>\n",
       "      <th>keyword</th>\n",
       "      <th>referral_path</th>\n",
       "    </tr>\n",
       "  </thead>\n",
       "  <tbody>\n",
       "    <tr>\n",
       "      <th>120036</th>\n",
       "      <td>SESSION_120036</td>\n",
       "      <td>USER_099933</td>\n",
       "      <td>15.0</td>\n",
       "      <td>Chrome</td>\n",
       "      <td>Android</td>\n",
       "      <td>mobile</td>\n",
       "      <td>1</td>\n",
       "      <td>1.0</td>\n",
       "      <td>296.0</td>\n",
       "      <td>0</td>\n",
       "      <td>0.0</td>\n",
       "      <td>0.0</td>\n",
       "      <td>Asia</td>\n",
       "      <td>Southern Asia</td>\n",
       "      <td>India</td>\n",
       "      <td>youtube.com</td>\n",
       "      <td>referral</td>\n",
       "      <td>NaN</td>\n",
       "      <td>Category13_Path_0007</td>\n",
       "    </tr>\n",
       "    <tr>\n",
       "      <th>121028</th>\n",
       "      <td>SESSION_121028</td>\n",
       "      <td>USER_099933</td>\n",
       "      <td>3.0</td>\n",
       "      <td>Chrome</td>\n",
       "      <td>Android</td>\n",
       "      <td>mobile</td>\n",
       "      <td>0</td>\n",
       "      <td>1.0</td>\n",
       "      <td>181.0</td>\n",
       "      <td>0</td>\n",
       "      <td>0.0</td>\n",
       "      <td>0.0</td>\n",
       "      <td>Asia</td>\n",
       "      <td>Southern Asia</td>\n",
       "      <td>India</td>\n",
       "      <td>youtube.com</td>\n",
       "      <td>referral</td>\n",
       "      <td>NaN</td>\n",
       "      <td>Category13_Path_0007</td>\n",
       "    </tr>\n",
       "  </tbody>\n",
       "</table>\n",
       "</div>"
      ],
      "text/plain": [
       "             sessionID       userID  TARGET browser       OS  device  new  \\\n",
       "120036  SESSION_120036  USER_099933    15.0  Chrome  Android  mobile    1   \n",
       "121028  SESSION_121028  USER_099933     3.0  Chrome  Android  mobile    0   \n",
       "\n",
       "        quality  duration  bounced  transaction  transaction_revenue  \\\n",
       "120036      1.0     296.0        0          0.0                  0.0   \n",
       "121028      1.0     181.0        0          0.0                  0.0   \n",
       "\n",
       "       continent   subcontinent country traffic_source traffic_medium keyword  \\\n",
       "120036      Asia  Southern Asia   India    youtube.com       referral     NaN   \n",
       "121028      Asia  Southern Asia   India    youtube.com       referral     NaN   \n",
       "\n",
       "               referral_path  \n",
       "120036  Category13_Path_0007  \n",
       "121028  Category13_Path_0007  "
      ]
     },
     "execution_count": 15,
     "metadata": {},
     "output_type": "execute_result"
    }
   ],
   "source": [
    "train[train['userID'] == 'USER_099933']"
   ]
  },
  {
   "cell_type": "markdown",
   "metadata": {},
   "source": [
    "## quality"
   ]
  },
  {
   "cell_type": "code",
   "execution_count": 16,
   "metadata": {},
   "outputs": [
    {
     "data": {
      "text/plain": [
       "<Axes: xlabel='quality', ylabel='Count'>"
      ]
     },
     "execution_count": 16,
     "metadata": {},
     "output_type": "execute_result"
    },
    {
     "data": {
      "image/png": "[encoded data removed]",
      "text/plain": [
       "<Figure size 640x480 with 1 Axes>"
      ]
     },
     "metadata": {},
     "output_type": "display_data"
    }
   ],
   "source": [
    "sns.histplot(data=train, x='quality')"
   ]
  },
  {
   "cell_type": "code",
   "execution_count": 23,
   "metadata": {},
   "outputs": [
    {
     "data": {
      "text/plain": [
       "quality\n",
       "1.0     0.797934\n",
       "2.0     0.066261\n",
       "3.0     0.024072\n",
       "4.0     0.013203\n",
       "5.0     0.008902\n",
       "          ...   \n",
       "93.0    0.000099\n",
       "95.0    0.000087\n",
       "96.0    0.000040\n",
       "97.0    0.000020\n",
       "98.0    0.000008\n",
       "Name: proportion, Length: 98, dtype: float64"
      ]
     },
     "execution_count": 23,
     "metadata": {},
     "output_type": "execute_result"
    }
   ],
   "source": [
    "train['quality'].value_counts(normalize=True)"
   ]
  },
  {
   "cell_type": "code",
   "execution_count": 19,
   "metadata": {},
   "outputs": [
    {
     "data": {
      "text/html": [
       "<div>\n",
       "<style scoped>\n",
       "    .dataframe tbody tr th:only-of-type {\n",
       "        vertical-align: middle;\n",
       "    }\n",
       "\n",
       "    .dataframe tbody tr th {\n",
       "        vertical-align: top;\n",
       "    }\n",
       "\n",
       "    .dataframe thead th {\n",
       "        text-align: right;\n",
       "    }\n",
       "</style>\n",
       "<table border=\"1\" class=\"dataframe\">\n",
       "  <thead>\n",
       "    <tr style=\"text-align: right;\">\n",
       "      <th></th>\n",
       "      <th>sessionID</th>\n",
       "      <th>userID</th>\n",
       "      <th>TARGET</th>\n",
       "      <th>browser</th>\n",
       "      <th>OS</th>\n",
       "      <th>device</th>\n",
       "      <th>new</th>\n",
       "      <th>quality</th>\n",
       "      <th>duration</th>\n",
       "      <th>bounced</th>\n",
       "      <th>transaction</th>\n",
       "      <th>transaction_revenue</th>\n",
       "      <th>continent</th>\n",
       "      <th>subcontinent</th>\n",
       "      <th>country</th>\n",
       "      <th>traffic_source</th>\n",
       "      <th>traffic_medium</th>\n",
       "      <th>keyword</th>\n",
       "      <th>referral_path</th>\n",
       "    </tr>\n",
       "  </thead>\n",
       "  <tbody>\n",
       "  </tbody>\n",
       "</table>\n",
       "</div>"
      ],
      "text/plain": [
       "Empty DataFrame\n",
       "Columns: [sessionID, userID, TARGET, browser, OS, device, new, quality, duration, bounced, transaction, transaction_revenue, continent, subcontinent, country, traffic_source, traffic_medium, keyword, referral_path]\n",
       "Index: []"
      ]
     },
     "execution_count": 19,
     "metadata": {},
     "output_type": "execute_result"
    }
   ],
   "source": [
    "train[train['quality']==99]"
   ]
  },
  {
   "cell_type": "markdown",
   "metadata": {},
   "source": [
    "## duration"
   ]
  },
  {
   "cell_type": "code",
   "execution_count": 40,
   "metadata": {},
   "outputs": [
    {
     "data": {
      "text/plain": [
       "0"
      ]
     },
     "execution_count": 40,
     "metadata": {},
     "output_type": "execute_result"
    }
   ],
   "source": [
    "train['duration'].isnull().sum()"
   ]
  },
  {
   "cell_type": "code",
   "execution_count": 37,
   "metadata": {},
   "outputs": [
    {
     "data": {
      "text/plain": [
       "0         839.0\n",
       "1          39.0\n",
       "2           0.0\n",
       "3           0.0\n",
       "4           0.0\n",
       "          ...  \n",
       "252284      0.0\n",
       "252285      0.0\n",
       "252286     69.0\n",
       "252287     28.0\n",
       "252288     77.0\n",
       "Name: duration, Length: 252289, dtype: float64"
      ]
     },
     "execution_count": 37,
     "metadata": {},
     "output_type": "execute_result"
    }
   ],
   "source": [
    "train['duration']"
   ]
  },
  {
   "cell_type": "code",
   "execution_count": 36,
   "metadata": {},
   "outputs": [
    {
     "data": {
      "image/png": "[encoded data removed]",
      "text/plain": [
       "<Figure size 640x480 with 1 Axes>"
      ]
     },
     "metadata": {},
     "output_type": "display_data"
    }
   ],
   "source": [
    "sns.histplot(data=train, x='duration')\n",
    "# plt.xlim(2)\n",
    "plt.ylim(top=11186)\n",
    "plt.show()"
   ]
  },
  {
   "cell_type": "code",
   "execution_count": null,
   "metadata": {},
   "outputs": [],
   "source": []
  },
  {
   "cell_type": "code",
   "execution_count": 34,
   "metadata": {},
   "outputs": [
    {
     "data": {
      "text/plain": [
       "11186.0"
      ]
     },
     "execution_count": 34,
     "metadata": {},
     "output_type": "execute_result"
    }
   ],
   "source": [
    "max(train['duration'])"
   ]
  },
  {
   "cell_type": "markdown",
   "metadata": {},
   "source": [
    "## bounced"
   ]
  },
  {
   "cell_type": "code",
   "execution_count": 41,
   "metadata": {},
   "outputs": [
    {
     "data": {
      "text/plain": [
       "0         0\n",
       "1         0\n",
       "2         1\n",
       "3         1\n",
       "4         1\n",
       "         ..\n",
       "252284    1\n",
       "252285    1\n",
       "252286    0\n",
       "252287    0\n",
       "252288    0\n",
       "Name: bounced, Length: 252289, dtype: int64"
      ]
     },
     "execution_count": 41,
     "metadata": {},
     "output_type": "execute_result"
    }
   ],
   "source": [
    "train['bounced']"
   ]
  },
  {
   "cell_type": "code",
   "execution_count": 42,
   "metadata": {},
   "outputs": [
    {
     "data": {
      "text/plain": [
       "0"
      ]
     },
     "execution_count": 42,
     "metadata": {},
     "output_type": "execute_result"
    }
   ],
   "source": [
    "train['bounced'].isnull().sum()"
   ]
  },
  {
   "cell_type": "code",
   "execution_count": 43,
   "metadata": {},
   "outputs": [
    {
     "data": {
      "text/plain": [
       "0.49367193971992435"
      ]
     },
     "execution_count": 43,
     "metadata": {},
     "output_type": "execute_result"
    }
   ],
   "source": [
    "train['bounced'].mean()"
   ]
  },
  {
   "cell_type": "markdown",
   "metadata": {},
   "source": [
    "## transaction"
   ]
  },
  {
   "cell_type": "code",
   "execution_count": 16,
   "metadata": {},
   "outputs": [
    {
     "data": {
      "text/plain": [
       "0"
      ]
     },
     "execution_count": 16,
     "metadata": {},
     "output_type": "execute_result"
    }
   ],
   "source": [
    "train['transaction'].isnull().sum()"
   ]
  },
  {
   "cell_type": "code",
   "execution_count": 17,
   "metadata": {},
   "outputs": [
    {
     "data": {
      "text/plain": [
       "transaction\n",
       "0.0     250081\n",
       "1.0       2162\n",
       "2.0         38\n",
       "3.0          3\n",
       "4.0          2\n",
       "5.0          1\n",
       "7.0          1\n",
       "12.0         1\n",
       "Name: count, dtype: int64"
      ]
     },
     "execution_count": 17,
     "metadata": {},
     "output_type": "execute_result"
    }
   ],
   "source": [
    "transac_vc = train['transaction'].value_counts()\n",
    "transac_vc"
   ]
  },
  {
   "cell_type": "code",
   "execution_count": 20,
   "metadata": {},
   "outputs": [
    {
     "data": {
      "image/png": "[encoded data removed]",
      "text/plain": [
       "<Figure size 640x480 with 1 Axes>"
      ]
     },
     "metadata": {},
     "output_type": "display_data"
    }
   ],
   "source": [
    "sns.countplot(x=transac_vc)\n",
    "plt.show()"
   ]
  },
  {
   "cell_type": "code",
   "execution_count": 13,
   "metadata": {},
   "outputs": [
    {
     "data": {
      "image/png": "[encoded data removed]",
      "text/plain": [
       "<Figure size 640x480 with 1 Axes>"
      ]
     },
     "metadata": {},
     "output_type": "display_data"
    }
   ],
   "source": [
    "sns.lineplot(data=train, x='transaction', y='TARGET')\n",
    "plt.show()"
   ]
  },
  {
   "cell_type": "code",
   "execution_count": 7,
   "metadata": {},
   "outputs": [
    {
     "data": {
      "image/png": "[encoded data removed]",
      "text/plain": [
       "<Figure size 640x480 with 1 Axes>"
      ]
     },
     "metadata": {},
     "output_type": "display_data"
    }
   ],
   "source": [
    "sns.set_style(style='whitegrid')\n",
    "sns.scatterplot(data=train, x='transaction', y='TARGET')\n",
    "plt.show()"
   ]
  },
  {
   "cell_type": "code",
   "execution_count": 14,
   "metadata": {},
   "outputs": [
    {
     "data": {
      "image/png": "[encoded data removed]",
      "text/plain": [
       "<Figure size 640x480 with 1 Axes>"
      ]
     },
     "metadata": {},
     "output_type": "display_data"
    }
   ],
   "source": [
    "sns.lineplot(data=train, x='TARGET', y='transaction')\n",
    "plt.show()"
   ]
  },
  {
   "cell_type": "code",
   "execution_count": 15,
   "metadata": {},
   "outputs": [
    {
     "data": {
      "text/plain": [
       "<Axes: xlabel='TARGET', ylabel='transaction'>"
      ]
     },
     "execution_count": 15,
     "metadata": {},
     "output_type": "execute_result"
    },
    {
     "data": {
      "image/png": "[encoded data removed]",
      "text/plain": [
       "<Figure size 640x480 with 1 Axes>"
      ]
     },
     "metadata": {},
     "output_type": "display_data"
    }
   ],
   "source": [
    "sns.scatterplot(data=train, x='TARGET', y='transaction')"
   ]
  },
  {
   "cell_type": "code",
   "execution_count": 21,
   "metadata": {},
   "outputs": [
    {
     "data": {
      "text/html": [
       "<div>\n",
       "<style scoped>\n",
       "    .dataframe tbody tr th:only-of-type {\n",
       "        vertical-align: middle;\n",
       "    }\n",
       "\n",
       "    .dataframe tbody tr th {\n",
       "        vertical-align: top;\n",
       "    }\n",
       "\n",
       "    .dataframe thead th {\n",
       "        text-align: right;\n",
       "    }\n",
       "</style>\n",
       "<table border=\"1\" class=\"dataframe\">\n",
       "  <thead>\n",
       "    <tr style=\"text-align: right;\">\n",
       "      <th></th>\n",
       "      <th>sessionID</th>\n",
       "      <th>userID</th>\n",
       "      <th>TARGET</th>\n",
       "      <th>browser</th>\n",
       "      <th>OS</th>\n",
       "      <th>device</th>\n",
       "      <th>new</th>\n",
       "      <th>quality</th>\n",
       "      <th>duration</th>\n",
       "      <th>bounced</th>\n",
       "      <th>transaction</th>\n",
       "      <th>transaction_revenue</th>\n",
       "      <th>continent</th>\n",
       "      <th>subcontinent</th>\n",
       "      <th>country</th>\n",
       "      <th>traffic_source</th>\n",
       "      <th>traffic_medium</th>\n",
       "      <th>keyword</th>\n",
       "      <th>referral_path</th>\n",
       "    </tr>\n",
       "  </thead>\n",
       "  <tbody>\n",
       "    <tr>\n",
       "      <th>100318</th>\n",
       "      <td>SESSION_100318</td>\n",
       "      <td>USER_039312</td>\n",
       "      <td>161.0</td>\n",
       "      <td>Chrome</td>\n",
       "      <td>Macintosh</td>\n",
       "      <td>desktop</td>\n",
       "      <td>0</td>\n",
       "      <td>87.0</td>\n",
       "      <td>4148.0</td>\n",
       "      <td>0</td>\n",
       "      <td>12.0</td>\n",
       "      <td>649821280.0</td>\n",
       "      <td>Americas</td>\n",
       "      <td>Northern America</td>\n",
       "      <td>United States</td>\n",
       "      <td>(direct)</td>\n",
       "      <td>(none)</td>\n",
       "      <td>NaN</td>\n",
       "      <td>Category1</td>\n",
       "    </tr>\n",
       "  </tbody>\n",
       "</table>\n",
       "</div>"
      ],
      "text/plain": [
       "             sessionID       userID  TARGET browser         OS   device  new  \\\n",
       "100318  SESSION_100318  USER_039312   161.0  Chrome  Macintosh  desktop    0   \n",
       "\n",
       "        quality  duration  bounced  transaction  transaction_revenue  \\\n",
       "100318     87.0    4148.0        0         12.0          649821280.0   \n",
       "\n",
       "       continent      subcontinent        country traffic_source  \\\n",
       "100318  Americas  Northern America  United States       (direct)   \n",
       "\n",
       "       traffic_medium keyword referral_path  \n",
       "100318         (none)     NaN     Category1  "
      ]
     },
     "execution_count": 21,
     "metadata": {},
     "output_type": "execute_result"
    }
   ],
   "source": [
    "train[train['transaction'] == 12.0]"
   ]
  },
  {
   "cell_type": "code",
   "execution_count": 22,
   "metadata": {},
   "outputs": [
    {
     "data": {
      "text/html": [
       "<div>\n",
       "<style scoped>\n",
       "    .dataframe tbody tr th:only-of-type {\n",
       "        vertical-align: middle;\n",
       "    }\n",
       "\n",
       "    .dataframe tbody tr th {\n",
       "        vertical-align: top;\n",
       "    }\n",
       "\n",
       "    .dataframe thead th {\n",
       "        text-align: right;\n",
       "    }\n",
       "</style>\n",
       "<table border=\"1\" class=\"dataframe\">\n",
       "  <thead>\n",
       "    <tr style=\"text-align: right;\">\n",
       "      <th></th>\n",
       "      <th>sessionID</th>\n",
       "      <th>userID</th>\n",
       "      <th>TARGET</th>\n",
       "      <th>browser</th>\n",
       "      <th>OS</th>\n",
       "      <th>device</th>\n",
       "      <th>new</th>\n",
       "      <th>quality</th>\n",
       "      <th>duration</th>\n",
       "      <th>bounced</th>\n",
       "      <th>transaction</th>\n",
       "      <th>transaction_revenue</th>\n",
       "      <th>continent</th>\n",
       "      <th>subcontinent</th>\n",
       "      <th>country</th>\n",
       "      <th>traffic_source</th>\n",
       "      <th>traffic_medium</th>\n",
       "      <th>keyword</th>\n",
       "      <th>referral_path</th>\n",
       "    </tr>\n",
       "  </thead>\n",
       "  <tbody>\n",
       "    <tr>\n",
       "      <th>46934</th>\n",
       "      <td>SESSION_046934</td>\n",
       "      <td>USER_039312</td>\n",
       "      <td>9.0</td>\n",
       "      <td>Chrome</td>\n",
       "      <td>Macintosh</td>\n",
       "      <td>desktop</td>\n",
       "      <td>1</td>\n",
       "      <td>27.0</td>\n",
       "      <td>258.0</td>\n",
       "      <td>0</td>\n",
       "      <td>0.0</td>\n",
       "      <td>0.0</td>\n",
       "      <td>Americas</td>\n",
       "      <td>Northern America</td>\n",
       "      <td>United States</td>\n",
       "      <td>(direct)</td>\n",
       "      <td>(none)</td>\n",
       "      <td>NaN</td>\n",
       "      <td>Category1</td>\n",
       "    </tr>\n",
       "    <tr>\n",
       "      <th>47016</th>\n",
       "      <td>SESSION_047016</td>\n",
       "      <td>USER_039312</td>\n",
       "      <td>1.0</td>\n",
       "      <td>Chrome</td>\n",
       "      <td>Macintosh</td>\n",
       "      <td>desktop</td>\n",
       "      <td>0</td>\n",
       "      <td>1.0</td>\n",
       "      <td>0.0</td>\n",
       "      <td>1</td>\n",
       "      <td>0.0</td>\n",
       "      <td>0.0</td>\n",
       "      <td>Americas</td>\n",
       "      <td>Northern America</td>\n",
       "      <td>United States</td>\n",
       "      <td>(direct)</td>\n",
       "      <td>(none)</td>\n",
       "      <td>NaN</td>\n",
       "      <td>Category1</td>\n",
       "    </tr>\n",
       "    <tr>\n",
       "      <th>100318</th>\n",
       "      <td>SESSION_100318</td>\n",
       "      <td>USER_039312</td>\n",
       "      <td>161.0</td>\n",
       "      <td>Chrome</td>\n",
       "      <td>Macintosh</td>\n",
       "      <td>desktop</td>\n",
       "      <td>0</td>\n",
       "      <td>87.0</td>\n",
       "      <td>4148.0</td>\n",
       "      <td>0</td>\n",
       "      <td>12.0</td>\n",
       "      <td>649821280.0</td>\n",
       "      <td>Americas</td>\n",
       "      <td>Northern America</td>\n",
       "      <td>United States</td>\n",
       "      <td>(direct)</td>\n",
       "      <td>(none)</td>\n",
       "      <td>NaN</td>\n",
       "      <td>Category1</td>\n",
       "    </tr>\n",
       "    <tr>\n",
       "      <th>101470</th>\n",
       "      <td>SESSION_101470</td>\n",
       "      <td>USER_039312</td>\n",
       "      <td>10.0</td>\n",
       "      <td>Chrome</td>\n",
       "      <td>Macintosh</td>\n",
       "      <td>desktop</td>\n",
       "      <td>0</td>\n",
       "      <td>56.0</td>\n",
       "      <td>113.0</td>\n",
       "      <td>0</td>\n",
       "      <td>1.0</td>\n",
       "      <td>23212960.0</td>\n",
       "      <td>Americas</td>\n",
       "      <td>Northern America</td>\n",
       "      <td>United States</td>\n",
       "      <td>(direct)</td>\n",
       "      <td>(none)</td>\n",
       "      <td>NaN</td>\n",
       "      <td>Category1</td>\n",
       "    </tr>\n",
       "    <tr>\n",
       "      <th>113728</th>\n",
       "      <td>SESSION_113728</td>\n",
       "      <td>USER_039312</td>\n",
       "      <td>5.0</td>\n",
       "      <td>Chrome</td>\n",
       "      <td>Macintosh</td>\n",
       "      <td>desktop</td>\n",
       "      <td>0</td>\n",
       "      <td>2.0</td>\n",
       "      <td>60.0</td>\n",
       "      <td>0</td>\n",
       "      <td>0.0</td>\n",
       "      <td>0.0</td>\n",
       "      <td>Americas</td>\n",
       "      <td>Northern America</td>\n",
       "      <td>United States</td>\n",
       "      <td>(direct)</td>\n",
       "      <td>(none)</td>\n",
       "      <td>NaN</td>\n",
       "      <td>Category1</td>\n",
       "    </tr>\n",
       "    <tr>\n",
       "      <th>116132</th>\n",
       "      <td>SESSION_116132</td>\n",
       "      <td>USER_039312</td>\n",
       "      <td>5.0</td>\n",
       "      <td>Chrome</td>\n",
       "      <td>Macintosh</td>\n",
       "      <td>desktop</td>\n",
       "      <td>0</td>\n",
       "      <td>2.0</td>\n",
       "      <td>38.0</td>\n",
       "      <td>0</td>\n",
       "      <td>0.0</td>\n",
       "      <td>0.0</td>\n",
       "      <td>Americas</td>\n",
       "      <td>Northern America</td>\n",
       "      <td>United States</td>\n",
       "      <td>(direct)</td>\n",
       "      <td>(none)</td>\n",
       "      <td>NaN</td>\n",
       "      <td>Category1</td>\n",
       "    </tr>\n",
       "    <tr>\n",
       "      <th>125750</th>\n",
       "      <td>SESSION_125750</td>\n",
       "      <td>USER_039312</td>\n",
       "      <td>4.0</td>\n",
       "      <td>Chrome</td>\n",
       "      <td>Macintosh</td>\n",
       "      <td>desktop</td>\n",
       "      <td>0</td>\n",
       "      <td>2.0</td>\n",
       "      <td>82.0</td>\n",
       "      <td>0</td>\n",
       "      <td>0.0</td>\n",
       "      <td>0.0</td>\n",
       "      <td>Americas</td>\n",
       "      <td>Northern America</td>\n",
       "      <td>United States</td>\n",
       "      <td>(direct)</td>\n",
       "      <td>(none)</td>\n",
       "      <td>NaN</td>\n",
       "      <td>Category1</td>\n",
       "    </tr>\n",
       "  </tbody>\n",
       "</table>\n",
       "</div>"
      ],
      "text/plain": [
       "             sessionID       userID  TARGET browser         OS   device  new  \\\n",
       "46934   SESSION_046934  USER_039312     9.0  Chrome  Macintosh  desktop    1   \n",
       "47016   SESSION_047016  USER_039312     1.0  Chrome  Macintosh  desktop    0   \n",
       "100318  SESSION_100318  USER_039312   161.0  Chrome  Macintosh  desktop    0   \n",
       "101470  SESSION_101470  USER_039312    10.0  Chrome  Macintosh  desktop    0   \n",
       "113728  SESSION_113728  USER_039312     5.0  Chrome  Macintosh  desktop    0   \n",
       "116132  SESSION_116132  USER_039312     5.0  Chrome  Macintosh  desktop    0   \n",
       "125750  SESSION_125750  USER_039312     4.0  Chrome  Macintosh  desktop    0   \n",
       "\n",
       "        quality  duration  bounced  transaction  transaction_revenue  \\\n",
       "46934      27.0     258.0        0          0.0                  0.0   \n",
       "47016       1.0       0.0        1          0.0                  0.0   \n",
       "100318     87.0    4148.0        0         12.0          649821280.0   \n",
       "101470     56.0     113.0        0          1.0           23212960.0   \n",
       "113728      2.0      60.0        0          0.0                  0.0   \n",
       "116132      2.0      38.0        0          0.0                  0.0   \n",
       "125750      2.0      82.0        0          0.0                  0.0   \n",
       "\n",
       "       continent      subcontinent        country traffic_source  \\\n",
       "46934   Americas  Northern America  United States       (direct)   \n",
       "47016   Americas  Northern America  United States       (direct)   \n",
       "100318  Americas  Northern America  United States       (direct)   \n",
       "101470  Americas  Northern America  United States       (direct)   \n",
       "113728  Americas  Northern America  United States       (direct)   \n",
       "116132  Americas  Northern America  United States       (direct)   \n",
       "125750  Americas  Northern America  United States       (direct)   \n",
       "\n",
       "       traffic_medium keyword referral_path  \n",
       "46934          (none)     NaN     Category1  \n",
       "47016          (none)     NaN     Category1  \n",
       "100318         (none)     NaN     Category1  \n",
       "101470         (none)     NaN     Category1  \n",
       "113728         (none)     NaN     Category1  \n",
       "116132         (none)     NaN     Category1  \n",
       "125750         (none)     NaN     Category1  "
      ]
     },
     "execution_count": 22,
     "metadata": {},
     "output_type": "execute_result"
    }
   ],
   "source": [
    "train[train['userID'] ==  'USER_039312']"
   ]
  },
  {
   "cell_type": "markdown",
   "metadata": {},
   "source": [
    "## transaction_revenue"
   ]
  },
  {
   "cell_type": "code",
   "execution_count": 64,
   "metadata": {},
   "outputs": [
    {
     "data": {
      "text/plain": [
       "76123    0.00000\n",
       "24428    0.00000\n",
       "71196    0.00000\n",
       "162381   0.00000\n",
       "151384   0.00000\n",
       "55244    0.00000\n",
       "223309   0.00000\n",
       "70044    0.00000\n",
       "244156   0.00000\n",
       "52988    0.00000\n",
       "Name: transaction_revenue, dtype: float64"
      ]
     },
     "execution_count": 64,
     "metadata": {},
     "output_type": "execute_result"
    }
   ],
   "source": [
    "tr = train['transaction_revenue']\n",
    "tr.sample(10)"
   ]
  },
  {
   "cell_type": "code",
   "execution_count": 63,
   "metadata": {},
   "outputs": [
    {
     "data": {
      "text/plain": [
       "count       252289.00000\n",
       "mean        906124.82922\n",
       "std       21276887.17141\n",
       "min              0.00000\n",
       "25%              0.00000\n",
       "50%              0.00000\n",
       "75%              0.00000\n",
       "max     3325712000.00000\n",
       "Name: transaction_revenue, dtype: float64"
      ]
     },
     "execution_count": 63,
     "metadata": {},
     "output_type": "execute_result"
    }
   ],
   "source": [
    "tr.describe()"
   ]
  },
  {
   "cell_type": "code",
   "execution_count": 66,
   "metadata": {},
   "outputs": [
    {
     "data": {
      "text/plain": [
       "Series([], Name: transaction_revenue, dtype: float64)"
      ]
     },
     "execution_count": 66,
     "metadata": {},
     "output_type": "execute_result"
    }
   ],
   "source": [
    "# 소수점 이하의 데이터가 있는지 살펴보자.\n",
    "decimal = tr.apply(lambda x: x-int(x))\n",
    "decimal[decimal != 0.0]"
   ]
  },
  {
   "cell_type": "code",
   "execution_count": 43,
   "metadata": {},
   "outputs": [
    {
     "data": {
      "image/png": "[encoded data removed]",
      "text/plain": [
       "<Figure size 500x500 with 1 Axes>"
      ]
     },
     "metadata": {},
     "output_type": "display_data"
    }
   ],
   "source": [
    "sns.displot(train['transaction_revenue'])\n",
    "plt.show()"
   ]
  },
  {
   "cell_type": "code",
   "execution_count": 54,
   "metadata": {},
   "outputs": [
    {
     "data": {
      "text/html": [
       "<div>\n",
       "<style scoped>\n",
       "    .dataframe tbody tr th:only-of-type {\n",
       "        vertical-align: middle;\n",
       "    }\n",
       "\n",
       "    .dataframe tbody tr th {\n",
       "        vertical-align: top;\n",
       "    }\n",
       "\n",
       "    .dataframe thead th {\n",
       "        text-align: right;\n",
       "    }\n",
       "</style>\n",
       "<table border=\"1\" class=\"dataframe\">\n",
       "  <thead>\n",
       "    <tr style=\"text-align: right;\">\n",
       "      <th></th>\n",
       "      <th>sessionID</th>\n",
       "      <th>userID</th>\n",
       "      <th>TARGET</th>\n",
       "      <th>browser</th>\n",
       "      <th>OS</th>\n",
       "      <th>device</th>\n",
       "      <th>new</th>\n",
       "      <th>quality</th>\n",
       "      <th>duration</th>\n",
       "      <th>bounced</th>\n",
       "      <th>transaction</th>\n",
       "      <th>transaction_revenue</th>\n",
       "      <th>continent</th>\n",
       "      <th>subcontinent</th>\n",
       "      <th>country</th>\n",
       "      <th>traffic_source</th>\n",
       "      <th>traffic_medium</th>\n",
       "      <th>keyword</th>\n",
       "      <th>referral_path</th>\n",
       "    </tr>\n",
       "  </thead>\n",
       "  <tbody>\n",
       "    <tr>\n",
       "      <th>118</th>\n",
       "      <td>SESSION_000118</td>\n",
       "      <td>USER_000116</td>\n",
       "      <td>17.0</td>\n",
       "      <td>Chrome</td>\n",
       "      <td>Macintosh</td>\n",
       "      <td>desktop</td>\n",
       "      <td>1</td>\n",
       "      <td>64.0</td>\n",
       "      <td>1318.0</td>\n",
       "      <td>0</td>\n",
       "      <td>1.0</td>\n",
       "      <td>26620800.0</td>\n",
       "      <td>Americas</td>\n",
       "      <td>Northern America</td>\n",
       "      <td>United States</td>\n",
       "      <td>(direct)</td>\n",
       "      <td>(none)</td>\n",
       "      <td>NaN</td>\n",
       "      <td>Category1</td>\n",
       "    </tr>\n",
       "    <tr>\n",
       "      <th>352</th>\n",
       "      <td>SESSION_000352</td>\n",
       "      <td>USER_000339</td>\n",
       "      <td>18.0</td>\n",
       "      <td>Chrome</td>\n",
       "      <td>Windows</td>\n",
       "      <td>desktop</td>\n",
       "      <td>0</td>\n",
       "      <td>68.0</td>\n",
       "      <td>668.0</td>\n",
       "      <td>0</td>\n",
       "      <td>1.0</td>\n",
       "      <td>53798560.0</td>\n",
       "      <td>Americas</td>\n",
       "      <td>Northern America</td>\n",
       "      <td>United States</td>\n",
       "      <td>(direct)</td>\n",
       "      <td>(none)</td>\n",
       "      <td>NaN</td>\n",
       "      <td>Category1</td>\n",
       "    </tr>\n",
       "    <tr>\n",
       "      <th>1499</th>\n",
       "      <td>SESSION_001499</td>\n",
       "      <td>USER_001383</td>\n",
       "      <td>22.0</td>\n",
       "      <td>Chrome</td>\n",
       "      <td>Windows</td>\n",
       "      <td>desktop</td>\n",
       "      <td>1</td>\n",
       "      <td>28.0</td>\n",
       "      <td>548.0</td>\n",
       "      <td>0</td>\n",
       "      <td>1.0</td>\n",
       "      <td>60869120.0</td>\n",
       "      <td>Americas</td>\n",
       "      <td>Northern America</td>\n",
       "      <td>United States</td>\n",
       "      <td>google</td>\n",
       "      <td>organic</td>\n",
       "      <td>Category8</td>\n",
       "      <td>NaN</td>\n",
       "    </tr>\n",
       "    <tr>\n",
       "      <th>1862</th>\n",
       "      <td>SESSION_001862</td>\n",
       "      <td>USER_001710</td>\n",
       "      <td>16.0</td>\n",
       "      <td>Chrome</td>\n",
       "      <td>Chrome OS</td>\n",
       "      <td>desktop</td>\n",
       "      <td>0</td>\n",
       "      <td>91.0</td>\n",
       "      <td>883.0</td>\n",
       "      <td>0</td>\n",
       "      <td>1.0</td>\n",
       "      <td>7363200.0</td>\n",
       "      <td>Americas</td>\n",
       "      <td>Northern America</td>\n",
       "      <td>United States</td>\n",
       "      <td>(direct)</td>\n",
       "      <td>(none)</td>\n",
       "      <td>NaN</td>\n",
       "      <td>Category6_Path_0008</td>\n",
       "    </tr>\n",
       "    <tr>\n",
       "      <th>2764</th>\n",
       "      <td>SESSION_002764</td>\n",
       "      <td>USER_002529</td>\n",
       "      <td>20.0</td>\n",
       "      <td>Chrome</td>\n",
       "      <td>Android</td>\n",
       "      <td>mobile</td>\n",
       "      <td>1</td>\n",
       "      <td>46.0</td>\n",
       "      <td>1735.0</td>\n",
       "      <td>0</td>\n",
       "      <td>1.0</td>\n",
       "      <td>70771680.0</td>\n",
       "      <td>Americas</td>\n",
       "      <td>Northern America</td>\n",
       "      <td>United States</td>\n",
       "      <td>(direct)</td>\n",
       "      <td>(none)</td>\n",
       "      <td>NaN</td>\n",
       "      <td>NaN</td>\n",
       "    </tr>\n",
       "    <tr>\n",
       "      <th>...</th>\n",
       "      <td>...</td>\n",
       "      <td>...</td>\n",
       "      <td>...</td>\n",
       "      <td>...</td>\n",
       "      <td>...</td>\n",
       "      <td>...</td>\n",
       "      <td>...</td>\n",
       "      <td>...</td>\n",
       "      <td>...</td>\n",
       "      <td>...</td>\n",
       "      <td>...</td>\n",
       "      <td>...</td>\n",
       "      <td>...</td>\n",
       "      <td>...</td>\n",
       "      <td>...</td>\n",
       "      <td>...</td>\n",
       "      <td>...</td>\n",
       "      <td>...</td>\n",
       "      <td>...</td>\n",
       "    </tr>\n",
       "    <tr>\n",
       "      <th>251856</th>\n",
       "      <td>SESSION_251856</td>\n",
       "      <td>USER_205705</td>\n",
       "      <td>30.0</td>\n",
       "      <td>Chrome</td>\n",
       "      <td>Android</td>\n",
       "      <td>mobile</td>\n",
       "      <td>1</td>\n",
       "      <td>42.0</td>\n",
       "      <td>3526.0</td>\n",
       "      <td>0</td>\n",
       "      <td>1.0</td>\n",
       "      <td>16982560.0</td>\n",
       "      <td>Americas</td>\n",
       "      <td>Northern America</td>\n",
       "      <td>United States</td>\n",
       "      <td>google</td>\n",
       "      <td>organic</td>\n",
       "      <td>Category8</td>\n",
       "      <td>NaN</td>\n",
       "    </tr>\n",
       "    <tr>\n",
       "      <th>251972</th>\n",
       "      <td>SESSION_251972</td>\n",
       "      <td>USER_200686</td>\n",
       "      <td>15.0</td>\n",
       "      <td>Chrome</td>\n",
       "      <td>Macintosh</td>\n",
       "      <td>desktop</td>\n",
       "      <td>0</td>\n",
       "      <td>74.0</td>\n",
       "      <td>495.0</td>\n",
       "      <td>0</td>\n",
       "      <td>1.0</td>\n",
       "      <td>22835360.0</td>\n",
       "      <td>Americas</td>\n",
       "      <td>Northern America</td>\n",
       "      <td>United States</td>\n",
       "      <td>(direct)</td>\n",
       "      <td>(none)</td>\n",
       "      <td>NaN</td>\n",
       "      <td>Category1</td>\n",
       "    </tr>\n",
       "    <tr>\n",
       "      <th>252017</th>\n",
       "      <td>SESSION_252017</td>\n",
       "      <td>USER_197239</td>\n",
       "      <td>34.0</td>\n",
       "      <td>Chrome</td>\n",
       "      <td>Macintosh</td>\n",
       "      <td>desktop</td>\n",
       "      <td>0</td>\n",
       "      <td>69.0</td>\n",
       "      <td>723.0</td>\n",
       "      <td>0</td>\n",
       "      <td>1.0</td>\n",
       "      <td>156052640.0</td>\n",
       "      <td>Americas</td>\n",
       "      <td>Northern America</td>\n",
       "      <td>United States</td>\n",
       "      <td>google</td>\n",
       "      <td>organic</td>\n",
       "      <td>Category8</td>\n",
       "      <td>NaN</td>\n",
       "    </tr>\n",
       "    <tr>\n",
       "      <th>252036</th>\n",
       "      <td>SESSION_252036</td>\n",
       "      <td>USER_204007</td>\n",
       "      <td>43.0</td>\n",
       "      <td>Chrome</td>\n",
       "      <td>Windows</td>\n",
       "      <td>desktop</td>\n",
       "      <td>0</td>\n",
       "      <td>66.0</td>\n",
       "      <td>852.0</td>\n",
       "      <td>0</td>\n",
       "      <td>1.0</td>\n",
       "      <td>20739680.0</td>\n",
       "      <td>Americas</td>\n",
       "      <td>Northern America</td>\n",
       "      <td>United States</td>\n",
       "      <td>google</td>\n",
       "      <td>organic</td>\n",
       "      <td>Category8</td>\n",
       "      <td>NaN</td>\n",
       "    </tr>\n",
       "    <tr>\n",
       "      <th>252137</th>\n",
       "      <td>SESSION_252137</td>\n",
       "      <td>USER_200784</td>\n",
       "      <td>14.0</td>\n",
       "      <td>Chrome</td>\n",
       "      <td>Macintosh</td>\n",
       "      <td>desktop</td>\n",
       "      <td>0</td>\n",
       "      <td>95.0</td>\n",
       "      <td>3058.0</td>\n",
       "      <td>0</td>\n",
       "      <td>1.0</td>\n",
       "      <td>461559360.0</td>\n",
       "      <td>Americas</td>\n",
       "      <td>Northern America</td>\n",
       "      <td>United States</td>\n",
       "      <td>(direct)</td>\n",
       "      <td>(none)</td>\n",
       "      <td>NaN</td>\n",
       "      <td>Category1</td>\n",
       "    </tr>\n",
       "  </tbody>\n",
       "</table>\n",
       "<p>2202 rows × 19 columns</p>\n",
       "</div>"
      ],
      "text/plain": [
       "             sessionID       userID  TARGET browser         OS   device  new  \\\n",
       "118     SESSION_000118  USER_000116    17.0  Chrome  Macintosh  desktop    1   \n",
       "352     SESSION_000352  USER_000339    18.0  Chrome    Windows  desktop    0   \n",
       "1499    SESSION_001499  USER_001383    22.0  Chrome    Windows  desktop    1   \n",
       "1862    SESSION_001862  USER_001710    16.0  Chrome  Chrome OS  desktop    0   \n",
       "2764    SESSION_002764  USER_002529    20.0  Chrome    Android   mobile    1   \n",
       "...                ...          ...     ...     ...        ...      ...  ...   \n",
       "251856  SESSION_251856  USER_205705    30.0  Chrome    Android   mobile    1   \n",
       "251972  SESSION_251972  USER_200686    15.0  Chrome  Macintosh  desktop    0   \n",
       "252017  SESSION_252017  USER_197239    34.0  Chrome  Macintosh  desktop    0   \n",
       "252036  SESSION_252036  USER_204007    43.0  Chrome    Windows  desktop    0   \n",
       "252137  SESSION_252137  USER_200784    14.0  Chrome  Macintosh  desktop    0   \n",
       "\n",
       "        quality  duration  bounced  transaction  transaction_revenue  \\\n",
       "118        64.0    1318.0        0          1.0           26620800.0   \n",
       "352        68.0     668.0        0          1.0           53798560.0   \n",
       "1499       28.0     548.0        0          1.0           60869120.0   \n",
       "1862       91.0     883.0        0          1.0            7363200.0   \n",
       "2764       46.0    1735.0        0          1.0           70771680.0   \n",
       "...         ...       ...      ...          ...                  ...   \n",
       "251856     42.0    3526.0        0          1.0           16982560.0   \n",
       "251972     74.0     495.0        0          1.0           22835360.0   \n",
       "252017     69.0     723.0        0          1.0          156052640.0   \n",
       "252036     66.0     852.0        0          1.0           20739680.0   \n",
       "252137     95.0    3058.0        0          1.0          461559360.0   \n",
       "\n",
       "       continent      subcontinent        country traffic_source  \\\n",
       "118     Americas  Northern America  United States       (direct)   \n",
       "352     Americas  Northern America  United States       (direct)   \n",
       "1499    Americas  Northern America  United States         google   \n",
       "1862    Americas  Northern America  United States       (direct)   \n",
       "2764    Americas  Northern America  United States       (direct)   \n",
       "...          ...               ...            ...            ...   \n",
       "251856  Americas  Northern America  United States         google   \n",
       "251972  Americas  Northern America  United States       (direct)   \n",
       "252017  Americas  Northern America  United States         google   \n",
       "252036  Americas  Northern America  United States         google   \n",
       "252137  Americas  Northern America  United States       (direct)   \n",
       "\n",
       "       traffic_medium    keyword        referral_path  \n",
       "118            (none)        NaN            Category1  \n",
       "352            (none)        NaN            Category1  \n",
       "1499          organic  Category8                  NaN  \n",
       "1862           (none)        NaN  Category6_Path_0008  \n",
       "2764           (none)        NaN                  NaN  \n",
       "...               ...        ...                  ...  \n",
       "251856        organic  Category8                  NaN  \n",
       "251972         (none)        NaN            Category1  \n",
       "252017        organic  Category8                  NaN  \n",
       "252036        organic  Category8                  NaN  \n",
       "252137         (none)        NaN            Category1  \n",
       "\n",
       "[2202 rows x 19 columns]"
      ]
     },
     "execution_count": 54,
     "metadata": {},
     "output_type": "execute_result"
    }
   ],
   "source": [
    "tr = train[train['transaction_revenue']>=1]\n",
    "tr"
   ]
  },
  {
   "cell_type": "code",
   "execution_count": 57,
   "metadata": {},
   "outputs": [
    {
     "data": {
      "image/png": "[encoded data removed]",
      "text/plain": [
       "<Figure size 500x500 with 1 Axes>"
      ]
     },
     "metadata": {},
     "output_type": "display_data"
    }
   ],
   "source": [
    "sns.displot(x=tr['transaction_revenue'], kde=True, rug=True)\n",
    "plt.show()"
   ]
  },
  {
   "cell_type": "code",
   "execution_count": null,
   "metadata": {},
   "outputs": [],
   "source": []
  },
  {
   "cell_type": "code",
   "execution_count": 46,
   "metadata": {},
   "outputs": [],
   "source": [
    "tr_vc=train['transaction_revenue'].value_counts()\n",
    "log_tr_vc = np.log(tr_vc)"
   ]
  },
  {
   "cell_type": "code",
   "execution_count": 53,
   "metadata": {},
   "outputs": [
    {
     "data": {
      "text/plain": [
       "<Axes: xlabel='count', ylabel='Density'>"
      ]
     },
     "execution_count": 53,
     "metadata": {},
     "output_type": "execute_result"
    },
    {
     "data": {
      "image/png": "[encoded data removed]",
      "text/plain": [
       "<Figure size 640x480 with 1 Axes>"
      ]
     },
     "metadata": {},
     "output_type": "display_data"
    }
   ],
   "source": [
    "sns.kdeplot(tr_vc)"
   ]
  },
  {
   "cell_type": "code",
   "execution_count": 51,
   "metadata": {},
   "outputs": [
    {
     "data": {
      "text/plain": [
       "transaction_revenue\n",
       "0.0            12.429564\n",
       "43405120.0      3.433987\n",
       "46237120.0      3.295837\n",
       "40573120.0      3.258097\n",
       "42461120.0      3.218876\n",
       "                 ...    \n",
       "216478080.0     0.000000\n",
       "165181120.0     0.000000\n",
       "90350240.0      0.000000\n",
       "68770400.0      0.000000\n",
       "461559360.0     0.000000\n",
       "Name: count, Length: 1218, dtype: float64"
      ]
     },
     "execution_count": 51,
     "metadata": {},
     "output_type": "execute_result"
    }
   ],
   "source": [
    "log_tr_vc"
   ]
  },
  {
   "cell_type": "code",
   "execution_count": 52,
   "metadata": {},
   "outputs": [
    {
     "data": {
      "image/png": "[encoded data removed]",
      "text/plain": [
       "<Figure size 640x480 with 1 Axes>"
      ]
     },
     "metadata": {},
     "output_type": "display_data"
    }
   ],
   "source": [
    "sns.kdeplot(x=log_tr_vc)\n",
    "plt.show()"
   ]
  },
  {
   "cell_type": "code",
   "execution_count": 32,
   "metadata": {},
   "outputs": [
    {
     "data": {
      "text/plain": [
       "<Axes: xlabel='transaction_revenue'>"
      ]
     },
     "execution_count": 32,
     "metadata": {},
     "output_type": "execute_result"
    },
    {
     "data": {
      "image/png": "[encoded data removed]",
      "text/plain": [
       "<Figure size 640x480 with 1 Axes>"
      ]
     },
     "metadata": {},
     "output_type": "display_data"
    }
   ],
   "source": [
    "# box plot으로 보기\n",
    "sns.boxplot(x = train['transaction_revenue'])"
   ]
  },
  {
   "cell_type": "markdown",
   "metadata": {},
   "source": [
    "### log 변환\n",
    "pow 분포를 가지는 데이터셋을 분석할 때 데이터의 분포를 정규 분포에 가깝게 만들어줌.  \n",
    "데이터 분포의 왜곡을 줄이고 데이터를 정규 분포에 가깝게 만들어 준다. "
   ]
  },
  {
   "cell_type": "code",
   "execution_count": 33,
   "metadata": {},
   "outputs": [
    {
     "name": "stderr",
     "output_type": "stream",
     "text": [
      "c:\\Users\\kyeul\\Desktop\\code\\dacon\\Hackerthon-predict_on_web_log\\.conda\\Lib\\site-packages\\pandas\\core\\arraylike.py:399: RuntimeWarning: divide by zero encountered in log\n",
      "  result = getattr(ufunc, method)(*inputs, **kwargs)\n"
     ]
    },
    {
     "data": {
      "image/png": "[encoded data removed]",
      "text/plain": [
       "<Figure size 640x480 with 1 Axes>"
      ]
     },
     "metadata": {},
     "output_type": "display_data"
    }
   ],
   "source": [
    "log_tr = np.log(train['transaction_revenue'])\n",
    "sns.histplot(x=log_tr)\n",
    "plt.show()"
   ]
  },
  {
   "cell_type": "markdown",
   "metadata": {},
   "source": [
    "## continent"
   ]
  },
  {
   "cell_type": "code",
   "execution_count": 67,
   "metadata": {},
   "outputs": [],
   "source": [
    "conti = train['continent']"
   ]
  },
  {
   "cell_type": "code",
   "execution_count": 68,
   "metadata": {},
   "outputs": [
    {
     "data": {
      "text/plain": [
       "64125         Asia\n",
       "192372      Europe\n",
       "51720     Americas\n",
       "56529     Americas\n",
       "67980     Americas\n",
       "198856    Americas\n",
       "211438    Americas\n",
       "73383         Asia\n",
       "46347       Europe\n",
       "14278     Americas\n",
       "Name: continent, dtype: object"
      ]
     },
     "execution_count": 68,
     "metadata": {},
     "output_type": "execute_result"
    }
   ],
   "source": [
    "# show samples\n",
    "conti.sample(10)"
   ]
  },
  {
   "cell_type": "code",
   "execution_count": 72,
   "metadata": {},
   "outputs": [
    {
     "data": {
      "text/plain": [
       "continent\n",
       "Americas     126506\n",
       "Asia          57254\n",
       "Europe        53748\n",
       "Africa        10514\n",
       "Oceania        3931\n",
       "(not set)       336\n",
       "Name: count, dtype: int64"
      ]
     },
     "execution_count": 72,
     "metadata": {},
     "output_type": "execute_result"
    }
   ],
   "source": [
    "# show vc\n",
    "conti_vc = conti.value_counts()\n",
    "conti_vc"
   ]
  },
  {
   "cell_type": "code",
   "execution_count": 77,
   "metadata": {},
   "outputs": [
    {
     "data": {
      "image/png": "[encoded data removed]",
      "text/plain": [
       "<Figure size 640x480 with 1 Axes>"
      ]
     },
     "metadata": {},
     "output_type": "display_data"
    }
   ],
   "source": [
    "sns.countplot(data=train, x='continent')\n",
    "plt.show()"
   ]
  },
  {
   "cell_type": "code",
   "execution_count": 71,
   "metadata": {},
   "outputs": [
    {
     "data": {
      "text/html": [
       "<div>\n",
       "<style scoped>\n",
       "    .dataframe tbody tr th:only-of-type {\n",
       "        vertical-align: middle;\n",
       "    }\n",
       "\n",
       "    .dataframe tbody tr th {\n",
       "        vertical-align: top;\n",
       "    }\n",
       "\n",
       "    .dataframe thead th {\n",
       "        text-align: right;\n",
       "    }\n",
       "</style>\n",
       "<table border=\"1\" class=\"dataframe\">\n",
       "  <thead>\n",
       "    <tr style=\"text-align: right;\">\n",
       "      <th></th>\n",
       "      <th>sessionID</th>\n",
       "      <th>userID</th>\n",
       "      <th>TARGET</th>\n",
       "      <th>browser</th>\n",
       "      <th>OS</th>\n",
       "      <th>device</th>\n",
       "      <th>new</th>\n",
       "      <th>quality</th>\n",
       "      <th>duration</th>\n",
       "      <th>bounced</th>\n",
       "      <th>transaction</th>\n",
       "      <th>transaction_revenue</th>\n",
       "      <th>continent</th>\n",
       "      <th>subcontinent</th>\n",
       "      <th>country</th>\n",
       "      <th>traffic_source</th>\n",
       "      <th>traffic_medium</th>\n",
       "      <th>keyword</th>\n",
       "      <th>referral_path</th>\n",
       "    </tr>\n",
       "  </thead>\n",
       "  <tbody>\n",
       "    <tr>\n",
       "      <th>978</th>\n",
       "      <td>SESSION_000978</td>\n",
       "      <td>USER_000912</td>\n",
       "      <td>1.00000</td>\n",
       "      <td>Safari (in-app)</td>\n",
       "      <td>iOS</td>\n",
       "      <td>mobile</td>\n",
       "      <td>1</td>\n",
       "      <td>1.00000</td>\n",
       "      <td>0.00000</td>\n",
       "      <td>1</td>\n",
       "      <td>0.00000</td>\n",
       "      <td>0.00000</td>\n",
       "      <td>(not set)</td>\n",
       "      <td>(not set)</td>\n",
       "      <td>(not set)</td>\n",
       "      <td>google</td>\n",
       "      <td>cpc</td>\n",
       "      <td>Category9</td>\n",
       "      <td>NaN</td>\n",
       "    </tr>\n",
       "    <tr>\n",
       "      <th>1065</th>\n",
       "      <td>SESSION_001065</td>\n",
       "      <td>USER_000991</td>\n",
       "      <td>1.00000</td>\n",
       "      <td>Chrome</td>\n",
       "      <td>Android</td>\n",
       "      <td>mobile</td>\n",
       "      <td>1</td>\n",
       "      <td>1.00000</td>\n",
       "      <td>0.00000</td>\n",
       "      <td>1</td>\n",
       "      <td>0.00000</td>\n",
       "      <td>0.00000</td>\n",
       "      <td>(not set)</td>\n",
       "      <td>(not set)</td>\n",
       "      <td>(not set)</td>\n",
       "      <td>(direct)</td>\n",
       "      <td>(none)</td>\n",
       "      <td>NaN</td>\n",
       "      <td>NaN</td>\n",
       "    </tr>\n",
       "    <tr>\n",
       "      <th>2012</th>\n",
       "      <td>SESSION_002012</td>\n",
       "      <td>USER_001844</td>\n",
       "      <td>4.00000</td>\n",
       "      <td>Chrome</td>\n",
       "      <td>Windows</td>\n",
       "      <td>desktop</td>\n",
       "      <td>1</td>\n",
       "      <td>1.00000</td>\n",
       "      <td>39.00000</td>\n",
       "      <td>0</td>\n",
       "      <td>0.00000</td>\n",
       "      <td>0.00000</td>\n",
       "      <td>(not set)</td>\n",
       "      <td>(not set)</td>\n",
       "      <td>(not set)</td>\n",
       "      <td>(direct)</td>\n",
       "      <td>(none)</td>\n",
       "      <td>NaN</td>\n",
       "      <td>NaN</td>\n",
       "    </tr>\n",
       "    <tr>\n",
       "      <th>2781</th>\n",
       "      <td>SESSION_002781</td>\n",
       "      <td>USER_002546</td>\n",
       "      <td>1.00000</td>\n",
       "      <td>Chrome</td>\n",
       "      <td>Android</td>\n",
       "      <td>mobile</td>\n",
       "      <td>0</td>\n",
       "      <td>1.00000</td>\n",
       "      <td>0.00000</td>\n",
       "      <td>1</td>\n",
       "      <td>0.00000</td>\n",
       "      <td>0.00000</td>\n",
       "      <td>(not set)</td>\n",
       "      <td>(not set)</td>\n",
       "      <td>(not set)</td>\n",
       "      <td>(direct)</td>\n",
       "      <td>(none)</td>\n",
       "      <td>NaN</td>\n",
       "      <td>NaN</td>\n",
       "    </tr>\n",
       "    <tr>\n",
       "      <th>3077</th>\n",
       "      <td>SESSION_003077</td>\n",
       "      <td>USER_002546</td>\n",
       "      <td>2.00000</td>\n",
       "      <td>Chrome</td>\n",
       "      <td>Android</td>\n",
       "      <td>mobile</td>\n",
       "      <td>0</td>\n",
       "      <td>1.00000</td>\n",
       "      <td>8.00000</td>\n",
       "      <td>0</td>\n",
       "      <td>0.00000</td>\n",
       "      <td>0.00000</td>\n",
       "      <td>(not set)</td>\n",
       "      <td>(not set)</td>\n",
       "      <td>(not set)</td>\n",
       "      <td>(direct)</td>\n",
       "      <td>(none)</td>\n",
       "      <td>NaN</td>\n",
       "      <td>NaN</td>\n",
       "    </tr>\n",
       "    <tr>\n",
       "      <th>...</th>\n",
       "      <td>...</td>\n",
       "      <td>...</td>\n",
       "      <td>...</td>\n",
       "      <td>...</td>\n",
       "      <td>...</td>\n",
       "      <td>...</td>\n",
       "      <td>...</td>\n",
       "      <td>...</td>\n",
       "      <td>...</td>\n",
       "      <td>...</td>\n",
       "      <td>...</td>\n",
       "      <td>...</td>\n",
       "      <td>...</td>\n",
       "      <td>...</td>\n",
       "      <td>...</td>\n",
       "      <td>...</td>\n",
       "      <td>...</td>\n",
       "      <td>...</td>\n",
       "      <td>...</td>\n",
       "    </tr>\n",
       "    <tr>\n",
       "      <th>250035</th>\n",
       "      <td>SESSION_250035</td>\n",
       "      <td>USER_204316</td>\n",
       "      <td>1.00000</td>\n",
       "      <td>Chrome</td>\n",
       "      <td>Windows</td>\n",
       "      <td>desktop</td>\n",
       "      <td>1</td>\n",
       "      <td>1.00000</td>\n",
       "      <td>0.00000</td>\n",
       "      <td>1</td>\n",
       "      <td>0.00000</td>\n",
       "      <td>0.00000</td>\n",
       "      <td>(not set)</td>\n",
       "      <td>(not set)</td>\n",
       "      <td>(not set)</td>\n",
       "      <td>google</td>\n",
       "      <td>organic</td>\n",
       "      <td>Category8</td>\n",
       "      <td>NaN</td>\n",
       "    </tr>\n",
       "    <tr>\n",
       "      <th>250612</th>\n",
       "      <td>SESSION_250612</td>\n",
       "      <td>USER_204769</td>\n",
       "      <td>1.00000</td>\n",
       "      <td>Chrome</td>\n",
       "      <td>Windows</td>\n",
       "      <td>desktop</td>\n",
       "      <td>1</td>\n",
       "      <td>1.00000</td>\n",
       "      <td>0.00000</td>\n",
       "      <td>1</td>\n",
       "      <td>0.00000</td>\n",
       "      <td>0.00000</td>\n",
       "      <td>(not set)</td>\n",
       "      <td>(not set)</td>\n",
       "      <td>(not set)</td>\n",
       "      <td>analytics.google.com</td>\n",
       "      <td>referral</td>\n",
       "      <td>NaN</td>\n",
       "      <td>Category3_Path_0013</td>\n",
       "    </tr>\n",
       "    <tr>\n",
       "      <th>250654</th>\n",
       "      <td>SESSION_250654</td>\n",
       "      <td>USER_204805</td>\n",
       "      <td>3.00000</td>\n",
       "      <td>Chrome</td>\n",
       "      <td>Windows</td>\n",
       "      <td>desktop</td>\n",
       "      <td>1</td>\n",
       "      <td>1.00000</td>\n",
       "      <td>33.00000</td>\n",
       "      <td>0</td>\n",
       "      <td>0.00000</td>\n",
       "      <td>0.00000</td>\n",
       "      <td>(not set)</td>\n",
       "      <td>(not set)</td>\n",
       "      <td>(not set)</td>\n",
       "      <td>google</td>\n",
       "      <td>organic</td>\n",
       "      <td>Category8</td>\n",
       "      <td>NaN</td>\n",
       "    </tr>\n",
       "    <tr>\n",
       "      <th>251144</th>\n",
       "      <td>SESSION_251144</td>\n",
       "      <td>USER_205183</td>\n",
       "      <td>1.00000</td>\n",
       "      <td>Internet Explorer</td>\n",
       "      <td>Windows</td>\n",
       "      <td>desktop</td>\n",
       "      <td>1</td>\n",
       "      <td>1.00000</td>\n",
       "      <td>0.00000</td>\n",
       "      <td>1</td>\n",
       "      <td>0.00000</td>\n",
       "      <td>0.00000</td>\n",
       "      <td>(not set)</td>\n",
       "      <td>(not set)</td>\n",
       "      <td>(not set)</td>\n",
       "      <td>youtube.com</td>\n",
       "      <td>referral</td>\n",
       "      <td>NaN</td>\n",
       "      <td>Category13_Path_0029</td>\n",
       "    </tr>\n",
       "    <tr>\n",
       "      <th>251665</th>\n",
       "      <td>SESSION_251665</td>\n",
       "      <td>USER_205569</td>\n",
       "      <td>3.00000</td>\n",
       "      <td>Internet Explorer</td>\n",
       "      <td>Windows</td>\n",
       "      <td>desktop</td>\n",
       "      <td>1</td>\n",
       "      <td>1.00000</td>\n",
       "      <td>84.00000</td>\n",
       "      <td>0</td>\n",
       "      <td>0.00000</td>\n",
       "      <td>0.00000</td>\n",
       "      <td>(not set)</td>\n",
       "      <td>(not set)</td>\n",
       "      <td>(not set)</td>\n",
       "      <td>youtube.com</td>\n",
       "      <td>referral</td>\n",
       "      <td>NaN</td>\n",
       "      <td>Category11_Path_0088</td>\n",
       "    </tr>\n",
       "  </tbody>\n",
       "</table>\n",
       "<p>336 rows × 19 columns</p>\n",
       "</div>"
      ],
      "text/plain": [
       "             sessionID       userID  TARGET            browser       OS  \\\n",
       "978     SESSION_000978  USER_000912 1.00000    Safari (in-app)      iOS   \n",
       "1065    SESSION_001065  USER_000991 1.00000             Chrome  Android   \n",
       "2012    SESSION_002012  USER_001844 4.00000             Chrome  Windows   \n",
       "2781    SESSION_002781  USER_002546 1.00000             Chrome  Android   \n",
       "3077    SESSION_003077  USER_002546 2.00000             Chrome  Android   \n",
       "...                ...          ...     ...                ...      ...   \n",
       "250035  SESSION_250035  USER_204316 1.00000             Chrome  Windows   \n",
       "250612  SESSION_250612  USER_204769 1.00000             Chrome  Windows   \n",
       "250654  SESSION_250654  USER_204805 3.00000             Chrome  Windows   \n",
       "251144  SESSION_251144  USER_205183 1.00000  Internet Explorer  Windows   \n",
       "251665  SESSION_251665  USER_205569 3.00000  Internet Explorer  Windows   \n",
       "\n",
       "         device  new  quality  duration  bounced  transaction  \\\n",
       "978      mobile    1  1.00000   0.00000        1      0.00000   \n",
       "1065     mobile    1  1.00000   0.00000        1      0.00000   \n",
       "2012    desktop    1  1.00000  39.00000        0      0.00000   \n",
       "2781     mobile    0  1.00000   0.00000        1      0.00000   \n",
       "3077     mobile    0  1.00000   8.00000        0      0.00000   \n",
       "...         ...  ...      ...       ...      ...          ...   \n",
       "250035  desktop    1  1.00000   0.00000        1      0.00000   \n",
       "250612  desktop    1  1.00000   0.00000        1      0.00000   \n",
       "250654  desktop    1  1.00000  33.00000        0      0.00000   \n",
       "251144  desktop    1  1.00000   0.00000        1      0.00000   \n",
       "251665  desktop    1  1.00000  84.00000        0      0.00000   \n",
       "\n",
       "        transaction_revenue  continent subcontinent    country  \\\n",
       "978                 0.00000  (not set)    (not set)  (not set)   \n",
       "1065                0.00000  (not set)    (not set)  (not set)   \n",
       "2012                0.00000  (not set)    (not set)  (not set)   \n",
       "2781                0.00000  (not set)    (not set)  (not set)   \n",
       "3077                0.00000  (not set)    (not set)  (not set)   \n",
       "...                     ...        ...          ...        ...   \n",
       "250035              0.00000  (not set)    (not set)  (not set)   \n",
       "250612              0.00000  (not set)    (not set)  (not set)   \n",
       "250654              0.00000  (not set)    (not set)  (not set)   \n",
       "251144              0.00000  (not set)    (not set)  (not set)   \n",
       "251665              0.00000  (not set)    (not set)  (not set)   \n",
       "\n",
       "              traffic_source traffic_medium    keyword         referral_path  \n",
       "978                   google            cpc  Category9                   NaN  \n",
       "1065                (direct)         (none)        NaN                   NaN  \n",
       "2012                (direct)         (none)        NaN                   NaN  \n",
       "2781                (direct)         (none)        NaN                   NaN  \n",
       "3077                (direct)         (none)        NaN                   NaN  \n",
       "...                      ...            ...        ...                   ...  \n",
       "250035                google        organic  Category8                   NaN  \n",
       "250612  analytics.google.com       referral        NaN   Category3_Path_0013  \n",
       "250654                google        organic  Category8                   NaN  \n",
       "251144           youtube.com       referral        NaN  Category13_Path_0029  \n",
       "251665           youtube.com       referral        NaN  Category11_Path_0088  \n",
       "\n",
       "[336 rows x 19 columns]"
      ]
     },
     "execution_count": 71,
     "metadata": {},
     "output_type": "execute_result"
    }
   ],
   "source": [
    "train[train['continent']=='(not set)']"
   ]
  },
  {
   "cell_type": "markdown",
   "metadata": {},
   "source": [
    "## subcontinent"
   ]
  },
  {
   "cell_type": "code",
   "execution_count": 78,
   "metadata": {},
   "outputs": [
    {
     "data": {
      "text/plain": [
       "0         Northern America\n",
       "1           Western Europe\n",
       "2           Southeast Asia\n",
       "3         Northern America\n",
       "4         Northern America\n",
       "                ...       \n",
       "252284     Northern Europe\n",
       "252285    Northern America\n",
       "252286    Northern America\n",
       "252287     Northern Africa\n",
       "252288    Northern America\n",
       "Name: subcontinent, Length: 252289, dtype: object"
      ]
     },
     "execution_count": 78,
     "metadata": {},
     "output_type": "execute_result"
    }
   ],
   "source": [
    "subconti = train['subcontinent']\n",
    "subconti"
   ]
  },
  {
   "cell_type": "code",
   "execution_count": 82,
   "metadata": {},
   "outputs": [
    {
     "data": {
      "text/plain": [
       "subcontinent\n",
       "Northern America      111945\n",
       "Southern Asia          21744\n",
       "Western Europe         18325\n",
       "Northern Europe        15432\n",
       "Southeast Asia         13977\n",
       "Eastern Asia           13598\n",
       "Southern Europe        10752\n",
       "South America           9791\n",
       "Eastern Europe          9239\n",
       "Western Asia            7677\n",
       "Northern Africa         5534\n",
       "Central America         4201\n",
       "Australasia             3895\n",
       "Southern Africa         2164\n",
       "Western Africa          1971\n",
       "Eastern Africa           655\n",
       "Caribbean                569\n",
       "(not set)                336\n",
       "Central Asia             258\n",
       "Middle Africa            190\n",
       "Micronesian Region        18\n",
       "Melanesia                 10\n",
       "Polynesia                  8\n",
       "Name: count, dtype: int64"
      ]
     },
     "metadata": {},
     "output_type": "display_data"
    },
    {
     "data": {
      "text/plain": [
       "23"
      ]
     },
     "metadata": {},
     "output_type": "display_data"
    }
   ],
   "source": [
    "display(subconti.value_counts())\n",
    "display(len(subconti.value_counts()))"
   ]
  },
  {
   "cell_type": "code",
   "execution_count": 81,
   "metadata": {},
   "outputs": [
    {
     "data": {
      "image/png": "[encoded data removed]",
      "text/plain": [
       "<Figure size 640x480 with 1 Axes>"
      ]
     },
     "metadata": {},
     "output_type": "display_data"
    }
   ],
   "source": [
    "sns.countplot(data=train, x='subcontinent')\n",
    "plt.xticks(rotation=-45)\n",
    "plt.tight_layout()\n",
    "plt.show()"
   ]
  },
  {
   "cell_type": "markdown",
   "metadata": {},
   "source": [
    "## country"
   ]
  },
  {
   "cell_type": "code",
   "execution_count": 83,
   "metadata": {},
   "outputs": [
    {
     "data": {
      "text/plain": [
       "244727           Canada\n",
       "92644            France\n",
       "238014    United States\n",
       "27404     United States\n",
       "141962          Belgium\n",
       "11257            France\n",
       "225713    United States\n",
       "146044    United States\n",
       "218266            India\n",
       "120096     South Africa\n",
       "Name: country, dtype: object"
      ]
     },
     "execution_count": 83,
     "metadata": {},
     "output_type": "execute_result"
    }
   ],
   "source": [
    "country = train['country']\n",
    "country.sample(10)"
   ]
  },
  {
   "cell_type": "code",
   "execution_count": 86,
   "metadata": {},
   "outputs": [
    {
     "data": {
      "text/plain": [
       "country\n",
       "United States               104201\n",
       "India                        19300\n",
       "United Kingdom               10019\n",
       "Canada                        7735\n",
       "Germany                       6319\n",
       "                             ...  \n",
       "St. Kitts & Nevis                1\n",
       "Syria                            1\n",
       "Bhutan                           1\n",
       "Northern Mariana Islands         1\n",
       "Vanuatu                          1\n",
       "Name: count, Length: 205, dtype: int64"
      ]
     },
     "execution_count": 86,
     "metadata": {},
     "output_type": "execute_result"
    }
   ],
   "source": [
    "country_vc = country.value_counts()\n",
    "country_vc"
   ]
  },
  {
   "cell_type": "code",
   "execution_count": 88,
   "metadata": {},
   "outputs": [
    {
     "data": {
      "text/plain": [
       "country\n",
       "Papua New Guinea            1\n",
       "Mayotte                     1\n",
       "Micronesia                  1\n",
       "Central African Republic    1\n",
       "Liechtenstein               1\n",
       "Isle of Man                 1\n",
       "Tajikistan                  1\n",
       "St. Kitts & Nevis           1\n",
       "Syria                       1\n",
       "Bhutan                      1\n",
       "Northern Mariana Islands    1\n",
       "Vanuatu                     1\n",
       "Name: count, dtype: int64"
      ]
     },
     "execution_count": 88,
     "metadata": {},
     "output_type": "execute_result"
    }
   ],
   "source": [
    "country_vc[country_vc==1]"
   ]
  },
  {
   "cell_type": "code",
   "execution_count": 91,
   "metadata": {},
   "outputs": [
    {
     "data": {
      "text/plain": [
       "978       (not set)\n",
       "1065      (not set)\n",
       "2012      (not set)\n",
       "2781      (not set)\n",
       "3077      (not set)\n",
       "            ...    \n",
       "250035    (not set)\n",
       "250612    (not set)\n",
       "250654    (not set)\n",
       "251144    (not set)\n",
       "251665    (not set)\n",
       "Name: country, Length: 336, dtype: object"
      ]
     },
     "execution_count": 91,
     "metadata": {},
     "output_type": "execute_result"
    }
   ],
   "source": [
    "country[country=='(not set)']"
   ]
  },
  {
   "cell_type": "code",
   "execution_count": 89,
   "metadata": {},
   "outputs": [
    {
     "data": {
      "text/plain": [
       "205"
      ]
     },
     "execution_count": 89,
     "metadata": {},
     "output_type": "execute_result"
    }
   ],
   "source": [
    "country.nunique()"
   ]
  },
  {
   "cell_type": "code",
   "execution_count": 90,
   "metadata": {},
   "outputs": [
    {
     "data": {
      "text/plain": [
       "135"
      ]
     },
     "execution_count": 90,
     "metadata": {},
     "output_type": "execute_result"
    }
   ],
   "source": [
    "country_vc.nunique()"
   ]
  },
  {
   "cell_type": "code",
   "execution_count": 85,
   "metadata": {},
   "outputs": [
    {
     "name": "stdout",
     "output_type": "stream",
     "text": [
      "<class 'pandas.core.series.Series'>\n",
      "RangeIndex: 252289 entries, 0 to 252288\n",
      "Series name: country\n",
      "Non-Null Count   Dtype \n",
      "--------------   ----- \n",
      "252289 non-null  object\n",
      "dtypes: object(1)\n",
      "memory usage: 1.9+ MB\n"
     ]
    }
   ],
   "source": [
    "country.info()"
   ]
  },
  {
   "cell_type": "markdown",
   "metadata": {},
   "source": [
    "## traffic_source"
   ]
  },
  {
   "cell_type": "code",
   "execution_count": 92,
   "metadata": {},
   "outputs": [
    {
     "data": {
      "text/plain": [
       "40371          google\n",
       "190226       (direct)\n",
       "194970    youtube.com\n",
       "231326         google\n",
       "207897         google\n",
       "199644       (direct)\n",
       "197857         google\n",
       "42389          google\n",
       "204707    youtube.com\n",
       "222020         google\n",
       "Name: traffic_source, dtype: object"
      ]
     },
     "execution_count": 92,
     "metadata": {},
     "output_type": "execute_result"
    }
   ],
   "source": [
    "ts = train['traffic_source']\n",
    "ts.sample(10)"
   ]
  },
  {
   "cell_type": "code",
   "execution_count": 107,
   "metadata": {},
   "outputs": [],
   "source": [
    "ts_vc = ts.value_counts()"
   ]
  },
  {
   "cell_type": "code",
   "execution_count": 110,
   "metadata": {},
   "outputs": [
    {
     "data": {
      "text/plain": [
       "array(['google', '(direct)', 'Partners', 'groups.google.com',\n",
       "       'youtube.com', 'google.com', 'bing', 'google.co.jp',\n",
       "       'analytics.google.com', 'baidu', 'quora.com',\n",
       "       'googleads.g.doubleclick.net', 'pinterest.com', 'mail.google.com',\n",
       "       'dealspotr.com', 'qiita.com', 'l.facebook.com', 'reddit.com',\n",
       "       'sites.google.com', 'blog.golang.org', 'support.google.com',\n",
       "       'yahoo', 'dfa', 't.co', 'lunametrics.com', 'docs.google.com',\n",
       "       'adwords.google.com', 's0.2mdn.net', 'm.baidu.com',\n",
       "       'm.facebook.com', 'int.search.tb.ask.com', 'google.com.br',\n",
       "       'google.es', 'arstechnica.com', 'msn.com', 'tw.search.yahoo.com',\n",
       "       'facebook.com', 'google.de', 'hangouts.google.com',\n",
       "       'duckduckgo.com', 'r.search.aol.com', 'my.yahoo.com',\n",
       "       'google.co.za', 'au.search.yahoo.com', 'in.search.yahoo.com',\n",
       "       'outlook.live.com', 'productforums.google.com', 'ask',\n",
       "       'google.co.id', 'google.co.uk', 'myactivity.google.com',\n",
       "       'google.com.ua', 'google.by', 'sashihara.jp', 'm.youtube.com',\n",
       "       'github.com', 'optimize.google.com', 'connect.googleforwork.com',\n",
       "       'ph.search.yahoo.com', 'es.search.yahoo.com', 'google.ru',\n",
       "       'keep.google.com', 'youtube.thinkwithgoogle.com',\n",
       "       'myasucourses.asu.edu', 'google.co.th', 'gophergala.com',\n",
       "       'learn.pct.edu', 'phandroid.com', 'online-metrics.com',\n",
       "       'plus.url.google.com', 'ca.search.yahoo.com', 'evernote.com',\n",
       "       'web.telegram.org', 'search.1and1.com', 'google.nl',\n",
       "       'uk.search.yahoo.com', 'getpocket.com', 'se.search.yahoo.com',\n",
       "       'us.search.yahoo.com', 'lm.facebook.com',\n",
       "       'malaysia.search.yahoo.com', 'bluequill.franklin.edu', 'google.lv',\n",
       "       'feedly.com', 'search.snapdo.com', 'online.fullsail.edu',\n",
       "       'away.vk.com', 'l.messenger.com', 'google.co.nz', 'google.fr',\n",
       "       'so.com', 'google.com.tr', 'kik.com', 'kidrex.org',\n",
       "       'search.tb.ask.com', 'images.google.com', 'mail.yahoo.com',\n",
       "       'google.com.au', 'search.xfinity.com', 'google.com.bd',\n",
       "       'google.be', 'businessinsider.com', 'aulagrado.esic.edu',\n",
       "       'plus.google.com', 'mail1.swic.edu', 'startpage.com',\n",
       "       'learn.colorado.edu', 'web.whatsapp.com',\n",
       "       'lisham-web.blogspot.com', 'google.com.mx', 'nl.search.yahoo.com',\n",
       "       'nl.pinterest.com', 'google.co.in', 'search.mysearch.com',\n",
       "       'de.wow.com', 'google.com.ng', 'google.it', 'google.com.sa',\n",
       "       'google.iq', 'google.com.eg', 'google.co.il', 'google.pl',\n",
       "       'it.search.yahoo.com', 'it.pinterest.com', 'images.google.com.br',\n",
       "       'amp.reddit.com', 'vk.com', 'google.pt', 'cz.pinterest.com',\n",
       "       'google.jo', 'google.ie', 'qc.search.yahoo.com',\n",
       "       'earth.google.com', 'br.search.yahoo.com', 'search.earthlink.net',\n",
       "       'fi.search.yahoo.com', 'google.com.ec', 'web.facebook.com',\n",
       "       'sg.search.yahoo.com', 'linkedin.com', 'ru.pinterest.com',\n",
       "       'ch.search.yahoo.com', 'mail.aol.com', 'google.com.pk',\n",
       "       'cse.google.com', 'wikihow.com', 'go.mail.ru',\n",
       "       'fr-fr.facebook.com', 'ca-mg5.mail.yahoo.com', 'chatwork.com',\n",
       "       'seroundtable.com', 'google.ca', 'results.searchlock.com',\n",
       "       'es.yhs4.search.yahoo.com', 'cl.search.yahoo.com', 'google.com.tw',\n",
       "       'fr.search.yahoo.com', 'google.com.hk', 'business.facebook.com',\n",
       "       'yandex', 'suche.t-online.de', 'goto.google.com',\n",
       "       'mx.search.yahoo.com', 'marketingland.com',\n",
       "       'espanol.search.yahoo.com', 'basecamp.com',\n",
       "       'blackboard.bentley.edu', 'calendar.google.com'], dtype=object)"
      ]
     },
     "execution_count": 110,
     "metadata": {},
     "output_type": "execute_result"
    }
   ],
   "source": [
    "ts.unique()"
   ]
  },
  {
   "cell_type": "code",
   "execution_count": 102,
   "metadata": {},
   "outputs": [
    {
     "data": {
      "text/plain": [
       "Index(['google', '(direct)', 'youtube.com', 'analytics.google.com', 'Partners',\n",
       "       'sites.google.com', 'google.com', 'bing', 'reddit.com', 'qiita.com',\n",
       "       'quora.com', 'mail.google.com', 'baidu', 'dfa', 'away.vk.com',\n",
       "       'groups.google.com', 'plus.url.google.com', 'facebook.com',\n",
       "       'm.facebook.com', 'support.google.com'],\n",
       "      dtype='object', name='traffic_source')"
      ]
     },
     "execution_count": 102,
     "metadata": {},
     "output_type": "execute_result"
    }
   ],
   "source": [
    "ts_vc.index"
   ]
  },
  {
   "cell_type": "markdown",
   "metadata": {},
   "source": [
    "## traffic_medium"
   ]
  },
  {
   "cell_type": "code",
   "execution_count": 111,
   "metadata": {},
   "outputs": [
    {
     "data": {
      "text/plain": [
       "34899      organic\n",
       "182509         cpc\n",
       "96984     referral\n",
       "132625     organic\n",
       "159716    referral\n",
       "16793      organic\n",
       "85322     referral\n",
       "169330      (none)\n",
       "219282     organic\n",
       "220066    referral\n",
       "Name: traffic_medium, dtype: object"
      ]
     },
     "execution_count": 111,
     "metadata": {},
     "output_type": "execute_result"
    }
   ],
   "source": [
    "tm = train['traffic_medium']\n",
    "tm.sample(10)"
   ]
  },
  {
   "cell_type": "code",
   "execution_count": 112,
   "metadata": {},
   "outputs": [
    {
     "data": {
      "text/plain": [
       "array(['organic', '(none)', 'affiliate', 'referral', 'cpc', 'cpm',\n",
       "       '(not set)'], dtype=object)"
      ]
     },
     "execution_count": 112,
     "metadata": {},
     "output_type": "execute_result"
    }
   ],
   "source": [
    "tm.unique()"
   ]
  },
  {
   "cell_type": "code",
   "execution_count": 113,
   "metadata": {},
   "outputs": [
    {
     "data": {
      "text/plain": [
       "traffic_medium\n",
       "organic      107370\n",
       "referral      70047\n",
       "(none)        59022\n",
       "cpc            9978\n",
       "affiliate      5365\n",
       "cpm             501\n",
       "(not set)         6\n",
       "Name: count, dtype: int64"
      ]
     },
     "execution_count": 113,
     "metadata": {},
     "output_type": "execute_result"
    }
   ],
   "source": [
    "tm.value_counts()"
   ]
  },
  {
   "cell_type": "code",
   "execution_count": 114,
   "metadata": {},
   "outputs": [
    {
     "data": {
      "text/plain": [
       "keyword\n",
       "Category8                103584\n",
       "Category9                  3488\n",
       "Category11                 1931\n",
       "Category10                 1147\n",
       "Category6_Keyword_003       634\n",
       "                          ...  \n",
       "Category2_Keyword_273         1\n",
       "Category1_Keyword_271         1\n",
       "Category3_Keyword_270         1\n",
       "Category4_Keyword_269         1\n",
       "Category4_Keyword_617         1\n",
       "Name: count, Length: 623, dtype: int64"
      ]
     },
     "execution_count": 114,
     "metadata": {},
     "output_type": "execute_result"
    }
   ],
   "source": [
    "train['keyword'].value_counts()"
   ]
  },
  {
   "cell_type": "code",
   "execution_count": null,
   "metadata": {},
   "outputs": [],
   "source": []
  }
 ],
 "metadata": {
  "kernelspec": {
   "display_name": "Python 3",
   "language": "python",
   "name": "python3"
  },
  "language_info": {
   "codemirror_mode": {
    "name": "ipython",
    "version": 3
   },
   "file_extension": ".py",
   "mimetype": "text/x-python",
   "name": "python",
   "nbconvert_exporter": "python",
   "pygments_lexer": "ipython3",
   "version": "3.12.1"
  }
 },
 "nbformat": 4,
 "nbformat_minor": 2
}
