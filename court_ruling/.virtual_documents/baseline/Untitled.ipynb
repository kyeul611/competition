


import pandas as pd
import numpy as np
from sklearn.feature_extraction.text import TfidfVectorizer
from sklearn.linear_model import LogisticRegression


train = pd.read_csv('../data/train.csv')
test = pd.read_csv('../data/test.csv')


train.head()


print(train['facts'][0])


print(train['facts'][1])





vectorizer = TfidfVectorizer()

def get_vector(vectorizer, df, train_mode):

    if train_mode:
        X_facts = vectorizer.fit_transform(df['facts']) # fit and transform
    else:
        X_facts = vectorizer.transform(df['facts']) # only transform

    X_party1 = vectorizer.transform(df['first_party'])
    X_party2 = vectorizer.transform(df['second_party'])

    X = np.concatenate([X_party1.todense(), X_party2.todense(), X_facts.todense()], axis=1)
    return X


X_train = get_vector(vectorizer, train, True)
Y_train = train['first_party_winner']
X_test = get_vector(vectorizer, test, False)


X_train = np.array(X_train)
X_test = np.array(X_test)





model = LogisticRegression()
model.fit(X_train, Y_train)





submit = pd.read_csv('../data/sample_submission.csv')


pred = model.predict(X_test)


pred


submit['first_party_winner'] = pred
submit.to_csv('./baseline_submit.csv', index=False)



