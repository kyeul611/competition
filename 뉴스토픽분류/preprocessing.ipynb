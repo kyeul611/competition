{
 "cells": [
  {
   "cell_type": "markdown",
   "id": "d7563437-b0a0-49dc-9d6c-91e03bcf5ec1",
   "metadata": {},
   "source": [
    "텍스트 전처리\n",
    "1. 특수문자 처리\n",
    "    + 단위특수문자 -> 영어 \n",
    "    + 일반적 의미의 특수문자 -> 한글\n",
    "    + 숫자특수문자 -> 숫자"
   ]
  },
  {
   "cell_type": "code",
   "execution_count": 6,
   "id": "1c291f44-8338-440e-8208-1488d991a162",
   "metadata": {},
   "outputs": [],
   "source": [
    "han = str(set('李樂黨硏告亞百銀比重安安潘印潘安銀安亞亞無富金銀先人展重禹李銀銀展分黨潘崔盧外比安外詩銀無男株車硏安法禹式案金高證新詩新銀先院證和株株核黃株亞新安安法黃印尼富號法黃安駐新盧樂燈安情證秋書香萬里孫秋故重潘硏强弗株故孫銅銀外安千重千先禹號安銀告印新男男委證展黃株金金金展新號盧黃心印故安核男硏安非黃酒孫黨硏展內展全外委安安千銀株銀比心現黨弗金安弗外人外人安銀秋法論外硏株重銀詩安千金禹安印潘風安駐印尼號車禹金安硏風風脫後弗生硏新案亞色株男硏故茶詩高無安無外安劉號安車眞證車風硏巨車詩色孫金劉安孫黃風重男亞孫秋孫車安重亞弗丁巨外金核重無安印硏重駐委黃崔外安禹稅黨州外無禹舊重銀秋阿眞非人丁重安硏展株故州黨故書香萬里詩株分黨車駐先比新大亞先黃證亞安代百人重亞詩駐禹亞亞金亞心州黨父男羅申安車丁論安孫安金新安孫新料弗百安羅車安孫千詩亞劉盧男展後重硏詩安千號百硏車安父黃亞亞氣安乙外故新銀黃先號全無株安硏黨駐無院孫金故後硏外株外人委全亞新安外人展最古比劉黃大戰金亞重故大戰比號崔李安株大安詩金潘證禹展外比號駐硏安安車銅銀申比硏安秋硏新父安硏銀硏燈外人安禹法比委黃\t外潘安株分黨風展黨安駐盧安重故亞委人男號金新詩乙人亞史崔安安史亞弗比故西海號故年洪車硏重金協比故外蘭故展四體亞故空約脫銀故誌故安展故硏亞故氣醫政鄭秋硏展號無百狼島株通禹安重株車趙大寒花煎脫秋展外賞機人弗色潘車尹孫安展新故港委安令和展選大男新黨非邪敎重詩故山市詩協童心史展法故王說李大外比妻故硏代金千安破七銀神仙安湖氷魚株道故私黨安孫安臺金州展人男高法江洪黃在外外阿尹外知詩人子羅硏硏新秋三色代金印安故百孫黃先後不備黃'))"
   ]
  },
  {
   "cell_type": "code",
   "execution_count": 7,
   "id": "3ee10610-061c-4e24-ad6e-d974328f9b00",
   "metadata": {},
   "outputs": [],
   "source": [
    "import re"
   ]
  },
  {
   "cell_type": "code",
   "execution_count": 12,
   "id": "f620196d-b0b6-41d8-af4b-f23b4a1486b5",
   "metadata": {},
   "outputs": [
    {
     "data": {
      "text/plain": [
       "'  史    金    湖    書    狼    古    分    尹    體    硏    駐    稅    無    先    港    高    代    萬    酒    銅    崔    强    煎    丁    七    西    不    魚    委    協    詩    故    潘    備    羅    香    株    政    臺    申    仙    亞    選    州    氣    阿    在    院    誌    情    邪    寒    色    花    約    醫    金    蘭    妻    巨    年    風    劉    告    乙    重    尼    說    弗    子    證    市    男    展    敎    私    令    安    禹    神    空    黨    破    通    外    生    式    知    李    論    燈    舊    樂    鄭    茶    山    父    黃    號    後    車    內    里    非    海    千    戰    比    道    百    新    案    最    秋    機    現    脫    心    \\\\t    賞    眞    全    和    核    法    印    盧    島    大    四    童    富    銀    趙    三    孫    料    江    王    人    氷    洪  '"
      ]
     },
     "execution_count": 12,
     "metadata": {},
     "output_type": "execute_result"
    }
   ],
   "source": [
    "han = re.sub(\"[\\ \\ ]\", ' ', han)\n",
    "han"
   ]
  },
  {
   "cell_type": "code",
   "execution_count": 19,
   "id": "38246a3d-42b7-417e-bd01-2e7c4a303810",
   "metadata": {},
   "outputs": [
    {
     "data": {
      "text/plain": [
       "'史金湖書狼古分尹體硏駐稅無先港高代萬酒銅崔强煎丁七西不魚委協詩故潘備羅香株政臺申仙亞選州氣阿在院誌情邪寒色花約醫金蘭妻巨年風劉告乙重尼說弗子證市男展敎私令安禹神空黨破通外生式知李論燈舊樂鄭茶山父黃號後車內里非海千戰比道百新案最秋機現脫心\\\\t賞眞全和核法印盧島大四童富銀趙三孫料江王人氷洪'"
      ]
     },
     "execution_count": 19,
     "metadata": {},
     "output_type": "execute_result"
    }
   ],
   "source": [
    "''.join(han.split())"
   ]
  },
  {
   "cell_type": "code",
   "execution_count": null,
   "id": "d4e9f9a8-b531-4c1c-baef-7f833309a792",
   "metadata": {},
   "outputs": [],
   "source": []
  }
 ],
 "metadata": {
  "kernelspec": {
   "display_name": "Python 3",
   "language": "python",
   "name": "python3"
  },
  "language_info": {
   "codemirror_mode": {
    "name": "ipython",
    "version": 3
   },
   "file_extension": ".py",
   "mimetype": "text/x-python",
   "name": "python",
   "nbconvert_exporter": "python",
   "pygments_lexer": "ipython3",
   "version": "3.9.5"
  }
 },
 "nbformat": 4,
 "nbformat_minor": 5
}
