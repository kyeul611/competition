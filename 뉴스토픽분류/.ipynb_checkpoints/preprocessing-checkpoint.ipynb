{
 "cells": [
  {
   "cell_type": "markdown",
   "id": "d7563437-b0a0-49dc-9d6c-91e03bcf5ec1",
   "metadata": {},
   "source": [
    "텍스트 전처리\n",
    "1. 특수문자 처리\n",
    "    + 단위특수문자 -> 영어 \n",
    "    + 일반적 의미의 특수문자 -> 한글\n",
    "    + 숫자특수문자 -> 숫자"
   ]
  },
  {
   "cell_type": "code",
   "execution_count": 8,
   "id": "26395277-9936-4685-bd4e-2deca00154af",
   "metadata": {
    "tags": []
   },
   "outputs": [],
   "source": [
    "import numpy as np\n",
    "import pandas as pd\n",
    "import os\n",
    "import re\n",
    "import hanja\n",
    "import tqdm\n",
    "import multiprocessing\n",
    "import parmap\n",
    "import json\n",
    "import datetime\n",
    "\n",
    "from getData import getData"
   ]
  },
  {
   "cell_type": "markdown",
   "id": "3cf8f13a-4398-468b-88aa-ed0a11c68a05",
   "metadata": {},
   "source": [
    "# 1. 외부 데이터 전처리"
   ]
  },
  {
   "cell_type": "markdown",
   "id": "02620c97-5bfc-4358-8ce3-8734f6f25555",
   "metadata": {},
   "source": [
    "### 1-1.네이버 뉴스 데이터\n",
    "출처: https://wikidocs.net/74913"
   ]
  },
  {
   "cell_type": "code",
   "execution_count": null,
   "id": "1a560f6d-cbf6-4ddd-bcc1-9b5bac3f642f",
   "metadata": {
    "tags": []
   },
   "outputs": [],
   "source": [
    "df = pd.DataFrame(columns=['file_name', 'title','topic_idx']).reset_index()\n",
    "\n",
    "root = \"./additional_data/newsData\"\n",
    "\n",
    "for path in os.listdir(root):\n",
    "    for file in os.listdir(os.path.join(root,path)):\n",
    "        with open(os.path.join(root, path, file), encoding='utf-8') as f:\n",
    "            content = f.read()\n",
    "            title = str(re.findall(\"^.+\\t\",content)[0]).rstrip('\\t')\n",
    "            title = re.sub(\"\\[.+]\",\"\",title)\n",
    "            df = df.append(pd.DataFrame(data=[[file, title, path]], columns=['file_name','title', 'topic_idx']))\n",
    "            "
   ]
  },
  {
   "cell_type": "markdown",
   "id": "8fddb549-ec60-470a-9b09-1658e5999e2b",
   "metadata": {},
   "source": [
    "df.to_csv(\"./additional_data/naverNews.csv\")"
   ]
  },
  {
   "cell_type": "markdown",
   "id": "a165c82d-a62d-4277-b564-6a95b84d80b1",
   "metadata": {},
   "source": [
    "### 1-2. 모두의 말뭉치\n",
    "출처: https://rlkujwkk7.toastcdn.net/14/NIKL_NEWSPAPER_2020_v1.0.pdf"
   ]
  },
  {
   "cell_type": "code",
   "execution_count": 13,
   "id": "1d777574-f243-46b9-8ff6-1560364dd02e",
   "metadata": {},
   "outputs": [],
   "source": [
    "topic_dic = {\n",
    "    'IT/과학':0,\n",
    "    '경제':1,\n",
    "    '사회':2,\n",
    "    '생활':3,\n",
    "    '문화':3,\n",
    "    '스포츠':5,\n",
    "    '정치':6\n",
    "}"
   ]
  },
  {
   "cell_type": "code",
   "execution_count": 11,
   "id": "2014b1c4-d107-4473-91b0-a5efb6616ffb",
   "metadata": {},
   "outputs": [],
   "source": [
    "lst_dics = []\n",
    "path ='./additional_data/신문_말뭉치_1/' \n",
    "for jfile in os.listdir(path):\n",
    "    with open(path+jfile, mode='r', errors='ignore', encoding='utf-8') as json_file:\n",
    "        lst_dics.append(json.load(json_file))"
   ]
  },
  {
   "cell_type": "code",
   "execution_count": 12,
   "id": "3495fe7b-9c68-4331-8462-c3fa6691bd4a",
   "metadata": {},
   "outputs": [
    {
     "data": {
      "text/plain": [
       "35"
      ]
     },
     "execution_count": 12,
     "metadata": {},
     "output_type": "execute_result"
    }
   ],
   "source": [
    "len(lst_dics)"
   ]
  },
  {
   "cell_type": "code",
   "execution_count": 18,
   "id": "d6212ed0-1386-4cb6-a8a7-a3ef0a36273c",
   "metadata": {
    "tags": []
   },
   "outputs": [
    {
     "ename": "InvalidIndexError",
     "evalue": "Reindexing only valid with uniquely valued Index objects",
     "output_type": "error",
     "traceback": [
      "\u001b[1;31m---------------------------------------------------------------------------\u001b[0m",
      "\u001b[1;31mInvalidIndexError\u001b[0m                         Traceback (most recent call last)",
      "\u001b[1;32m<ipython-input-18-5e1fe8f11ff2>\u001b[0m in \u001b[0;36m<module>\u001b[1;34m\u001b[0m\n\u001b[0;32m     11\u001b[0m \u001b[1;31m#             data = data.append(pd.DataFrame(data=[[None, title]], columns=['index', 'title']))\u001b[0m\u001b[1;33m\u001b[0m\u001b[1;33m\u001b[0m\u001b[1;33m\u001b[0m\u001b[0m\n\u001b[0;32m     12\u001b[0m \u001b[1;33m\u001b[0m\u001b[0m\n\u001b[1;32m---> 13\u001b[1;33m         \u001b[0mdata\u001b[0m \u001b[1;33m=\u001b[0m \u001b[0mdata\u001b[0m\u001b[1;33m.\u001b[0m\u001b[0mappend\u001b[0m\u001b[1;33m(\u001b[0m\u001b[0mpd\u001b[0m\u001b[1;33m.\u001b[0m\u001b[0mDataFrame\u001b[0m\u001b[1;33m(\u001b[0m\u001b[0mdata\u001b[0m\u001b[1;33m=\u001b[0m\u001b[1;33m[\u001b[0m\u001b[1;33m[\u001b[0m\u001b[1;32mNone\u001b[0m\u001b[1;33m,\u001b[0m \u001b[0mtitle\u001b[0m\u001b[1;33m,\u001b[0m \u001b[0mtopic_dic\u001b[0m\u001b[1;33m[\u001b[0m\u001b[0mi\u001b[0m\u001b[1;33m[\u001b[0m\u001b[1;34m'metadata'\u001b[0m\u001b[1;33m]\u001b[0m\u001b[1;33m[\u001b[0m\u001b[1;34m'topic'\u001b[0m\u001b[1;33m]\u001b[0m\u001b[1;33m]\u001b[0m\u001b[1;33m]\u001b[0m\u001b[1;33m]\u001b[0m\u001b[1;33m,\u001b[0m \u001b[0mcolumns\u001b[0m\u001b[1;33m=\u001b[0m\u001b[1;33m[\u001b[0m\u001b[1;34m'index'\u001b[0m\u001b[1;33m,\u001b[0m \u001b[1;34m'title'\u001b[0m\u001b[1;33m,\u001b[0m\u001b[1;34m'topic_idx'\u001b[0m\u001b[1;33m]\u001b[0m\u001b[1;33m)\u001b[0m\u001b[1;33m)\u001b[0m\u001b[1;33m\u001b[0m\u001b[1;33m\u001b[0m\u001b[0m\n\u001b[0m\u001b[0;32m     14\u001b[0m     \u001b[0mdt_now\u001b[0m \u001b[1;33m=\u001b[0m \u001b[0mdatetime\u001b[0m\u001b[1;33m.\u001b[0m\u001b[0mdatetime\u001b[0m\u001b[1;33m.\u001b[0m\u001b[0mnow\u001b[0m\u001b[1;33m(\u001b[0m\u001b[1;33m)\u001b[0m\u001b[1;33m\u001b[0m\u001b[1;33m\u001b[0m\u001b[0m\n\u001b[0;32m     15\u001b[0m     \u001b[0mprint\u001b[0m\u001b[1;33m(\u001b[0m\u001b[1;34m\"{} is done. {1:>20}\"\u001b[0m\u001b[1;33m.\u001b[0m\u001b[0mformat\u001b[0m\u001b[1;33m(\u001b[0m\u001b[0mjs\u001b[0m\u001b[1;33m,\u001b[0m \u001b[0mdt_now\u001b[0m\u001b[1;33m)\u001b[0m\u001b[1;33m)\u001b[0m\u001b[1;33m\u001b[0m\u001b[1;33m\u001b[0m\u001b[0m\n",
      "\u001b[1;32m~\\anaconda3\\envs\\torch\\lib\\site-packages\\pandas\\core\\frame.py\u001b[0m in \u001b[0;36mappend\u001b[1;34m(self, other, ignore_index, verify_integrity, sort)\u001b[0m\n\u001b[0;32m   8959\u001b[0m             \u001b[0mto_concat\u001b[0m \u001b[1;33m=\u001b[0m \u001b[1;33m[\u001b[0m\u001b[0mself\u001b[0m\u001b[1;33m,\u001b[0m \u001b[0mother\u001b[0m\u001b[1;33m]\u001b[0m\u001b[1;33m\u001b[0m\u001b[1;33m\u001b[0m\u001b[0m\n\u001b[0;32m   8960\u001b[0m         return (\n\u001b[1;32m-> 8961\u001b[1;33m             concat(\n\u001b[0m\u001b[0;32m   8962\u001b[0m                 \u001b[0mto_concat\u001b[0m\u001b[1;33m,\u001b[0m\u001b[1;33m\u001b[0m\u001b[1;33m\u001b[0m\u001b[0m\n\u001b[0;32m   8963\u001b[0m                 \u001b[0mignore_index\u001b[0m\u001b[1;33m=\u001b[0m\u001b[0mignore_index\u001b[0m\u001b[1;33m,\u001b[0m\u001b[1;33m\u001b[0m\u001b[1;33m\u001b[0m\u001b[0m\n",
      "\u001b[1;32m~\\anaconda3\\envs\\torch\\lib\\site-packages\\pandas\\util\\_decorators.py\u001b[0m in \u001b[0;36mwrapper\u001b[1;34m(*args, **kwargs)\u001b[0m\n\u001b[0;32m    309\u001b[0m                     \u001b[0mstacklevel\u001b[0m\u001b[1;33m=\u001b[0m\u001b[0mstacklevel\u001b[0m\u001b[1;33m,\u001b[0m\u001b[1;33m\u001b[0m\u001b[1;33m\u001b[0m\u001b[0m\n\u001b[0;32m    310\u001b[0m                 )\n\u001b[1;32m--> 311\u001b[1;33m             \u001b[1;32mreturn\u001b[0m \u001b[0mfunc\u001b[0m\u001b[1;33m(\u001b[0m\u001b[1;33m*\u001b[0m\u001b[0margs\u001b[0m\u001b[1;33m,\u001b[0m \u001b[1;33m**\u001b[0m\u001b[0mkwargs\u001b[0m\u001b[1;33m)\u001b[0m\u001b[1;33m\u001b[0m\u001b[1;33m\u001b[0m\u001b[0m\n\u001b[0m\u001b[0;32m    312\u001b[0m \u001b[1;33m\u001b[0m\u001b[0m\n\u001b[0;32m    313\u001b[0m         \u001b[1;32mreturn\u001b[0m \u001b[0mwrapper\u001b[0m\u001b[1;33m\u001b[0m\u001b[1;33m\u001b[0m\u001b[0m\n",
      "\u001b[1;32m~\\anaconda3\\envs\\torch\\lib\\site-packages\\pandas\\core\\reshape\\concat.py\u001b[0m in \u001b[0;36mconcat\u001b[1;34m(objs, axis, join, ignore_index, keys, levels, names, verify_integrity, sort, copy)\u001b[0m\n\u001b[0;32m    305\u001b[0m     )\n\u001b[0;32m    306\u001b[0m \u001b[1;33m\u001b[0m\u001b[0m\n\u001b[1;32m--> 307\u001b[1;33m     \u001b[1;32mreturn\u001b[0m \u001b[0mop\u001b[0m\u001b[1;33m.\u001b[0m\u001b[0mget_result\u001b[0m\u001b[1;33m(\u001b[0m\u001b[1;33m)\u001b[0m\u001b[1;33m\u001b[0m\u001b[1;33m\u001b[0m\u001b[0m\n\u001b[0m\u001b[0;32m    308\u001b[0m \u001b[1;33m\u001b[0m\u001b[0m\n\u001b[0;32m    309\u001b[0m \u001b[1;33m\u001b[0m\u001b[0m\n",
      "\u001b[1;32m~\\anaconda3\\envs\\torch\\lib\\site-packages\\pandas\\core\\reshape\\concat.py\u001b[0m in \u001b[0;36mget_result\u001b[1;34m(self)\u001b[0m\n\u001b[0;32m    526\u001b[0m                     \u001b[0mobj_labels\u001b[0m \u001b[1;33m=\u001b[0m \u001b[0mobj\u001b[0m\u001b[1;33m.\u001b[0m\u001b[0maxes\u001b[0m\u001b[1;33m[\u001b[0m\u001b[1;36m1\u001b[0m \u001b[1;33m-\u001b[0m \u001b[0max\u001b[0m\u001b[1;33m]\u001b[0m\u001b[1;33m\u001b[0m\u001b[1;33m\u001b[0m\u001b[0m\n\u001b[0;32m    527\u001b[0m                     \u001b[1;32mif\u001b[0m \u001b[1;32mnot\u001b[0m \u001b[0mnew_labels\u001b[0m\u001b[1;33m.\u001b[0m\u001b[0mequals\u001b[0m\u001b[1;33m(\u001b[0m\u001b[0mobj_labels\u001b[0m\u001b[1;33m)\u001b[0m\u001b[1;33m:\u001b[0m\u001b[1;33m\u001b[0m\u001b[1;33m\u001b[0m\u001b[0m\n\u001b[1;32m--> 528\u001b[1;33m                         \u001b[0mindexers\u001b[0m\u001b[1;33m[\u001b[0m\u001b[0max\u001b[0m\u001b[1;33m]\u001b[0m \u001b[1;33m=\u001b[0m \u001b[0mobj_labels\u001b[0m\u001b[1;33m.\u001b[0m\u001b[0mget_indexer\u001b[0m\u001b[1;33m(\u001b[0m\u001b[0mnew_labels\u001b[0m\u001b[1;33m)\u001b[0m\u001b[1;33m\u001b[0m\u001b[1;33m\u001b[0m\u001b[0m\n\u001b[0m\u001b[0;32m    529\u001b[0m \u001b[1;33m\u001b[0m\u001b[0m\n\u001b[0;32m    530\u001b[0m                 \u001b[0mmgrs_indexers\u001b[0m\u001b[1;33m.\u001b[0m\u001b[0mappend\u001b[0m\u001b[1;33m(\u001b[0m\u001b[1;33m(\u001b[0m\u001b[0mobj\u001b[0m\u001b[1;33m.\u001b[0m\u001b[0m_mgr\u001b[0m\u001b[1;33m,\u001b[0m \u001b[0mindexers\u001b[0m\u001b[1;33m)\u001b[0m\u001b[1;33m)\u001b[0m\u001b[1;33m\u001b[0m\u001b[1;33m\u001b[0m\u001b[0m\n",
      "\u001b[1;32m~\\anaconda3\\envs\\torch\\lib\\site-packages\\pandas\\core\\indexes\\base.py\u001b[0m in \u001b[0;36mget_indexer\u001b[1;34m(self, target, method, limit, tolerance)\u001b[0m\n\u001b[0;32m   3440\u001b[0m \u001b[1;33m\u001b[0m\u001b[0m\n\u001b[0;32m   3441\u001b[0m         \u001b[1;32mif\u001b[0m \u001b[1;32mnot\u001b[0m \u001b[0mself\u001b[0m\u001b[1;33m.\u001b[0m\u001b[0m_index_as_unique\u001b[0m\u001b[1;33m:\u001b[0m\u001b[1;33m\u001b[0m\u001b[1;33m\u001b[0m\u001b[0m\n\u001b[1;32m-> 3442\u001b[1;33m             \u001b[1;32mraise\u001b[0m \u001b[0mInvalidIndexError\u001b[0m\u001b[1;33m(\u001b[0m\u001b[0mself\u001b[0m\u001b[1;33m.\u001b[0m\u001b[0m_requires_unique_msg\u001b[0m\u001b[1;33m)\u001b[0m\u001b[1;33m\u001b[0m\u001b[1;33m\u001b[0m\u001b[0m\n\u001b[0m\u001b[0;32m   3443\u001b[0m \u001b[1;33m\u001b[0m\u001b[0m\n\u001b[0;32m   3444\u001b[0m         \u001b[1;32mif\u001b[0m \u001b[1;32mnot\u001b[0m \u001b[0mself\u001b[0m\u001b[1;33m.\u001b[0m\u001b[0m_should_compare\u001b[0m\u001b[1;33m(\u001b[0m\u001b[0mtarget\u001b[0m\u001b[1;33m)\u001b[0m \u001b[1;32mand\u001b[0m \u001b[1;32mnot\u001b[0m \u001b[0mis_interval_dtype\u001b[0m\u001b[1;33m(\u001b[0m\u001b[0mself\u001b[0m\u001b[1;33m.\u001b[0m\u001b[0mdtype\u001b[0m\u001b[1;33m)\u001b[0m\u001b[1;33m:\u001b[0m\u001b[1;33m\u001b[0m\u001b[1;33m\u001b[0m\u001b[0m\n",
      "\u001b[1;31mInvalidIndexError\u001b[0m: Reindexing only valid with uniquely valued Index objects"
     ]
    }
   ],
   "source": [
    "data = pd.DataFrame(columns=['index','title','topic_idx','topic_idx'])\n",
    "\n",
    "for js in range(len(lst_dics)):\n",
    "    for i in lst_dics[js]['document']:\n",
    "        if i['metadata']['topic'] in ['연예','미용/건강']:\n",
    "            continue\n",
    "        title= i['paragraph'][0]['form'].strip('\"')\n",
    "#         if i['metadata']['topic'] in ['스포츠']:\n",
    "#             sports = sports.append(pd.DataFrame(data=[[None, title, 5]], columns=['index', 'title','topic_idx']))\n",
    "#         else:    \n",
    "#             data = data.append(pd.DataFrame(data=[[None, title]], columns=['index', 'title']))\n",
    "\n",
    "        data = data.append(pd.DataFrame(data=[[None, title, topic_dic[i['metadata']['topic']]]], columns=['index', 'title', 'topic_idx']))\n",
    "    dt_now = datetime.datetime.now()\n",
    "    print(\"{} is done. {1:>20}\".format(js, dt_now))\n"
   ]
  },
  {
   "cell_type": "code",
   "execution_count": 8,
   "id": "935c49d9-23d9-4407-9dcc-ded151072f90",
   "metadata": {},
   "outputs": [],
   "source": [
    "data.to_csv('./additional_data/everyones_corpus.csv')"
   ]
  },
  {
   "cell_type": "markdown",
   "id": "9aac766e-a874-4b46-a435-8aca59840b5e",
   "metadata": {},
   "source": [
    "## 데이터셋 병합"
   ]
  },
  {
   "cell_type": "code",
   "execution_count": 1,
   "id": "53686fe5-346f-4fce-9cca-db477984026c",
   "metadata": {},
   "outputs": [],
   "source": [
    "import preprocessing.prepro as pp\n",
    "import pandas as pd"
   ]
  },
  {
   "cell_type": "code",
   "execution_count": 2,
   "id": "830b54c3-2044-4dc6-a3f1-f9393b948dce",
   "metadata": {},
   "outputs": [],
   "source": [
    "path1 = './additional_data/everyones_corpus_sports.csv'\n",
    "path2 = './additional_data/everyones_corpus.csv'"
   ]
  },
  {
   "cell_type": "code",
   "execution_count": 3,
   "id": "a97d0ccf-2ec2-47cb-86b2-4578fa1cf479",
   "metadata": {},
   "outputs": [],
   "source": [
    "new_data = pp.mergeData(path1, path2, isTopic=False)"
   ]
  },
  {
   "cell_type": "code",
   "execution_count": null,
   "id": "5d20cd4a-09c9-4a7c-933a-3385a0f8cd27",
   "metadata": {},
   "outputs": [],
   "source": [
    "new_data.sample(5)"
   ]
  },
  {
   "cell_type": "code",
   "execution_count": 13,
   "id": "dbc1d8ef-7ed3-4302-9e02-9179918f297e",
   "metadata": {},
   "outputs": [],
   "source": [
    "#저장 \n",
    "test_switched_data.index = test_switched_data['index']\n",
    "test_switched_data.drop(columns=['index']).to_csv(\"./data/new_test_data.csv\")"
   ]
  },
  {
   "cell_type": "markdown",
   "id": "ce706486-f7cf-4f9c-98fb-5faf2ee9412b",
   "metadata": {},
   "source": [
    "# 모두의 말뭉치 신문데이터 전처리"
   ]
  },
  {
   "cell_type": "code",
   "execution_count": null,
   "id": "d646bb63-ca55-499d-9dcd-0ab6a3fcc5e2",
   "metadata": {},
   "outputs": [],
   "source": []
  },
  {
   "cell_type": "code",
   "execution_count": null,
   "id": "3a0c304a-3796-4018-bbd3-e3231999b734",
   "metadata": {},
   "outputs": [],
   "source": []
  },
  {
   "cell_type": "markdown",
   "id": "66c4e16e-77f6-485d-a5d1-65bc439611a6",
   "metadata": {},
   "source": [
    "# =========================="
   ]
  },
  {
   "cell_type": "code",
   "execution_count": null,
   "id": "3ef6c9dc-1350-4ba8-a57a-071fac3ebbac",
   "metadata": {},
   "outputs": [],
   "source": []
  }
 ],
 "metadata": {
  "kernelspec": {
   "display_name": "torch",
   "language": "python",
   "name": "torch"
  },
  "language_info": {
   "codemirror_mode": {
    "name": "ipython",
    "version": 3
   },
   "file_extension": ".py",
   "mimetype": "text/x-python",
   "name": "python",
   "nbconvert_exporter": "python",
   "pygments_lexer": "ipython3",
   "version": "3.9.5"
  }
 },
 "nbformat": 4,
 "nbformat_minor": 5
}
