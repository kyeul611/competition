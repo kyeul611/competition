{
 "cells": [
  {
   "cell_type": "markdown",
   "id": "bf25946a-4a01-49d5-ae9a-608a531140df",
   "metadata": {},
   "source": [
    "## This code from [here](https://dacon.io/competitions/official/235747/codeshare/3054?page=1&dtype=recent).\n",
    "\n",
    "적용 스킬"
   ]
  },
  {
   "cell_type": "code",
   "execution_count": 17,
   "id": "eebd8b09-b1fe-4bad-a62a-86ea0a59ff6a",
   "metadata": {},
   "outputs": [],
   "source": [
    "# load data\n",
    "import pandas as pd\n",
    "import matplotlib.pyplot as plt\n",
    "\n",
    "train = pd.read_csv('../data/train_data.csv')\n",
    "test = pd.read_csv('../data/test_data.csv')"
   ]
  },
  {
   "cell_type": "code",
   "execution_count": 2,
   "id": "2e40b8d5-2760-4023-b4de-eb0478bd690e",
   "metadata": {
    "scrolled": true
   },
   "outputs": [
    {
     "data": {
      "text/html": [
       "<div>\n",
       "<style scoped>\n",
       "    .dataframe tbody tr th:only-of-type {\n",
       "        vertical-align: middle;\n",
       "    }\n",
       "\n",
       "    .dataframe tbody tr th {\n",
       "        vertical-align: top;\n",
       "    }\n",
       "\n",
       "    .dataframe thead th {\n",
       "        text-align: right;\n",
       "    }\n",
       "</style>\n",
       "<table border=\"1\" class=\"dataframe\">\n",
       "  <thead>\n",
       "    <tr style=\"text-align: right;\">\n",
       "      <th></th>\n",
       "      <th>index</th>\n",
       "      <th>title</th>\n",
       "      <th>topic_idx</th>\n",
       "    </tr>\n",
       "  </thead>\n",
       "  <tbody>\n",
       "    <tr>\n",
       "      <th>0</th>\n",
       "      <td>0</td>\n",
       "      <td>인천→핀란드 항공기 결항…휴가철 여행객 분통</td>\n",
       "      <td>4</td>\n",
       "    </tr>\n",
       "    <tr>\n",
       "      <th>1</th>\n",
       "      <td>1</td>\n",
       "      <td>실리콘밸리 넘어서겠다…구글 15조원 들여 美전역 거점화</td>\n",
       "      <td>4</td>\n",
       "    </tr>\n",
       "    <tr>\n",
       "      <th>2</th>\n",
       "      <td>2</td>\n",
       "      <td>이란 외무 긴장완화 해결책은 미국이 경제전쟁 멈추는 것</td>\n",
       "      <td>4</td>\n",
       "    </tr>\n",
       "    <tr>\n",
       "      <th>3</th>\n",
       "      <td>3</td>\n",
       "      <td>NYT 클린턴 측근韓기업 특수관계 조명…공과 사 맞물려종합</td>\n",
       "      <td>4</td>\n",
       "    </tr>\n",
       "    <tr>\n",
       "      <th>4</th>\n",
       "      <td>4</td>\n",
       "      <td>시진핑 트럼프에 중미 무역협상 조속 타결 희망</td>\n",
       "      <td>4</td>\n",
       "    </tr>\n",
       "  </tbody>\n",
       "</table>\n",
       "</div>"
      ],
      "text/plain": [
       "   index                             title  topic_idx\n",
       "0      0          인천→핀란드 항공기 결항…휴가철 여행객 분통          4\n",
       "1      1    실리콘밸리 넘어서겠다…구글 15조원 들여 美전역 거점화          4\n",
       "2      2    이란 외무 긴장완화 해결책은 미국이 경제전쟁 멈추는 것          4\n",
       "3      3  NYT 클린턴 측근韓기업 특수관계 조명…공과 사 맞물려종합          4\n",
       "4      4         시진핑 트럼프에 중미 무역협상 조속 타결 희망          4"
      ]
     },
     "execution_count": 2,
     "metadata": {},
     "output_type": "execute_result"
    }
   ],
   "source": [
    "train.head()"
   ]
  },
  {
   "cell_type": "code",
   "execution_count": 2,
   "id": "38f17b6e-db96-4a21-a337-2fab2f5cda03",
   "metadata": {},
   "outputs": [
    {
     "data": {
      "text/html": [
       "<div>\n",
       "<style scoped>\n",
       "    .dataframe tbody tr th:only-of-type {\n",
       "        vertical-align: middle;\n",
       "    }\n",
       "\n",
       "    .dataframe tbody tr th {\n",
       "        vertical-align: top;\n",
       "    }\n",
       "\n",
       "    .dataframe thead th {\n",
       "        text-align: right;\n",
       "    }\n",
       "</style>\n",
       "<table border=\"1\" class=\"dataframe\">\n",
       "  <thead>\n",
       "    <tr style=\"text-align: right;\">\n",
       "      <th></th>\n",
       "      <th>topic</th>\n",
       "      <th>topic_idx</th>\n",
       "    </tr>\n",
       "  </thead>\n",
       "  <tbody>\n",
       "    <tr>\n",
       "      <th>0</th>\n",
       "      <td>IT과학</td>\n",
       "      <td>0</td>\n",
       "    </tr>\n",
       "    <tr>\n",
       "      <th>1</th>\n",
       "      <td>경제</td>\n",
       "      <td>1</td>\n",
       "    </tr>\n",
       "    <tr>\n",
       "      <th>2</th>\n",
       "      <td>사회</td>\n",
       "      <td>2</td>\n",
       "    </tr>\n",
       "    <tr>\n",
       "      <th>3</th>\n",
       "      <td>생활문화</td>\n",
       "      <td>3</td>\n",
       "    </tr>\n",
       "    <tr>\n",
       "      <th>4</th>\n",
       "      <td>세계</td>\n",
       "      <td>4</td>\n",
       "    </tr>\n",
       "    <tr>\n",
       "      <th>5</th>\n",
       "      <td>스포츠</td>\n",
       "      <td>5</td>\n",
       "    </tr>\n",
       "    <tr>\n",
       "      <th>6</th>\n",
       "      <td>정치</td>\n",
       "      <td>6</td>\n",
       "    </tr>\n",
       "  </tbody>\n",
       "</table>\n",
       "</div>"
      ],
      "text/plain": [
       "  topic  topic_idx\n",
       "0  IT과학          0\n",
       "1    경제          1\n",
       "2    사회          2\n",
       "3  생활문화          3\n",
       "4    세계          4\n",
       "5   스포츠          5\n",
       "6    정치          6"
      ]
     },
     "execution_count": 2,
     "metadata": {},
     "output_type": "execute_result"
    }
   ],
   "source": [
    "topic_dict = pd.read_csv(\"../data/topic_dict.csv\")\n",
    "topic_dict"
   ]
  },
  {
   "cell_type": "markdown",
   "id": "c8a26a21-c173-44b2-9354-972a91165c4f",
   "metadata": {},
   "source": [
    "## EDA"
   ]
  },
  {
   "cell_type": "code",
   "execution_count": 5,
   "id": "d8d46c05-0fd2-4112-a2a2-c69012ed3d6a",
   "metadata": {},
   "outputs": [
    {
     "data": {
      "text/plain": [
       "topic_idx\n",
       "4    7629\n",
       "2    7362\n",
       "5    6933\n",
       "6    6751\n",
       "1    6222\n",
       "3    5933\n",
       "0    4824\n",
       "Name: count, dtype: int64"
      ]
     },
     "execution_count": 5,
     "metadata": {},
     "output_type": "execute_result"
    }
   ],
   "source": [
    "train['topic_idx'].value_counts()"
   ]
  },
  {
   "cell_type": "code",
   "execution_count": 8,
   "id": "65ab8e11-ea44-42eb-8626-813a790228db",
   "metadata": {},
   "outputs": [
    {
     "data": {
      "text/plain": [
       "topic_idx\n",
       "4    0.167105\n",
       "2    0.161256\n",
       "5    0.151860\n",
       "6    0.147873\n",
       "1    0.136286\n",
       "3    0.129956\n",
       "0    0.105664\n",
       "Name: proportion, dtype: float64"
      ]
     },
     "execution_count": 8,
     "metadata": {},
     "output_type": "execute_result"
    }
   ],
   "source": [
    "train['topic_idx'].value_counts(normalize=True)"
   ]
  },
  {
   "cell_type": "code",
   "execution_count": 9,
   "id": "39081bc5-b94e-4db7-9b19-d09678cc189f",
   "metadata": {},
   "outputs": [
    {
     "data": {
      "text/plain": [
       "index        0\n",
       "title        0\n",
       "topic_idx    0\n",
       "dtype: int64"
      ]
     },
     "execution_count": 9,
     "metadata": {},
     "output_type": "execute_result"
    }
   ],
   "source": [
    "train.isnull().sum()"
   ]
  },
  {
   "cell_type": "code",
   "execution_count": 20,
   "id": "4ae23443-0491-4e17-83ad-f8397b8c20dd",
   "metadata": {},
   "outputs": [],
   "source": [
    "train['title_length'] = train['title'].apply(lambda x: len(x))"
   ]
  },
  {
   "cell_type": "code",
   "execution_count": 21,
   "id": "2c7940e9-b65b-488b-9b85-bc2848cbf654",
   "metadata": {},
   "outputs": [
    {
     "data": {
      "text/plain": [
       "count    45654.000000\n",
       "mean        27.330552\n",
       "std          4.968172\n",
       "min          4.000000\n",
       "25%         25.000000\n",
       "50%         28.000000\n",
       "75%         31.000000\n",
       "max         44.000000\n",
       "Name: title_length, dtype: float64"
      ]
     },
     "execution_count": 21,
     "metadata": {},
     "output_type": "execute_result"
    }
   ],
   "source": [
    "train['title_length'].describe()"
   ]
  },
  {
   "cell_type": "code",
   "execution_count": 22,
   "id": "8611fca5-22be-475a-baf0-ca620f627104",
   "metadata": {},
   "outputs": [
    {
     "data": {
      "text/html": [
       "<div>\n",
       "<style scoped>\n",
       "    .dataframe tbody tr th:only-of-type {\n",
       "        vertical-align: middle;\n",
       "    }\n",
       "\n",
       "    .dataframe tbody tr th {\n",
       "        vertical-align: top;\n",
       "    }\n",
       "\n",
       "    .dataframe thead th {\n",
       "        text-align: right;\n",
       "    }\n",
       "</style>\n",
       "<table border=\"1\" class=\"dataframe\">\n",
       "  <thead>\n",
       "    <tr style=\"text-align: right;\">\n",
       "      <th></th>\n",
       "      <th>index</th>\n",
       "      <th>title</th>\n",
       "      <th>topic_idx</th>\n",
       "      <th>title_length</th>\n",
       "    </tr>\n",
       "  </thead>\n",
       "  <tbody>\n",
       "    <tr>\n",
       "      <th>0</th>\n",
       "      <td>0</td>\n",
       "      <td>인천→핀란드 항공기 결항…휴가철 여행객 분통</td>\n",
       "      <td>4</td>\n",
       "      <td>24</td>\n",
       "    </tr>\n",
       "    <tr>\n",
       "      <th>1</th>\n",
       "      <td>1</td>\n",
       "      <td>실리콘밸리 넘어서겠다…구글 15조원 들여 美전역 거점화</td>\n",
       "      <td>4</td>\n",
       "      <td>30</td>\n",
       "    </tr>\n",
       "    <tr>\n",
       "      <th>2</th>\n",
       "      <td>2</td>\n",
       "      <td>이란 외무 긴장완화 해결책은 미국이 경제전쟁 멈추는 것</td>\n",
       "      <td>4</td>\n",
       "      <td>30</td>\n",
       "    </tr>\n",
       "    <tr>\n",
       "      <th>3</th>\n",
       "      <td>3</td>\n",
       "      <td>NYT 클린턴 측근韓기업 특수관계 조명…공과 사 맞물려종합</td>\n",
       "      <td>4</td>\n",
       "      <td>32</td>\n",
       "    </tr>\n",
       "    <tr>\n",
       "      <th>4</th>\n",
       "      <td>4</td>\n",
       "      <td>시진핑 트럼프에 중미 무역협상 조속 타결 희망</td>\n",
       "      <td>4</td>\n",
       "      <td>25</td>\n",
       "    </tr>\n",
       "  </tbody>\n",
       "</table>\n",
       "</div>"
      ],
      "text/plain": [
       "   index                             title  topic_idx  title_length\n",
       "0      0          인천→핀란드 항공기 결항…휴가철 여행객 분통          4            24\n",
       "1      1    실리콘밸리 넘어서겠다…구글 15조원 들여 美전역 거점화          4            30\n",
       "2      2    이란 외무 긴장완화 해결책은 미국이 경제전쟁 멈추는 것          4            30\n",
       "3      3  NYT 클린턴 측근韓기업 특수관계 조명…공과 사 맞물려종합          4            32\n",
       "4      4         시진핑 트럼프에 중미 무역협상 조속 타결 희망          4            25"
      ]
     },
     "execution_count": 22,
     "metadata": {},
     "output_type": "execute_result"
    }
   ],
   "source": [
    "train.head()"
   ]
  },
  {
   "cell_type": "code",
   "execution_count": 23,
   "id": "691041aa-d128-4d78-8482-eb2446cf68ee",
   "metadata": {},
   "outputs": [
    {
     "data": {
      "text/plain": [
       "<Axes: ylabel='Frequency'>"
      ]
     },
     "execution_count": 23,
     "metadata": {},
     "output_type": "execute_result"
    },
    {
     "data": {
      "image/png": "[encoded data removed]",
      "text/plain": [
       "<Figure size 640x480 with 1 Axes>"
      ]
     },
     "metadata": {},
     "output_type": "display_data"
    }
   ],
   "source": [
    "train['title_length'].plot(kind='hist')"
   ]
  },
  {
   "cell_type": "code",
   "execution_count": 34,
   "id": "0529b1f8-16de-452c-a975-50e80dfbf8b3",
   "metadata": {},
   "outputs": [
    {
     "data": {
      "text/html": [
       "<div>\n",
       "<style scoped>\n",
       "    .dataframe tbody tr th:only-of-type {\n",
       "        vertical-align: middle;\n",
       "    }\n",
       "\n",
       "    .dataframe tbody tr th {\n",
       "        vertical-align: top;\n",
       "    }\n",
       "\n",
       "    .dataframe thead th {\n",
       "        text-align: right;\n",
       "    }\n",
       "</style>\n",
       "<table border=\"1\" class=\"dataframe\">\n",
       "  <thead>\n",
       "    <tr style=\"text-align: right;\">\n",
       "      <th></th>\n",
       "      <th>index</th>\n",
       "      <th>title</th>\n",
       "      <th>topic_idx</th>\n",
       "      <th>title_length</th>\n",
       "    </tr>\n",
       "  </thead>\n",
       "  <tbody>\n",
       "    <tr>\n",
       "      <th>120</th>\n",
       "      <td>120</td>\n",
       "      <td>정의당 아베정권 규탄한다</td>\n",
       "      <td>6</td>\n",
       "      <td>13</td>\n",
       "    </tr>\n",
       "    <tr>\n",
       "      <th>207</th>\n",
       "      <td>207</td>\n",
       "      <td>본회의 출석한 염동열</td>\n",
       "      <td>6</td>\n",
       "      <td>11</td>\n",
       "    </tr>\n",
       "    <tr>\n",
       "      <th>209</th>\n",
       "      <td>209</td>\n",
       "      <td>박원순 선거사무소 개소식</td>\n",
       "      <td>6</td>\n",
       "      <td>13</td>\n",
       "    </tr>\n",
       "    <tr>\n",
       "      <th>323</th>\n",
       "      <td>323</td>\n",
       "      <td>인사말하는 민병욱 이사장</td>\n",
       "      <td>6</td>\n",
       "      <td>13</td>\n",
       "    </tr>\n",
       "    <tr>\n",
       "      <th>426</th>\n",
       "      <td>426</td>\n",
       "      <td>북악산 산행하는 문 대통령</td>\n",
       "      <td>6</td>\n",
       "      <td>14</td>\n",
       "    </tr>\n",
       "    <tr>\n",
       "      <th>...</th>\n",
       "      <td>...</td>\n",
       "      <td>...</td>\n",
       "      <td>...</td>\n",
       "      <td>...</td>\n",
       "    </tr>\n",
       "    <tr>\n",
       "      <th>45411</th>\n",
       "      <td>45411</td>\n",
       "      <td>농진청 신품종 땅콩 개발</td>\n",
       "      <td>0</td>\n",
       "      <td>13</td>\n",
       "    </tr>\n",
       "    <tr>\n",
       "      <th>45434</th>\n",
       "      <td>45434</td>\n",
       "      <td>퀄컴 5G 컨셉트 차</td>\n",
       "      <td>0</td>\n",
       "      <td>11</td>\n",
       "    </tr>\n",
       "    <tr>\n",
       "      <th>45452</th>\n",
       "      <td>45452</td>\n",
       "      <td>부산대 통합기계관 폐쇄</td>\n",
       "      <td>2</td>\n",
       "      <td>12</td>\n",
       "    </tr>\n",
       "    <tr>\n",
       "      <th>45565</th>\n",
       "      <td>45565</td>\n",
       "      <td>눈 내린 화순 동구리 호수</td>\n",
       "      <td>3</td>\n",
       "      <td>14</td>\n",
       "    </tr>\n",
       "    <tr>\n",
       "      <th>45615</th>\n",
       "      <td>45615</td>\n",
       "      <td>프로농구연맹 어시스터 모집</td>\n",
       "      <td>5</td>\n",
       "      <td>14</td>\n",
       "    </tr>\n",
       "  </tbody>\n",
       "</table>\n",
       "<p>851 rows × 4 columns</p>\n",
       "</div>"
      ],
      "text/plain": [
       "       index           title  topic_idx  title_length\n",
       "120      120   정의당 아베정권 규탄한다          6            13\n",
       "207      207     본회의 출석한 염동열          6            11\n",
       "209      209   박원순 선거사무소 개소식          6            13\n",
       "323      323   인사말하는 민병욱 이사장          6            13\n",
       "426      426  북악산 산행하는 문 대통령          6            14\n",
       "...      ...             ...        ...           ...\n",
       "45411  45411   농진청 신품종 땅콩 개발          0            13\n",
       "45434  45434     퀄컴 5G 컨셉트 차          0            11\n",
       "45452  45452    부산대 통합기계관 폐쇄          2            12\n",
       "45565  45565  눈 내린 화순 동구리 호수          3            14\n",
       "45615  45615  프로농구연맹 어시스터 모집          5            14\n",
       "\n",
       "[851 rows x 4 columns]"
      ]
     },
     "execution_count": 34,
     "metadata": {},
     "output_type": "execute_result"
    }
   ],
   "source": [
    "train[(train['title_length'] > 10) & (train['title_length'] < 15)]"
   ]
  },
  {
   "cell_type": "code",
   "execution_count": 35,
   "id": "9615de39-a80b-43e0-91e9-7b2869a6c9c8",
   "metadata": {},
   "outputs": [],
   "source": [
    "# Main Tokenizer used in RobertaModel\n",
    "from transformers import BertTokenizer\n",
    "tokenizer = BertTokenizer.from_pretrained('klue/roberta-large')"
   ]
  },
  {
   "cell_type": "markdown",
   "id": "b6a98b88-6542-4476-b013-61cd9801173b",
   "metadata": {},
   "source": [
    "## 데이터 전처리"
   ]
  },
  {
   "cell_type": "code",
   "execution_count": 36,
   "id": "a790d24a-f622-4b21-aed8-1e19c9710a0c",
   "metadata": {},
   "outputs": [],
   "source": [
    "from collections import Counter"
   ]
  },
  {
   "cell_type": "code",
   "execution_count": 37,
   "id": "707937e7-4fdc-45dc-90c7-8407c91eba75",
   "metadata": {},
   "outputs": [
    {
     "data": {
      "text/plain": [
       "[('美', 1498),\n",
       " ('北', 1329),\n",
       " ('中', 795),\n",
       " ('朴', 661),\n",
       " ('日', 467),\n",
       " ('靑', 381),\n",
       " ('與', 291),\n",
       " ('英', 285),\n",
       " ('文', 184),\n",
       " ('野', 181),\n",
       " ('獨', 138),\n",
       " ('伊', 127),\n",
       " ('韓', 109),\n",
       " ('前', 95),\n",
       " ('佛', 92)]"
      ]
     },
     "execution_count": 37,
     "metadata": {},
     "output_type": "execute_result"
    }
   ],
   "source": [
    "# 한자 빈도수 확인\n",
    "import re\n",
    "k = []\n",
    "\n",
    "for i in range(0, len(train)):\n",
    "    a = re.findall('[一-龥]', train['title'][i])\n",
    "    if len(a) !=0:\n",
    "        k=[*k, *a]\n",
    "Counter(k).most_common()[:15] # 각 원소의 갯수를 반환"
   ]
  },
  {
   "cell_type": "code",
   "execution_count": 38,
   "id": "b49227f5-3349-4427-9fa7-8fd38bcef7c9",
   "metadata": {},
   "outputs": [
    {
     "data": {
      "text/plain": [
       "7648"
      ]
     },
     "execution_count": 38,
     "metadata": {},
     "output_type": "execute_result"
    }
   ],
   "source": [
    "len(k)"
   ]
  },
  {
   "cell_type": "code",
   "execution_count": 7,
   "id": "def36b23-f584-417c-988e-1557ca4da6ac",
   "metadata": {},
   "outputs": [
    {
     "name": "stdout",
     "output_type": "stream",
     "text": [
      "[]\n",
      "[]\n",
      "[0]\n",
      "[0]\n",
      "[0, 1]\n",
      "[0, 0, 1]\n",
      "[0, 1, 2]\n",
      "[0, 0, 1, 0, 1, 2]\n"
     ]
    },
    {
     "data": {
      "text/plain": [
       "[(0, 3), (1, 2), (2, 1)]"
      ]
     },
     "execution_count": 7,
     "metadata": {},
     "output_type": "execute_result"
    }
   ],
   "source": [
    "test = []\n",
    "\n",
    "for i in range(4):\n",
    "    a = [x for x in range(i)]\n",
    "    print(a)\n",
    "    test = [*test, *a] # list에 list 원소를 모두 넣음. 단 원소만!\n",
    "    print(test)\n",
    "\n",
    "Counter(test).most_common() # 각 원소의 중복되는 갯수를 보여줌/ value_counts()"
   ]
  },
  {
   "cell_type": "code",
   "execution_count": 39,
   "id": "58fb60f3-26fd-4afd-b3bc-d942360f6d75",
   "metadata": {
    "scrolled": true
   },
   "outputs": [],
   "source": [
    "# 한자를 한글로 치환\n",
    "\n",
    "# index 저장\n",
    "# replace할 때 반복문을 줄이기 위해?\n",
    "hanja_idx = []\n",
    "for i in range(0, len(train)):\n",
    "    a = re.findall('[一-龥]', train['title'][i])\n",
    "    \n",
    "    if len(a)!=0:\n",
    "        # print(a, i)\n",
    "        hanja_idx.append(i)\n",
    "\n",
    "# 치환\n",
    "def replace_all(text, dic):\n",
    "    for i, j in dic.items():\n",
    "        text = text.replace(i, j)\n",
    "    return text\n",
    "\n",
    "d = { \"中\": \"중국\", \"美\": \"미국\",\"北\":\"북한\",'日':\"일본\",'英':'영국','行':'행','靑':'청와대','朴':'박근혜','銀':'은행','與':'여당',\n",
    "     '文':'문재인','野':'야당','獨':'독일','伊':'이탈리아','韓':'한국','佛':'프랑스','前':'전','檢':'검찰','軍':'군','安':'안철수','南':'남한',\n",
    "     '亞':'아시아','展':'전시회','重':'차','株':'주식','詩':'시'}"
   ]
  },
  {
   "cell_type": "code",
   "execution_count": 40,
   "id": "bcea9b32-3c8b-438d-a17e-56a3c449bbee",
   "metadata": {},
   "outputs": [
    {
     "data": {
      "text/plain": [
       "1                실리콘밸리 넘어서겠다…구글 15조원 들여 美전역 거점화\n",
       "3              NYT 클린턴 측근韓기업 특수관계 조명…공과 사 맞물려종합\n",
       "7     美대선 TV토론 음담패설 만회실패 트럼프…사과 대신 빌클린턴 공격해 역효과\n",
       "10                      日 오키나와서 열린 강제징용 노동자 추도식\n",
       "13               美올랜도 병원 최악 총기 테러 부상자 치료비 안 받는다\n",
       "14                      日 대기업 올해 평균 2.46% 임금 인상\n",
       "17                UAE 사우디 이어 美 호르무즈 호위 연합에 참여키로\n",
       "19              개천에서 용 나와라 美사업가 모교에 1천억원 장학금 기부\n",
       "20                 EU 브렉시트 합의 전 해야 할 일 많아…英에 경고\n",
       "22             트럼프 총기난사는 惡의 공격…총기규제 초당적 협력 촉구종합\n",
       "Name: title, dtype: object"
      ]
     },
     "execution_count": 40,
     "metadata": {},
     "output_type": "execute_result"
    }
   ],
   "source": [
    "train.iloc[hanja_idx, 1][:10]"
   ]
  },
  {
   "cell_type": "code",
   "execution_count": 41,
   "id": "1b5c60b9-22ac-4f85-b361-2518092eda55",
   "metadata": {},
   "outputs": [
    {
     "data": {
      "text/plain": [
       "'실리콘밸리 넘어서겠다…구글 15조원 들여  美 전역 거점화'"
      ]
     },
     "execution_count": 41,
     "metadata": {},
     "output_type": "execute_result"
    }
   ],
   "source": [
    "re.sub(r'([一-龥])', r' \\1 ', train.iloc[1, 1])"
   ]
  },
  {
   "cell_type": "code",
   "execution_count": 42,
   "id": "e384e525-c3d2-4fb1-a58f-e6c195c897af",
   "metadata": {},
   "outputs": [],
   "source": [
    "# 한자 앞뒤로 공백 추가\n",
    "for idx in hanja_idx:\n",
    "    train.iloc[idx, 1] = re.sub(r'([一-龥])', r' \\1 ', train.iloc[idx, 1])"
   ]
  },
  {
   "cell_type": "code",
   "execution_count": 43,
   "id": "62e51048-932c-4a6b-842c-200cf71bc392",
   "metadata": {},
   "outputs": [
    {
     "data": {
      "text/plain": [
       "['실리콘밸리 넘어서겠다…구글 15조원 들여  미국 전역 거점화',\n",
       " 'NYT 클린턴 측근 한국 기업 특수관계 조명…공과 사 맞물려종합',\n",
       " ' 미국 대선 TV토론 음담패설 만회실패 트럼프…사과 대신 빌클린턴 공격해 역효과',\n",
       " ' 일본  오키나와서 열린 강제징용 노동자 추도식',\n",
       " ' 미국 올랜도 병원 최악 총기 테러 부상자 치료비 안 받는다',\n",
       " ' 일본  대기업 올해 평균 2.46% 임금 인상',\n",
       " 'UAE 사우디 이어  미국  호르무즈 호위 연합에 참여키로',\n",
       " '개천에서 용 나와라  미국 사업가 모교에 1천억원 장학금 기부',\n",
       " 'EU 브렉시트 합의 전 해야 할 일 많아… 영국 에 경고',\n",
       " '트럼프 총기난사는  惡 의 공격…총기규제 초당적 협력 촉구종합']"
      ]
     },
     "execution_count": 43,
     "metadata": {},
     "output_type": "execute_result"
    }
   ],
   "source": [
    "kr_title = []\n",
    "for i in train.iloc[hanja_idx, 1]: # hanja_idx에 해당하는 title만 가져옴(1은 column 위치)\n",
    "    temp = replace_all(i, d)\n",
    "    kr_title.append(temp)\n",
    "kr_title[:10]"
   ]
  },
  {
   "cell_type": "code",
   "execution_count": 44,
   "id": "be47b133-9abd-4960-8762-207d16fd5dcc",
   "metadata": {
    "scrolled": true
   },
   "outputs": [],
   "source": [
    "# 한자-> 한글 치환 후 데이터 교체\n",
    "for idx, kr_t in zip(hanja_idx, kr_title):\n",
    "    train.iloc[idx, 1] = kr_t"
   ]
  },
  {
   "cell_type": "code",
   "execution_count": 45,
   "id": "5a7ff83c-f26b-40a1-957e-ea8b592154d6",
   "metadata": {},
   "outputs": [
    {
     "data": {
      "text/plain": [
       "1                실리콘밸리 넘어서겠다…구글 15조원 들여  미국 전역 거점화\n",
       "3              NYT 클린턴 측근 한국 기업 특수관계 조명…공과 사 맞물려종합\n",
       "7      미국 대선 TV토론 음담패설 만회실패 트럼프…사과 대신 빌클린턴 공격해 역효과\n",
       "10                       일본  오키나와서 열린 강제징용 노동자 추도식\n",
       "13                미국 올랜도 병원 최악 총기 테러 부상자 치료비 안 받는다\n",
       "14                       일본  대기업 올해 평균 2.46% 임금 인상\n",
       "17                UAE 사우디 이어  미국  호르무즈 호위 연합에 참여키로\n",
       "19              개천에서 용 나와라  미국 사업가 모교에 1천억원 장학금 기부\n",
       "20                 EU 브렉시트 합의 전 해야 할 일 많아… 영국 에 경고\n",
       "22              트럼프 총기난사는  惡 의 공격…총기규제 초당적 협력 촉구종합\n",
       "Name: title, dtype: object"
      ]
     },
     "execution_count": 45,
     "metadata": {},
     "output_type": "execute_result"
    }
   ],
   "source": [
    "train.iloc[hanja_idx, 1][:10]"
   ]
  },
  {
   "cell_type": "markdown",
   "id": "3743353c-c704-4867-b0c8-19b50eac49c2",
   "metadata": {},
   "source": [
    "## Processing Confused sentence\n",
    "\n",
    "문장 간 유사도가 높지만 레이블이 서로 다른 데이터를 찾아보자."
   ]
  },
  {
   "cell_type": "code",
   "execution_count": 46,
   "id": "e97efa00-c682-49c4-bea8-d0ed07846b9e",
   "metadata": {},
   "outputs": [],
   "source": [
    "train_data = train\n",
    "train_1_2_3 = train_data[(train_data['topic_idx']==1) | (train_data['topic_idx']==2) | (train_data['topic_idx']==3)]\n",
    "train_1_2_3_index = train_data[(train_data['topic_idx']==1) | (train_data['topic_idx']==2) | (train_data['topic_idx']==3)].index"
   ]
  },
  {
   "cell_type": "code",
   "execution_count": 47,
   "id": "c113c474-0831-4ba2-90e5-5e616b14613a",
   "metadata": {},
   "outputs": [
    {
     "data": {
      "text/html": [
       "<div>\n",
       "<style scoped>\n",
       "    .dataframe tbody tr th:only-of-type {\n",
       "        vertical-align: middle;\n",
       "    }\n",
       "\n",
       "    .dataframe tbody tr th {\n",
       "        vertical-align: top;\n",
       "    }\n",
       "\n",
       "    .dataframe thead th {\n",
       "        text-align: right;\n",
       "    }\n",
       "</style>\n",
       "<table border=\"1\" class=\"dataframe\">\n",
       "  <thead>\n",
       "    <tr style=\"text-align: right;\">\n",
       "      <th></th>\n",
       "      <th>index</th>\n",
       "      <th>title</th>\n",
       "      <th>topic_idx</th>\n",
       "      <th>title_length</th>\n",
       "    </tr>\n",
       "  </thead>\n",
       "  <tbody>\n",
       "    <tr>\n",
       "      <th>761</th>\n",
       "      <td>761</td>\n",
       "      <td>못믿을 아파트 관리비…경기 556곳서 150억 비리 적발종합</td>\n",
       "      <td>1</td>\n",
       "      <td>33</td>\n",
       "    </tr>\n",
       "    <tr>\n",
       "      <th>765</th>\n",
       "      <td>765</td>\n",
       "      <td>특징주 관리종목 해제 대우조선해양 강세</td>\n",
       "      <td>1</td>\n",
       "      <td>21</td>\n",
       "    </tr>\n",
       "    <tr>\n",
       "      <th>767</th>\n",
       "      <td>767</td>\n",
       "      <td>특징주 강원랜드 실적 부진에 급락종합</td>\n",
       "      <td>1</td>\n",
       "      <td>20</td>\n",
       "    </tr>\n",
       "    <tr>\n",
       "      <th>769</th>\n",
       "      <td>769</td>\n",
       "      <td>라면 수출 질주…올해 4억달러 첫 돌파 확실시</td>\n",
       "      <td>1</td>\n",
       "      <td>25</td>\n",
       "    </tr>\n",
       "    <tr>\n",
       "      <th>774</th>\n",
       "      <td>774</td>\n",
       "      <td>경기지표 부진 골드만삭스 한은 금리인상 예상시기 7→10월로종합</td>\n",
       "      <td>1</td>\n",
       "      <td>35</td>\n",
       "    </tr>\n",
       "    <tr>\n",
       "      <th>...</th>\n",
       "      <td>...</td>\n",
       "      <td>...</td>\n",
       "      <td>...</td>\n",
       "      <td>...</td>\n",
       "    </tr>\n",
       "    <tr>\n",
       "      <th>45649</th>\n",
       "      <td>45649</td>\n",
       "      <td>KB금융 미국 IB 스티펠과 제휴…선진국 시장 공략</td>\n",
       "      <td>1</td>\n",
       "      <td>28</td>\n",
       "    </tr>\n",
       "    <tr>\n",
       "      <th>45650</th>\n",
       "      <td>45650</td>\n",
       "      <td>1보 서울시교육청 신종코로나 확산에 개학 연기·휴업 검토</td>\n",
       "      <td>2</td>\n",
       "      <td>31</td>\n",
       "    </tr>\n",
       "    <tr>\n",
       "      <th>45651</th>\n",
       "      <td>45651</td>\n",
       "      <td>게시판 키움증권 2020 키움 영웅전 실전투자대회</td>\n",
       "      <td>1</td>\n",
       "      <td>27</td>\n",
       "    </tr>\n",
       "    <tr>\n",
       "      <th>45652</th>\n",
       "      <td>45652</td>\n",
       "      <td>답변하는 배기동 국립중앙박물관장</td>\n",
       "      <td>2</td>\n",
       "      <td>17</td>\n",
       "    </tr>\n",
       "    <tr>\n",
       "      <th>45653</th>\n",
       "      <td>45653</td>\n",
       "      <td>2020 한국인터넷기자상 시상식 내달 1일 개최…특별상 김성후</td>\n",
       "      <td>2</td>\n",
       "      <td>34</td>\n",
       "    </tr>\n",
       "  </tbody>\n",
       "</table>\n",
       "<p>19517 rows × 4 columns</p>\n",
       "</div>"
      ],
      "text/plain": [
       "       index                                title  topic_idx  title_length\n",
       "761      761    못믿을 아파트 관리비…경기 556곳서 150억 비리 적발종합          1            33\n",
       "765      765                특징주 관리종목 해제 대우조선해양 강세          1            21\n",
       "767      767                 특징주 강원랜드 실적 부진에 급락종합          1            20\n",
       "769      769            라면 수출 질주…올해 4억달러 첫 돌파 확실시          1            25\n",
       "774      774  경기지표 부진 골드만삭스 한은 금리인상 예상시기 7→10월로종합          1            35\n",
       "...      ...                                  ...        ...           ...\n",
       "45649  45649         KB금융 미국 IB 스티펠과 제휴…선진국 시장 공략          1            28\n",
       "45650  45650      1보 서울시교육청 신종코로나 확산에 개학 연기·휴업 검토          2            31\n",
       "45651  45651          게시판 키움증권 2020 키움 영웅전 실전투자대회          1            27\n",
       "45652  45652                    답변하는 배기동 국립중앙박물관장          2            17\n",
       "45653  45653   2020 한국인터넷기자상 시상식 내달 1일 개최…특별상 김성후          2            34\n",
       "\n",
       "[19517 rows x 4 columns]"
      ]
     },
     "execution_count": 47,
     "metadata": {},
     "output_type": "execute_result"
    }
   ],
   "source": [
    "train_1_2_3"
   ]
  },
  {
   "cell_type": "code",
   "execution_count": 48,
   "id": "4f87861e-1314-4197-b52a-ca02abf5c176",
   "metadata": {},
   "outputs": [
    {
     "data": {
      "text/plain": [
       "(19517, 45654)"
      ]
     },
     "execution_count": 48,
     "metadata": {},
     "output_type": "execute_result"
    }
   ],
   "source": [
    "len(train_1_2_3), len(train)"
   ]
  },
  {
   "cell_type": "code",
   "execution_count": 49,
   "id": "358b8c87-4d60-4d10-9bc7-67bb9d0f8e72",
   "metadata": {},
   "outputs": [
    {
     "data": {
      "text/plain": [
       "Index([  761,   765,   767,   769,   774,   777,   798,   802,   810,   811,\n",
       "       ...\n",
       "       45640, 45641, 45642, 45643, 45645, 45649, 45650, 45651, 45652, 45653],\n",
       "      dtype='int64', length=19517)"
      ]
     },
     "execution_count": 49,
     "metadata": {},
     "output_type": "execute_result"
    }
   ],
   "source": [
    "train_1_2_3_index"
   ]
  },
  {
   "cell_type": "code",
   "execution_count": 50,
   "id": "7f0b0a27-bcc1-484f-8c7f-ccc35716d7fa",
   "metadata": {
    "scrolled": true
   },
   "outputs": [
    {
     "name": "stderr",
     "output_type": "stream",
     "text": [
      "C:\\Users\\Kyeul\\AppData\\Local\\Temp\\ipykernel_12292\\2310442324.py:1: SettingWithCopyWarning: \n",
      "A value is trying to be set on a copy of a slice from a DataFrame.\n",
      "Try using .loc[row_indexer,col_indexer] = value instead\n",
      "\n",
      "See the caveats in the documentation: https://pandas.pydata.org/pandas-docs/stable/user_guide/indexing.html#returning-a-view-versus-a-copy\n",
      "  train_1_2_3['token_list'] = ''\n"
     ]
    }
   ],
   "source": [
    "train_1_2_3['token_list'] = ''\n",
    "train['token_list'] = ''\n",
    "for i in train_1_2_3_index:\n",
    "    token = tokenizer.tokenize(train_1_2_3.loc[i, 'title'])\n",
    "    train_1_2_3.loc[i, 'token_list'] = ' '.join(token)\n",
    "    train.loc[i, 'token_list'] = ' '.join(token)"
   ]
  },
  {
   "cell_type": "code",
   "execution_count": 51,
   "id": "4e2ddf57-cc69-4b1d-828c-9de81999584a",
   "metadata": {},
   "outputs": [
    {
     "data": {
      "text/html": [
       "<div>\n",
       "<style scoped>\n",
       "    .dataframe tbody tr th:only-of-type {\n",
       "        vertical-align: middle;\n",
       "    }\n",
       "\n",
       "    .dataframe tbody tr th {\n",
       "        vertical-align: top;\n",
       "    }\n",
       "\n",
       "    .dataframe thead th {\n",
       "        text-align: right;\n",
       "    }\n",
       "</style>\n",
       "<table border=\"1\" class=\"dataframe\">\n",
       "  <thead>\n",
       "    <tr style=\"text-align: right;\">\n",
       "      <th></th>\n",
       "      <th>index</th>\n",
       "      <th>title</th>\n",
       "      <th>topic_idx</th>\n",
       "      <th>title_length</th>\n",
       "      <th>token_list</th>\n",
       "    </tr>\n",
       "  </thead>\n",
       "  <tbody>\n",
       "    <tr>\n",
       "      <th>761</th>\n",
       "      <td>761</td>\n",
       "      <td>못믿을 아파트 관리비…경기 556곳서 150억 비리 적발종합</td>\n",
       "      <td>1</td>\n",
       "      <td>33</td>\n",
       "      <td>못 ##믿 ##을 아파트 관리비 … 경기 55 ##6 ##곳 ##서 150 ##억 ...</td>\n",
       "    </tr>\n",
       "    <tr>\n",
       "      <th>765</th>\n",
       "      <td>765</td>\n",
       "      <td>특징주 관리종목 해제 대우조선해양 강세</td>\n",
       "      <td>1</td>\n",
       "      <td>21</td>\n",
       "      <td>특징 ##주 관리 ##종 ##목 해제 대우 ##조선 ##해 ##양 강세</td>\n",
       "    </tr>\n",
       "    <tr>\n",
       "      <th>767</th>\n",
       "      <td>767</td>\n",
       "      <td>특징주 강원랜드 실적 부진에 급락종합</td>\n",
       "      <td>1</td>\n",
       "      <td>20</td>\n",
       "      <td>특징 ##주 강원랜드 실적 부진 ##에 급락 ##종합</td>\n",
       "    </tr>\n",
       "    <tr>\n",
       "      <th>769</th>\n",
       "      <td>769</td>\n",
       "      <td>라면 수출 질주…올해 4억달러 첫 돌파 확실시</td>\n",
       "      <td>1</td>\n",
       "      <td>25</td>\n",
       "      <td>라면 수출 질주 … 올해 4 ##억 ##달 ##러 첫 돌파 확실 ##시</td>\n",
       "    </tr>\n",
       "    <tr>\n",
       "      <th>774</th>\n",
       "      <td>774</td>\n",
       "      <td>경기지표 부진 골드만삭스 한은 금리인상 예상시기 7→10월로종합</td>\n",
       "      <td>1</td>\n",
       "      <td>35</td>\n",
       "      <td>경기 ##지 ##표 부진 골드만 ##삭 ##스 한은 금리 ##인 ##상 예상 ##시...</td>\n",
       "    </tr>\n",
       "    <tr>\n",
       "      <th>...</th>\n",
       "      <td>...</td>\n",
       "      <td>...</td>\n",
       "      <td>...</td>\n",
       "      <td>...</td>\n",
       "      <td>...</td>\n",
       "    </tr>\n",
       "    <tr>\n",
       "      <th>45649</th>\n",
       "      <td>45649</td>\n",
       "      <td>KB금융 미국 IB 스티펠과 제휴…선진국 시장 공략</td>\n",
       "      <td>1</td>\n",
       "      <td>28</td>\n",
       "      <td>KB ##금융 미국 IB 스티 ##펠 ##과 제휴 … 선진국 시장 공략</td>\n",
       "    </tr>\n",
       "    <tr>\n",
       "      <th>45650</th>\n",
       "      <td>45650</td>\n",
       "      <td>1보 서울시교육청 신종코로나 확산에 개학 연기·휴업 검토</td>\n",
       "      <td>2</td>\n",
       "      <td>31</td>\n",
       "      <td>1 ##보 서울시 ##교육 ##청 신종 ##코 ##로나 확산 ##에 개학 연기 · ...</td>\n",
       "    </tr>\n",
       "    <tr>\n",
       "      <th>45651</th>\n",
       "      <td>45651</td>\n",
       "      <td>게시판 키움증권 2020 키움 영웅전 실전투자대회</td>\n",
       "      <td>1</td>\n",
       "      <td>27</td>\n",
       "      <td>게시판 키움증권 2020 키움 영웅 ##전 실전 ##투자 ##대 ##회</td>\n",
       "    </tr>\n",
       "    <tr>\n",
       "      <th>45652</th>\n",
       "      <td>45652</td>\n",
       "      <td>답변하는 배기동 국립중앙박물관장</td>\n",
       "      <td>2</td>\n",
       "      <td>17</td>\n",
       "      <td>답변 ##하 ##는 배기 ##동 국립 ##중 ##앙 ##박 ##물 ##관 ##장</td>\n",
       "    </tr>\n",
       "    <tr>\n",
       "      <th>45653</th>\n",
       "      <td>45653</td>\n",
       "      <td>2020 한국인터넷기자상 시상식 내달 1일 개최…특별상 김성후</td>\n",
       "      <td>2</td>\n",
       "      <td>34</td>\n",
       "      <td>2020 한국인 ##터 ##넷 ##기 ##자 ##상 시상식 내달 1 ##일 개최 …...</td>\n",
       "    </tr>\n",
       "  </tbody>\n",
       "</table>\n",
       "<p>19517 rows × 5 columns</p>\n",
       "</div>"
      ],
      "text/plain": [
       "       index                                title  topic_idx  title_length  \\\n",
       "761      761    못믿을 아파트 관리비…경기 556곳서 150억 비리 적발종합          1            33   \n",
       "765      765                특징주 관리종목 해제 대우조선해양 강세          1            21   \n",
       "767      767                 특징주 강원랜드 실적 부진에 급락종합          1            20   \n",
       "769      769            라면 수출 질주…올해 4억달러 첫 돌파 확실시          1            25   \n",
       "774      774  경기지표 부진 골드만삭스 한은 금리인상 예상시기 7→10월로종합          1            35   \n",
       "...      ...                                  ...        ...           ...   \n",
       "45649  45649         KB금융 미국 IB 스티펠과 제휴…선진국 시장 공략          1            28   \n",
       "45650  45650      1보 서울시교육청 신종코로나 확산에 개학 연기·휴업 검토          2            31   \n",
       "45651  45651          게시판 키움증권 2020 키움 영웅전 실전투자대회          1            27   \n",
       "45652  45652                    답변하는 배기동 국립중앙박물관장          2            17   \n",
       "45653  45653   2020 한국인터넷기자상 시상식 내달 1일 개최…특별상 김성후          2            34   \n",
       "\n",
       "                                              token_list  \n",
       "761    못 ##믿 ##을 아파트 관리비 … 경기 55 ##6 ##곳 ##서 150 ##억 ...  \n",
       "765              특징 ##주 관리 ##종 ##목 해제 대우 ##조선 ##해 ##양 강세  \n",
       "767                        특징 ##주 강원랜드 실적 부진 ##에 급락 ##종합  \n",
       "769              라면 수출 질주 … 올해 4 ##억 ##달 ##러 첫 돌파 확실 ##시  \n",
       "774    경기 ##지 ##표 부진 골드만 ##삭 ##스 한은 금리 ##인 ##상 예상 ##시...  \n",
       "...                                                  ...  \n",
       "45649            KB ##금융 미국 IB 스티 ##펠 ##과 제휴 … 선진국 시장 공략  \n",
       "45650  1 ##보 서울시 ##교육 ##청 신종 ##코 ##로나 확산 ##에 개학 연기 · ...  \n",
       "45651            게시판 키움증권 2020 키움 영웅 ##전 실전 ##투자 ##대 ##회  \n",
       "45652       답변 ##하 ##는 배기 ##동 국립 ##중 ##앙 ##박 ##물 ##관 ##장  \n",
       "45653  2020 한국인 ##터 ##넷 ##기 ##자 ##상 시상식 내달 1 ##일 개최 …...  \n",
       "\n",
       "[19517 rows x 5 columns]"
      ]
     },
     "execution_count": 51,
     "metadata": {},
     "output_type": "execute_result"
    }
   ],
   "source": [
    "train_1_2_3"
   ]
  },
  {
   "cell_type": "code",
   "execution_count": 52,
   "id": "266a80b6-450b-4cba-9919-26317c150c91",
   "metadata": {},
   "outputs": [],
   "source": [
    "# 유사도 계산\n",
    "def return_similarity(a, b):\n",
    "    c = a.intersection(b) # 교집합\n",
    "    return float(len(c)) / (len(a) + len(b) - len(c))"
   ]
  },
  {
   "cell_type": "markdown",
   "id": "e6a4950e-b4d5-4646-860a-85db18f643bc",
   "metadata": {},
   "source": [
    "#### pandas intersection에 대해서는 아래 링크를 참고하자.\n",
    "https://herjh0405.tistory.com/85"
   ]
  },
  {
   "cell_type": "code",
   "execution_count": 53,
   "id": "e63664a2-2da1-4262-9fe1-0b9e9606922d",
   "metadata": {
    "scrolled": true
   },
   "outputs": [],
   "source": [
    "# index가 1, 2, 3인 데이터의 토큰을 set으로 만들어서 중복 제거\n",
    "# 이를 사용해 유사도를 구할 생각이다. \n",
    "set_train_log = [set(log.split()) for log in train['token_list']]"
   ]
  },
  {
   "cell_type": "code",
   "execution_count": 54,
   "id": "2b8c04ea-b6e1-4e38-b9d4-7f54a530964f",
   "metadata": {},
   "outputs": [
    {
     "name": "stderr",
     "output_type": "stream",
     "text": [
      "100%|████████████████████████████████████████████████████████████████████████████| 19517/19517 [04:59<00:00, 65.19it/s]\n"
     ]
    }
   ],
   "source": [
    "from tqdm import tqdm\n",
    "# 유사도가 높은 문장을 위한 DataFrame\n",
    "\n",
    "\n",
    "sim_idx = []\n",
    "sim_i = []\n",
    "sim_j = []\n",
    "top_i = []\n",
    "top_j = []\n",
    "\n",
    "# 만약 유사도가 0.5으면서 레이블이 다르면, 이것은 유사한 문장이라고 봐야한다.\n",
    "for i in tqdm(train_1_2_3_index):\n",
    "    for j in train_1_2_3_index:\n",
    "        if i == j:\n",
    "            continue\n",
    "        if ((return_similarity(set_train_log[i], set_train_log[j])) >= 0.5) and (train_1_2_3['topic_idx'][i]!=train_1_2_3['topic_idx'][j]):\n",
    "            top_i.append(train_1_2_3['topic_idx'][i])\n",
    "            top_j.append(train_1_2_3['topic_idx'][j])\n",
    "            sim_i.append(i)\n",
    "            sim_j.append(j)"
   ]
  },
  {
   "cell_type": "code",
   "execution_count": 55,
   "id": "a6257308-939f-4f69-bc6b-982e3d226398",
   "metadata": {},
   "outputs": [
    {
     "data": {
      "text/html": [
       "<div>\n",
       "<style scoped>\n",
       "    .dataframe tbody tr th:only-of-type {\n",
       "        vertical-align: middle;\n",
       "    }\n",
       "\n",
       "    .dataframe tbody tr th {\n",
       "        vertical-align: top;\n",
       "    }\n",
       "\n",
       "    .dataframe thead th {\n",
       "        text-align: right;\n",
       "    }\n",
       "</style>\n",
       "<table border=\"1\" class=\"dataframe\">\n",
       "  <thead>\n",
       "    <tr style=\"text-align: right;\">\n",
       "      <th></th>\n",
       "      <th>sent1_idx</th>\n",
       "      <th>sent2_idx</th>\n",
       "      <th>sent1</th>\n",
       "      <th>sent2</th>\n",
       "      <th>top_1</th>\n",
       "      <th>top_2</th>\n",
       "    </tr>\n",
       "  </thead>\n",
       "  <tbody>\n",
       "    <tr>\n",
       "      <th>0</th>\n",
       "      <td>928</td>\n",
       "      <td>9817</td>\n",
       "      <td>인사말 하는 황창규 회장</td>\n",
       "      <td>기조연설 하는 황창규 KT회장</td>\n",
       "      <td>1</td>\n",
       "      <td>2</td>\n",
       "    </tr>\n",
       "    <tr>\n",
       "      <th>1</th>\n",
       "      <td>928</td>\n",
       "      <td>13291</td>\n",
       "      <td>인사말 하는 황창규 회장</td>\n",
       "      <td>KT 부스 살펴보는 황창규 회장</td>\n",
       "      <td>1</td>\n",
       "      <td>2</td>\n",
       "    </tr>\n",
       "    <tr>\n",
       "      <th>2</th>\n",
       "      <td>1155</td>\n",
       "      <td>7900</td>\n",
       "      <td>네이버 CEO 아름다운 바통 터치</td>\n",
       "      <td>네이버 CEO 아름다운 바통 터치종합</td>\n",
       "      <td>1</td>\n",
       "      <td>2</td>\n",
       "    </tr>\n",
       "    <tr>\n",
       "      <th>3</th>\n",
       "      <td>1576</td>\n",
       "      <td>11793</td>\n",
       "      <td>경기도 11개 시 19시 오존주의보 해제</td>\n",
       "      <td>경기도 25개 시·군 오존주의보 모두 해제</td>\n",
       "      <td>3</td>\n",
       "      <td>2</td>\n",
       "    </tr>\n",
       "    <tr>\n",
       "      <th>4</th>\n",
       "      <td>1606</td>\n",
       "      <td>8075</td>\n",
       "      <td>삼성 새만금 투자약속 철회 진실 밝혀라 목소리 봇물</td>\n",
       "      <td>삼성 새만금 투자약속 철회 진실 밝혀라 목소리 봇물종합</td>\n",
       "      <td>1</td>\n",
       "      <td>2</td>\n",
       "    </tr>\n",
       "    <tr>\n",
       "      <th>...</th>\n",
       "      <td>...</td>\n",
       "      <td>...</td>\n",
       "      <td>...</td>\n",
       "      <td>...</td>\n",
       "      <td>...</td>\n",
       "      <td>...</td>\n",
       "    </tr>\n",
       "    <tr>\n",
       "      <th>243</th>\n",
       "      <td>43378</td>\n",
       "      <td>16697</td>\n",
       "      <td>거래소 지엔코 시황변동 조회공시 요구</td>\n",
       "      <td>거래소 대성산업에 시황변동 관련 조회공시 요구</td>\n",
       "      <td>1</td>\n",
       "      <td>2</td>\n",
       "    </tr>\n",
       "    <tr>\n",
       "      <th>244</th>\n",
       "      <td>43381</td>\n",
       "      <td>37874</td>\n",
       "      <td>그래픽 경력단절 여성 경제활동 실태</td>\n",
       "      <td>파주시 경력단절 여성 경제활동 촉진 조례 제정</td>\n",
       "      <td>1</td>\n",
       "      <td>2</td>\n",
       "    </tr>\n",
       "    <tr>\n",
       "      <th>245</th>\n",
       "      <td>43548</td>\n",
       "      <td>17796</td>\n",
       "      <td>한국작가회의 새 임원 선출… 이경자 이사장과 한창훈 사무총장</td>\n",
       "      <td>한국작가회의 새 이사장으로 선출된 이경자 작가</td>\n",
       "      <td>2</td>\n",
       "      <td>3</td>\n",
       "    </tr>\n",
       "    <tr>\n",
       "      <th>246</th>\n",
       "      <td>43559</td>\n",
       "      <td>21728</td>\n",
       "      <td>LH 청년·신혼부부 매입임대 6천850가구 입주자 모집</td>\n",
       "      <td>LH 신혼부부·청년주택 109가구 입주자 모집</td>\n",
       "      <td>2</td>\n",
       "      <td>1</td>\n",
       "    </tr>\n",
       "    <tr>\n",
       "      <th>247</th>\n",
       "      <td>43770</td>\n",
       "      <td>40523</td>\n",
       "      <td>청년내일채움공제 수기 공모전 시상식</td>\n",
       "      <td>청년내일채움공제 수기 공모전 시상식 참석한 임서정 차관</td>\n",
       "      <td>3</td>\n",
       "      <td>2</td>\n",
       "    </tr>\n",
       "  </tbody>\n",
       "</table>\n",
       "<p>248 rows × 6 columns</p>\n",
       "</div>"
      ],
      "text/plain": [
       "     sent1_idx  sent2_idx                              sent1  \\\n",
       "0          928       9817                      인사말 하는 황창규 회장   \n",
       "1          928      13291                      인사말 하는 황창규 회장   \n",
       "2         1155       7900                 네이버 CEO 아름다운 바통 터치   \n",
       "3         1576      11793             경기도 11개 시 19시 오존주의보 해제   \n",
       "4         1606       8075       삼성 새만금 투자약속 철회 진실 밝혀라 목소리 봇물   \n",
       "..         ...        ...                                ...   \n",
       "243      43378      16697               거래소 지엔코 시황변동 조회공시 요구   \n",
       "244      43381      37874                그래픽 경력단절 여성 경제활동 실태   \n",
       "245      43548      17796  한국작가회의 새 임원 선출… 이경자 이사장과 한창훈 사무총장   \n",
       "246      43559      21728     LH 청년·신혼부부 매입임대 6천850가구 입주자 모집   \n",
       "247      43770      40523                청년내일채움공제 수기 공모전 시상식   \n",
       "\n",
       "                              sent2  top_1  top_2  \n",
       "0                  기조연설 하는 황창규 KT회장      1      2  \n",
       "1                 KT 부스 살펴보는 황창규 회장      1      2  \n",
       "2              네이버 CEO 아름다운 바통 터치종합      1      2  \n",
       "3           경기도 25개 시·군 오존주의보 모두 해제      3      2  \n",
       "4    삼성 새만금 투자약속 철회 진실 밝혀라 목소리 봇물종합      1      2  \n",
       "..                              ...    ...    ...  \n",
       "243       거래소 대성산업에 시황변동 관련 조회공시 요구      1      2  \n",
       "244       파주시 경력단절 여성 경제활동 촉진 조례 제정      1      2  \n",
       "245       한국작가회의 새 이사장으로 선출된 이경자 작가      2      3  \n",
       "246       LH 신혼부부·청년주택 109가구 입주자 모집      2      1  \n",
       "247  청년내일채움공제 수기 공모전 시상식 참석한 임서정 차관      3      2  \n",
       "\n",
       "[248 rows x 6 columns]"
      ]
     },
     "execution_count": 55,
     "metadata": {},
     "output_type": "execute_result"
    }
   ],
   "source": [
    "# 의미적으로 같음에도 레이블이 다름\n",
    "\n",
    "diff_label = pd.DataFrame({'sent1_idx': sim_i, 'sent2_idx': sim_j, \n",
    "                           'sent1' : train_1_2_3['title'][sim_i].values, 'sent2' : train_1_2_3['title'][sim_j].values, \n",
    "                           'top_1': top_i, 'top_2': top_j})\n",
    "diff_label"
   ]
  },
  {
   "cell_type": "code",
   "execution_count": 55,
   "id": "82dfee5c-4b6d-4a1e-98f3-94a9140495e4",
   "metadata": {},
   "outputs": [],
   "source": [
    "import numpy as np\n",
    "np.save('sim_1_2_3_0.5_klue_bert.npy', diff_label)"
   ]
  },
  {
   "cell_type": "markdown",
   "id": "c149095a-ce3f-4abf-9f51-79014fc9c6d0",
   "metadata": {},
   "source": [
    "## Modeling & Prediction"
   ]
  },
  {
   "cell_type": "code",
   "execution_count": null,
   "id": "3e345650-6d23-497d-976d-13952f234932",
   "metadata": {},
   "outputs": [],
   "source": []
  }
 ],
 "metadata": {
  "kernelspec": {
   "display_name": "nlp",
   "language": "python",
   "name": "nlp"
  },
  "language_info": {
   "codemirror_mode": {
    "name": "ipython",
    "version": 3
   },
   "file_extension": ".py",
   "mimetype": "text/x-python",
   "name": "python",
   "nbconvert_exporter": "python",
   "pygments_lexer": "ipython3",
   "version": "3.11.4"
  }
 },
 "nbformat": 4,
 "nbformat_minor": 5
}
