{
 "cells": [
  {
   "cell_type": "markdown",
   "id": "d7563437-b0a0-49dc-9d6c-91e03bcf5ec1",
   "metadata": {},
   "source": [
    "텍스트 전처리\n",
    "1. 특수문자 처리\n",
    "    + 단위특수문자 -> 영어 \n",
    "    + 일반적 의미의 특수문자 -> 한글\n",
    "    + 숫자특수문자 -> 숫자"
   ]
  },
  {
   "cell_type": "code",
   "execution_count": 1,
   "id": "26395277-9936-4685-bd4e-2deca00154af",
   "metadata": {
    "tags": []
   },
   "outputs": [],
   "source": [
    "import numpy as np\n",
    "import pandas as pd\n",
    "import os\n",
    "import re\n",
    "import hanja\n",
    "import tqdm\n",
    "import multiprocessing\n",
    "import parmap\n",
    "import json\n",
    "import datetime\n",
    "import matplotlib.pyplot as plt\n",
    "import preprocessing.prepro as pp\n",
    "\n"
   ]
  },
  {
   "cell_type": "markdown",
   "id": "3cf8f13a-4398-468b-88aa-ed0a11c68a05",
   "metadata": {},
   "source": [
    "# 1. 외부 데이터 전처리"
   ]
  },
  {
   "cell_type": "markdown",
   "id": "02620c97-5bfc-4358-8ce3-8734f6f25555",
   "metadata": {},
   "source": [
    "### 1-1.네이버 뉴스 데이터\n",
    "출처: https://wikidocs.net/74913"
   ]
  },
  {
   "cell_type": "code",
   "execution_count": null,
   "id": "1a560f6d-cbf6-4ddd-bcc1-9b5bac3f642f",
   "metadata": {
    "tags": []
   },
   "outputs": [],
   "source": [
    "df = pd.DataFrame(columns=['file_name', 'title','topic_idx']).reset_index()\n",
    "\n",
    "root = \"./additional_data/newsData\"\n",
    "\n",
    "for path in os.listdir(root):\n",
    "    for file in os.listdir(os.path.join(root,path)):\n",
    "        with open(os.path.join(root, path, file), encoding='utf-8') as f:\n",
    "            content = f.read()\n",
    "            title = str(re.findall(\"^.+\\t\",content)[0]).rstrip('\\t')\n",
    "            title = re.sub(\"\\[.+]\",\"\",title)\n",
    "            df = df.append(pd.DataFrame(data=[[file, title, path]], columns=['file_name','title', 'topic_idx']))\n",
    "            "
   ]
  },
  {
   "cell_type": "markdown",
   "id": "8fddb549-ec60-470a-9b09-1658e5999e2b",
   "metadata": {},
   "source": [
    "df.to_csv(\"./additional_data/naverNews.csv\")"
   ]
  },
  {
   "cell_type": "markdown",
   "id": "a165c82d-a62d-4277-b564-6a95b84d80b1",
   "metadata": {},
   "source": [
    "### 1-2. 모두의 말뭉치\n",
    "출처: https://rlkujwkk7.toastcdn.net/14/NIKL_NEWSPAPER_2020_v1.0.pdf"
   ]
  },
  {
   "cell_type": "code",
   "execution_count": 13,
   "id": "1d777574-f243-46b9-8ff6-1560364dd02e",
   "metadata": {},
   "outputs": [],
   "source": [
    "topic_dic = {\n",
    "    'IT/과학':0,\n",
    "    '경제':1,\n",
    "    '사회':2,\n",
    "    '생활':3,\n",
    "    '문화':3,\n",
    "    '스포츠':5,\n",
    "    '정치':6\n",
    "}"
   ]
  },
  {
   "cell_type": "code",
   "execution_count": 11,
   "id": "2014b1c4-d107-4473-91b0-a5efb6616ffb",
   "metadata": {},
   "outputs": [],
   "source": [
    "lst_dics = []\n",
    "path ='./additional_data/신문_말뭉치_1/' \n",
    "for jfile in os.listdir(path):\n",
    "    with open(path+jfile, mode='r', errors='ignore', encoding='utf-8') as json_file:\n",
    "        lst_dics.append(json.load(json_file))"
   ]
  },
  {
   "cell_type": "code",
   "execution_count": 12,
   "id": "3495fe7b-9c68-4331-8462-c3fa6691bd4a",
   "metadata": {},
   "outputs": [
    {
     "data": {
      "text/plain": [
       "35"
      ]
     },
     "execution_count": 12,
     "metadata": {},
     "output_type": "execute_result"
    }
   ],
   "source": [
    "len(lst_dics)"
   ]
  },
  {
   "cell_type": "code",
   "execution_count": 23,
   "id": "d6212ed0-1386-4cb6-a8a7-a3ef0a36273c",
   "metadata": {
    "collapsed": true,
    "jupyter": {
     "outputs_hidden": true
    },
    "tags": []
   },
   "outputs": [
    {
     "name": "stdout",
     "output_type": "stream",
     "text": [
      " 0 is done. 2021-07-26 12:32:23.637380\n",
      " 1 is done. 2021-07-26 12:32:48.385958\n",
      " 2 is done. 2021-07-26 12:33:07.136274\n",
      " 3 is done. 2021-07-26 12:33:21.730980\n",
      " 4 is done. 2021-07-26 12:34:48.690672\n",
      " 5 is done. 2021-07-26 12:35:31.564981\n",
      " 6 is done. 2021-07-26 12:35:52.091072\n",
      " 7 is done. 2021-07-26 12:39:03.585305\n",
      " 8 is done. 2021-07-26 12:39:36.352501\n",
      " 9 is done. 2021-07-26 12:40:57.094355\n",
      "10 is done. 2021-07-26 12:42:48.912658\n",
      "11 is done. 2021-07-26 12:43:57.906103\n",
      "12 is done. 2021-07-26 12:45:44.057133\n",
      "13 is done. 2021-07-26 12:47:27.921524\n",
      "14 is done. 2021-07-26 12:48:18.844753\n",
      "15 is done. 2021-07-26 12:53:04.810627\n",
      "16 is done. 2021-07-26 12:54:10.417806\n",
      "17 is done. 2021-07-26 12:56:12.460899\n",
      "18 is done. 2021-07-26 12:59:09.400349\n",
      "19 is done. 2021-07-26 13:03:57.632592\n",
      "20 is done. 2021-07-26 13:06:03.338642\n",
      "21 is done. 2021-07-26 13:07:18.980546\n",
      "22 is done. 2021-07-26 13:10:12.356434\n",
      "23 is done. 2021-07-26 13:14:19.467884\n",
      "24 is done. 2021-07-26 13:17:23.597637\n",
      "25 is done. 2021-07-26 13:20:51.579834\n",
      "26 is done. 2021-07-26 13:22:44.690851\n",
      "27 is done. 2021-07-26 13:30:35.788237\n",
      "28 is done. 2021-07-26 13:31:44.628960\n",
      "29 is done. 2021-07-26 13:36:26.345094\n",
      "30 is done. 2021-07-26 13:52:56.397928\n",
      "31 is done. 2021-07-26 13:57:56.772623\n",
      "32 is done. 2021-07-26 14:06:32.189374\n",
      "33 is done. 2021-07-26 14:16:25.230201\n",
      "34 is done. 2021-07-26 14:34:23.172104\n"
     ]
    }
   ],
   "source": [
    "data = pd.DataFrame(columns=['index','title','topic_idx'])\n",
    "\n",
    "for js in range(len(lst_dics)):\n",
    "    for i in lst_dics[js]['document']:\n",
    "        topic = i['metadata']['topic']\n",
    "        \n",
    "        if topic in ['연예','미용/건강']:\n",
    "            continue\n",
    "        \n",
    "        title= i['paragraph'][0]['form'].strip('\"')\n",
    "#         if i['metadata']['topic'] in ['스포츠']:\n",
    "#             sports = sports.append(pd.DataFrame(data=[[None, title, 5]], columns=['index', 'title','topic_idx']))\n",
    "#         else:    \n",
    "#             data = data.append(pd.DataFrame(data=[[None, title]], columns=['index', 'title']))\n",
    "\n",
    "        data = data.append(pd.DataFrame(data=[[None, title, topic_dic[topic]]], columns=['index', 'title', 'topic_idx']))\n",
    "    dt_now = datetime.datetime.now()\n",
    "    print(\"{:>2} is done. {}\".format(js, dt_now))\n"
   ]
  },
  {
   "cell_type": "code",
   "execution_count": 2,
   "id": "935c49d9-23d9-4407-9dcc-ded151072f90",
   "metadata": {
    "collapsed": true,
    "jupyter": {
     "outputs_hidden": true
    },
    "tags": []
   },
   "outputs": [
    {
     "ename": "NameError",
     "evalue": "name 'data' is not defined",
     "output_type": "error",
     "traceback": [
      "\u001b[1;31m---------------------------------------------------------------------------\u001b[0m",
      "\u001b[1;31mNameError\u001b[0m                                 Traceback (most recent call last)",
      "\u001b[1;32m<ipython-input-2-7af2d0d0f43d>\u001b[0m in \u001b[0;36m<module>\u001b[1;34m\u001b[0m\n\u001b[1;32m----> 1\u001b[1;33m \u001b[0mdata\u001b[0m\u001b[1;33m.\u001b[0m\u001b[0mto_csv\u001b[0m\u001b[1;33m(\u001b[0m\u001b[1;34m'./additional_data/everyones_corpus_2019+.csv'\u001b[0m\u001b[1;33m)\u001b[0m\u001b[1;33m\u001b[0m\u001b[1;33m\u001b[0m\u001b[0m\n\u001b[0m",
      "\u001b[1;31mNameError\u001b[0m: name 'data' is not defined"
     ]
    }
   ],
   "source": [
    "data.to_csv('./additional_data/everyones_corpus_2019+.csv')"
   ]
  },
  {
   "cell_type": "code",
   "execution_count": 11,
   "id": "16624cbe-aed7-4dfb-92e0-80df23654ed0",
   "metadata": {},
   "outputs": [],
   "source": [
    "everyones = pd.read_csv('./additional_data/everyones_corpus_2019+.csv')"
   ]
  },
  {
   "cell_type": "code",
   "execution_count": 20,
   "id": "b530fa46-2ed5-46dc-8070-bd29f6a3f786",
   "metadata": {},
   "outputs": [
    {
     "data": {
      "image/png": "[encoded data removed]",
      "text/plain": [
       "<Figure size 432x288 with 1 Axes>"
      ]
     },
     "metadata": {
      "needs_background": "light"
     },
     "output_type": "display_data"
    }
   ],
   "source": [
    "length = []\n",
    "for i in list(np.array(everyones['title'].tolist())):\n",
    "    length.append(len(i))\n",
    "plt.hist(length)\n",
    "plt.show()"
   ]
  },
  {
   "cell_type": "code",
   "execution_count": 22,
   "id": "a54c331e-51ec-4ac5-8367-730ecc2c77ec",
   "metadata": {},
   "outputs": [],
   "source": [
    "drop_idx = []\n",
    "content = list(everyones.title.values)\n",
    "for i in range(len(content)):\n",
    "    if len(content[i]) < 15 or len(content[i]) >36:\n",
    "        drop_idx.append(i)    "
   ]
  },
  {
   "cell_type": "code",
   "execution_count": 23,
   "id": "f2037fc9-008b-41c2-8ede-b57ac8a21b19",
   "metadata": {},
   "outputs": [
    {
     "data": {
      "text/plain": [
       "106726"
      ]
     },
     "execution_count": 23,
     "metadata": {},
     "output_type": "execute_result"
    }
   ],
   "source": [
    "len(drop_idx)"
   ]
  },
  {
   "cell_type": "code",
   "execution_count": 26,
   "id": "ab855cf9-ea0e-44dd-a8db-35bd9eebc16c",
   "metadata": {},
   "outputs": [],
   "source": [
    "everyones = everyones.drop(drop_idx)"
   ]
  },
  {
   "cell_type": "code",
   "execution_count": 27,
   "id": "b7d7d5a4-4057-4a52-a0b9-a1822a3274c1",
   "metadata": {},
   "outputs": [
    {
     "data": {
      "image/png": "[encoded data removed]",
      "text/plain": [
       "<Figure size 432x288 with 1 Axes>"
      ]
     },
     "metadata": {
      "needs_background": "light"
     },
     "output_type": "display_data"
    }
   ],
   "source": [
    "length = []\n",
    "for i in list(np.array(everyones['title'].tolist())):\n",
    "    length.append(len(i))\n",
    "plt.hist(length)\n",
    "plt.show()"
   ]
  },
  {
   "cell_type": "code",
   "execution_count": 30,
   "id": "172d11ba-9b6b-4da2-99b1-45843bd9b2ba",
   "metadata": {},
   "outputs": [
    {
     "name": "stderr",
     "output_type": "stream",
     "text": [
      "100%|███████████████████████████████████████████████████████████████████████| 465149/465149 [1:00:58<00:00, 127.15it/s]\n"
     ]
    }
   ],
   "source": [
    "replaced_data = pp.replaceChar(everyones)"
   ]
  },
  {
   "cell_type": "code",
   "execution_count": 31,
   "id": "f8951415-c00f-4bc3-a109-9af6fe9ef81d",
   "metadata": {},
   "outputs": [],
   "source": [
    "replaced_data.to_csv('./additional_data/everyones_corpus_2019+.csv')"
   ]
  },
  {
   "cell_type": "code",
   "execution_count": null,
   "id": "0b96d6d5-9c21-44f8-ba23-59d6a2171b25",
   "metadata": {},
   "outputs": [],
   "source": [
    "dataLength = []\n",
    "for i in sorted(list(np.array(replaced_data['title'].tolist())), key=len, reverse=True):\n",
    "    dataLength.append(len(i))\n"
   ]
  },
  {
   "cell_type": "code",
   "execution_count": null,
   "id": "990cfe36-6ba7-4c35-a026-c014c558156c",
   "metadata": {
    "tags": []
   },
   "outputs": [],
   "source": [
    "max()ataLength"
   ]
  },
  {
   "cell_type": "markdown",
   "id": "754f1f2d-e923-4234-af3f-0b7d07d0efe1",
   "metadata": {},
   "source": [
    "# 문자열 치환"
   ]
  },
  {
   "cell_type": "code",
   "execution_count": 48,
   "id": "63057fc2-80ad-4e85-9f3b-0b6ad8e093ad",
   "metadata": {},
   "outputs": [],
   "source": [
    "train_data = pd.read_csv('./data/klue-ynat-test.csv')"
   ]
  },
  {
   "cell_type": "code",
   "execution_count": 49,
   "id": "db853a18-c533-47b7-a27a-1e392b4aae69",
   "metadata": {},
   "outputs": [
    {
     "name": "stderr",
     "output_type": "stream",
     "text": [
      "100%|█████████████████████████████████████████████████████████████████████████████| 9107/9107 [00:12<00:00, 751.48it/s]\n"
     ]
    }
   ],
   "source": [
    "replaced_data = pp.replaceChar(train_data)"
   ]
  },
  {
   "cell_type": "code",
   "execution_count": 50,
   "id": "c545efd0-561b-4a0f-ac19-b532d07f627d",
   "metadata": {},
   "outputs": [],
   "source": [
    "replaced_data.to_csv('./data/new_klue-ynat-test.csv')"
   ]
  },
  {
   "cell_type": "markdown",
   "id": "db77c220-b65d-4346-9333-9bf6bc2eb9eb",
   "metadata": {},
   "source": [
    "# 숫자 제거"
   ]
  },
  {
   "cell_type": "code",
   "execution_count": 76,
   "id": "de3784d4-934b-41d4-b9a7-6dab78af6799",
   "metadata": {},
   "outputs": [],
   "source": [
    "data = pd.read_csv('./data/new_klue-ynat-test.csv')"
   ]
  },
  {
   "cell_type": "code",
   "execution_count": 77,
   "id": "890336f0-08ff-4ed1-b0ea-e68736c052ad",
   "metadata": {
    "collapsed": true,
    "jupyter": {
     "outputs_hidden": true
    },
    "tags": []
   },
   "outputs": [
    {
     "name": "stderr",
     "output_type": "stream",
     "text": [
      "<ipython-input-77-19f04603abbb>:2: SettingWithCopyWarning: \n",
      "A value is trying to be set on a copy of a slice from a DataFrame\n",
      "\n",
      "See the caveats in the documentation: https://pandas.pydata.org/pandas-docs/stable/user_guide/indexing.html#returning-a-view-versus-a-copy\n",
      "  data.title[i] = re.sub(\"[^가-힣a-zA-Z\\ ]\", \"\", data.title[i])\n"
     ]
    }
   ],
   "source": [
    "for i in range(len(data.title.values)):\n",
    "    data.title[i] = re.sub(\"[^가-힣a-zA-Z\\ ]\", \"\", data.title[i])"
   ]
  },
  {
   "cell_type": "code",
   "execution_count": 79,
   "id": "597ab45c-1cdf-492f-9944-7ad4c8271909",
   "metadata": {},
   "outputs": [],
   "source": [
    "data.to_csv('./data/ynat_test_data_prepro_num_char.csv')"
   ]
  },
  {
   "cell_type": "markdown",
   "id": "b1ba1378-d9a5-4b48-a203-47abd4df3625",
   "metadata": {},
   "source": [
    "# 띄어쓰기 교정"
   ]
  },
  {
   "cell_type": "code",
   "execution_count": 8,
   "id": "15ec2365-a49e-41b0-8cd1-4afcc3af430c",
   "metadata": {},
   "outputs": [],
   "source": [
    "data = pd.read_csv('./data/test_data.rep.csv')"
   ]
  },
  {
   "cell_type": "code",
   "execution_count": 9,
   "id": "5f33d9a8-82a6-4e89-8241-4a3d139d2596",
   "metadata": {},
   "outputs": [
    {
     "name": "stderr",
     "output_type": "stream",
     "text": [
      "100%|██████████████████████████████████████████████████████████████████████████████| 9131/9131 [03:35<00:00, 42.37it/s]\n"
     ]
    }
   ],
   "source": [
    "sents = data.title.values\n",
    "\n",
    "data['title'] = pp.spellcheck(sents)"
   ]
  },
  {
   "cell_type": "code",
   "execution_count": 10,
   "id": "19ab740f-12e6-4643-94f1-4029eda67091",
   "metadata": {},
   "outputs": [],
   "source": [
    "data.to_csv('./data/test_data.rep.spac.csv')"
   ]
  },
  {
   "cell_type": "markdown",
   "id": "9aac766e-a874-4b46-a435-8aca59840b5e",
   "metadata": {},
   "source": [
    "## 데이터셋 병합"
   ]
  },
  {
   "cell_type": "code",
   "execution_count": 1,
   "id": "53686fe5-346f-4fce-9cca-db477984026c",
   "metadata": {},
   "outputs": [],
   "source": [
    "import preprocessing.prepro as pp\n",
    "import pandas as pd"
   ]
  },
  {
   "cell_type": "code",
   "execution_count": 34,
   "id": "830b54c3-2044-4dc6-a3f1-f9393b948dce",
   "metadata": {},
   "outputs": [],
   "source": [
    "path1 = './additional_data/everyones_corpus_2019+.csv'\n",
    "path2 = './data/new_train_data.csv'"
   ]
  },
  {
   "cell_type": "code",
   "execution_count": 35,
   "id": "a97d0ccf-2ec2-47cb-86b2-4578fa1cf479",
   "metadata": {},
   "outputs": [],
   "source": [
    "new_data = pp.mergeData(path1, path2, isTopic=True)"
   ]
  },
  {
   "cell_type": "code",
   "execution_count": 42,
   "id": "f8228ff1-2038-4f9e-add1-91423cc1e8ff",
   "metadata": {},
   "outputs": [],
   "source": [
    "new_data=new_data.drop_duplicates(['title'])"
   ]
  },
  {
   "cell_type": "code",
   "execution_count": 44,
   "id": "dbc1d8ef-7ed3-4302-9e02-9179918f297e",
   "metadata": {},
   "outputs": [],
   "source": [
    "#저장 \n",
    "new_data.index = new_data['index']\n",
    "new_data.drop(columns=['index']).to_csv(\"./data/everyone_naver_train.csv\")"
   ]
  },
  {
   "cell_type": "markdown",
   "id": "ce706486-f7cf-4f9c-98fb-5faf2ee9412b",
   "metadata": {},
   "source": [
    "# 2. KLUE TESTset 전처리 (평가용도)"
   ]
  },
  {
   "cell_type": "code",
   "execution_count": null,
   "id": "d646bb63-ca55-499d-9dcd-0ab6a3fcc5e2",
   "metadata": {},
   "outputs": [],
   "source": [
    "path = './additional_data/KLUE-ynat/ynat-v1_dev.json'\n",
    "klue_ynat = []\n",
    "with open(path, mode='r', errors='ignore', encoding='utf-8') as json_file:\n",
    "    klue_ynat.append(json.load(json_file))"
   ]
  },
  {
   "cell_type": "code",
   "execution_count": null,
   "id": "3a0c304a-3796-4018-bbd3-e3231999b734",
   "metadata": {},
   "outputs": [],
   "source": [
    "topic_dic = {\n",
    "    'IT과학':0,\n",
    "    '경제':1,\n",
    "    '사회':2,\n",
    "    '생활문화':3,\n",
    "    '세계':4,\n",
    "    '스포츠':5,\n",
    "    '정치':6\n",
    "}"
   ]
  },
  {
   "cell_type": "code",
   "execution_count": null,
   "id": "3ef6c9dc-1350-4ba8-a57a-071fac3ebbac",
   "metadata": {},
   "outputs": [],
   "source": [
    "data = pd.DataFrame(columns=['title','topic_idx'])\n",
    "content = klue_ynat[0]\n",
    "\n",
    "for num in tqdm.tqdm(range(len(content))):\n",
    "    topic = content[num]['predefined_news_category']\n",
    "    title= content[num]['title']\n",
    "\n",
    "    data = data.append(pd.DataFrame(data=[[title, topic_dic[topic]]], columns=['title', 'topic_idx']))"
   ]
  },
  {
   "cell_type": "markdown",
   "id": "66c4e16e-77f6-485d-a5d1-65bc439611a6",
   "metadata": {},
   "source": [
    "# =========================="
   ]
  },
  {
   "cell_type": "code",
   "execution_count": null,
   "id": "8dbd894c-be04-40dc-99d5-4ceef2590f81",
   "metadata": {},
   "outputs": [],
   "source": []
  }
 ],
 "metadata": {
  "kernelspec": {
   "display_name": "torch",
   "language": "python",
   "name": "torch"
  },
  "language_info": {
   "codemirror_mode": {
    "name": "ipython",
    "version": 3
   },
   "file_extension": ".py",
   "mimetype": "text/x-python",
   "name": "python",
   "nbconvert_exporter": "python",
   "pygments_lexer": "ipython3",
   "version": "3.9.5"
  }
 },
 "nbformat": 4,
 "nbformat_minor": 5
}
